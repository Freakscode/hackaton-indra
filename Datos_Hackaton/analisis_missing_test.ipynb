{
 "cells": [
  {
   "cell_type": "markdown",
   "metadata": {},
   "source": [
    "# Diccionario de variables"
   ]
  },
  {
   "cell_type": "markdown",
   "metadata": {},
   "source": [
    "- id_colaborador - Identificador único del colaborador.\n",
    "- id_ultimo_jefe - Identificador único del que corresponde al jefe o responsable.\n",
    "- seniority - 1: Para quienes no tienen personal a su cargo, 2: Para los que sí tienen.\n",
    "- modalidad_trabajo - Es la modalidad de trabajo especificada en el contrato del colaborador.\n",
    "- distancia_oficina - Es la distancia en kilómetros que debe recorrer el colaborador desde su hogar para llegar a su sede.\n",
    "- dias_baja_salud - Es el número de días de bajas justificadas por enfermedad desde que inició labores.\n",
    "- genero - Especifica si es Hombre o Mujer\n",
    "- canal_reclutamiento - Indica el medio por el cual se dio el proceso de postulación.\n",
    "- permanencia_promedio - Es el tiempo promedio en años que el colaborador duró en sus experiencias laborales anteriores.\n",
    "- fecha_nacimiento - Es la fecha de nacimiento en formato dd/mm/aaaa.\n",
    "- salario - Es el monto correspondiente a la remuneración mensual percibida.\n",
    "- psi_score - Es el puntaje obtenido en el test psicométrico durante el proceso de selección.\n",
    "- fecha_incorporación - Se refiere al día en el que el colaborador comienza oficialmente a trabajar en la empresa.\n",
    "- estado_civil - Se refiere a la situación legal en términos de relaciones personales formales reconocidas por la ley.\n",
    "- performance_score - Es el puntaje obtenido por el colaborador en su última evaluación trimestral si tuviera.\n",
    "- abandono_6meses - Es igual a \"0\" si continua laborando ó \"1\" si ya dejó la compañía en sus primeros 6 meses"
   ]
  },
  {
   "cell_type": "markdown",
   "metadata": {},
   "source": [
    "# Carga de Datos"
   ]
  },
  {
   "cell_type": "code",
   "execution_count": 2,
   "metadata": {},
   "outputs": [],
   "source": [
    "# Librerias\n",
    "import pandas as pd\n",
    "import numpy as np\n",
    "import seaborn as sns\n",
    "import matplotlib.pyplot as plt\n",
    "import missingno"
   ]
  },
  {
   "cell_type": "code",
   "execution_count": 3,
   "metadata": {},
   "outputs": [],
   "source": [
    "# Tamano de las graficas\n",
    "sns.set(\n",
    "    rc={\n",
    "        'figure.figsize':(9, 9)\n",
    "    }\n",
    ")"
   ]
  },
  {
   "cell_type": "code",
   "execution_count": 4,
   "metadata": {},
   "outputs": [],
   "source": [
    "# Estilo de graficas\n",
    "sns.set_theme(style=\"whitegrid\")"
   ]
  },
  {
   "cell_type": "code",
   "execution_count": 5,
   "metadata": {},
   "outputs": [
    {
     "data": {
      "text/html": [
       "<div>\n",
       "<style scoped>\n",
       "    .dataframe tbody tr th:only-of-type {\n",
       "        vertical-align: middle;\n",
       "    }\n",
       "\n",
       "    .dataframe tbody tr th {\n",
       "        vertical-align: top;\n",
       "    }\n",
       "\n",
       "    .dataframe thead th {\n",
       "        text-align: right;\n",
       "    }\n",
       "</style>\n",
       "<table border=\"1\" class=\"dataframe\">\n",
       "  <thead>\n",
       "    <tr style=\"text-align: right;\">\n",
       "      <th></th>\n",
       "      <th>id_colaborador</th>\n",
       "      <th>id_ultimo_jefe</th>\n",
       "      <th>seniority</th>\n",
       "      <th>modalidad_trabajo</th>\n",
       "      <th>distancia_oficina</th>\n",
       "      <th>dias_baja_salud</th>\n",
       "      <th>genero</th>\n",
       "      <th>canal_reclutamiento</th>\n",
       "      <th>permanencia_promedio</th>\n",
       "      <th>fecha_nacimiento</th>\n",
       "      <th>salario</th>\n",
       "      <th>performance_score</th>\n",
       "      <th>psi_score</th>\n",
       "      <th>fecha_incorporacion</th>\n",
       "      <th>estado_civil</th>\n",
       "    </tr>\n",
       "  </thead>\n",
       "  <tbody>\n",
       "    <tr>\n",
       "      <th>0</th>\n",
       "      <td>100486</td>\n",
       "      <td>102115.0</td>\n",
       "      <td>1</td>\n",
       "      <td>Híbrida</td>\n",
       "      <td>0.795</td>\n",
       "      <td>2</td>\n",
       "      <td>Hombre</td>\n",
       "      <td>Ferias &amp; Networking</td>\n",
       "      <td>2</td>\n",
       "      <td>19/01/1997</td>\n",
       "      <td>181654</td>\n",
       "      <td>99</td>\n",
       "      <td>81</td>\n",
       "      <td>24/07/2021</td>\n",
       "      <td>Soltero</td>\n",
       "    </tr>\n",
       "    <tr>\n",
       "      <th>1</th>\n",
       "      <td>103752</td>\n",
       "      <td>102074.0</td>\n",
       "      <td>1</td>\n",
       "      <td>Híbrida</td>\n",
       "      <td>1.715</td>\n",
       "      <td>1</td>\n",
       "      <td>Mujer</td>\n",
       "      <td>Ferias &amp; Networking</td>\n",
       "      <td>1</td>\n",
       "      <td>20/08/1999</td>\n",
       "      <td>140986</td>\n",
       "      <td>97</td>\n",
       "      <td>75</td>\n",
       "      <td>27/01/2018</td>\n",
       "      <td>Soltero</td>\n",
       "    </tr>\n",
       "    <tr>\n",
       "      <th>2</th>\n",
       "      <td>103937</td>\n",
       "      <td>102150.0</td>\n",
       "      <td>1</td>\n",
       "      <td>Híbrida</td>\n",
       "      <td>2.375</td>\n",
       "      <td>1</td>\n",
       "      <td>Hombre</td>\n",
       "      <td>Portal Web</td>\n",
       "      <td>6</td>\n",
       "      <td>29/10/1984</td>\n",
       "      <td>406690</td>\n",
       "      <td>96</td>\n",
       "      <td>69</td>\n",
       "      <td>24/04/2022</td>\n",
       "      <td>Soltero</td>\n",
       "    </tr>\n",
       "    <tr>\n",
       "      <th>3</th>\n",
       "      <td>101744</td>\n",
       "      <td>102172.0</td>\n",
       "      <td>1</td>\n",
       "      <td>Híbrida</td>\n",
       "      <td>2.185</td>\n",
       "      <td>3</td>\n",
       "      <td>Hombre</td>\n",
       "      <td>Linkedin</td>\n",
       "      <td>3</td>\n",
       "      <td>9/11/1992</td>\n",
       "      <td>249107</td>\n",
       "      <td>95</td>\n",
       "      <td>73</td>\n",
       "      <td>23/05/2023</td>\n",
       "      <td>Casado</td>\n",
       "    </tr>\n",
       "    <tr>\n",
       "      <th>4</th>\n",
       "      <td>101037</td>\n",
       "      <td>102060.0</td>\n",
       "      <td>1</td>\n",
       "      <td>Híbrida</td>\n",
       "      <td>4.660</td>\n",
       "      <td>3</td>\n",
       "      <td>Hombre</td>\n",
       "      <td>Referidos</td>\n",
       "      <td>10</td>\n",
       "      <td>14/07/1969</td>\n",
       "      <td>698318</td>\n",
       "      <td>95</td>\n",
       "      <td>81</td>\n",
       "      <td>20/06/2015</td>\n",
       "      <td>Viudo</td>\n",
       "    </tr>\n",
       "  </tbody>\n",
       "</table>\n",
       "</div>"
      ],
      "text/plain": [
       "   id_colaborador  id_ultimo_jefe  seniority modalidad_trabajo  \\\n",
       "0          100486        102115.0          1           Híbrida   \n",
       "1          103752        102074.0          1           Híbrida   \n",
       "2          103937        102150.0          1           Híbrida   \n",
       "3          101744        102172.0          1           Híbrida   \n",
       "4          101037        102060.0          1           Híbrida   \n",
       "\n",
       "   distancia_oficina  dias_baja_salud  genero  canal_reclutamiento  \\\n",
       "0              0.795                2  Hombre  Ferias & Networking   \n",
       "1              1.715                1   Mujer  Ferias & Networking   \n",
       "2              2.375                1  Hombre           Portal Web   \n",
       "3              2.185                3  Hombre             Linkedin   \n",
       "4              4.660                3  Hombre            Referidos   \n",
       "\n",
       "   permanencia_promedio fecha_nacimiento  salario  performance_score  \\\n",
       "0                     2       19/01/1997   181654                 99   \n",
       "1                     1       20/08/1999   140986                 97   \n",
       "2                     6       29/10/1984   406690                 96   \n",
       "3                     3        9/11/1992   249107                 95   \n",
       "4                    10       14/07/1969   698318                 95   \n",
       "\n",
       "   psi_score fecha_incorporacion estado_civil  \n",
       "0         81          24/07/2021      Soltero  \n",
       "1         75          27/01/2018      Soltero  \n",
       "2         69          24/04/2022      Soltero  \n",
       "3         73          23/05/2023       Casado  \n",
       "4         81          20/06/2015        Viudo  "
      ]
     },
     "execution_count": 5,
     "metadata": {},
     "output_type": "execute_result"
    }
   ],
   "source": [
    "# carga de datos\n",
    "df = pd.read_csv('../Datos_Hackaton/test_data.csv', sep=';')\n",
    "df.head()"
   ]
  },
  {
   "cell_type": "code",
   "execution_count": 6,
   "metadata": {},
   "outputs": [
    {
     "data": {
      "text/plain": [
       "(2020, 15)"
      ]
     },
     "execution_count": 6,
     "metadata": {},
     "output_type": "execute_result"
    }
   ],
   "source": [
    "# tamano del dataset\n",
    "df.shape"
   ]
  },
  {
   "cell_type": "markdown",
   "metadata": {},
   "source": [
    "# Tratamiento Valores Faltantes"
   ]
  },
  {
   "cell_type": "code",
   "execution_count": 7,
   "metadata": {},
   "outputs": [
    {
     "data": {
      "text/plain": [
       "id_colaborador           0\n",
       "id_ultimo_jefe          83\n",
       "seniority                0\n",
       "modalidad_trabajo        0\n",
       "distancia_oficina        0\n",
       "dias_baja_salud          0\n",
       "genero                   0\n",
       "canal_reclutamiento      0\n",
       "permanencia_promedio     0\n",
       "fecha_nacimiento         0\n",
       "salario                  0\n",
       "performance_score        0\n",
       "psi_score                0\n",
       "fecha_incorporacion      0\n",
       "estado_civil             0\n",
       "dtype: int64"
      ]
     },
     "execution_count": 7,
     "metadata": {},
     "output_type": "execute_result"
    }
   ],
   "source": [
    "# variables con sus respectivos valores faltantes\n",
    "df.isnull().sum()"
   ]
  },
  {
   "cell_type": "markdown",
   "metadata": {},
   "source": [
    "Valores faltantes en las variables id_ultimo_jefe. Hay que revisar la relacion de los missing de esta variable con las demas"
   ]
  },
  {
   "cell_type": "code",
   "execution_count": 8,
   "metadata": {},
   "outputs": [],
   "source": [
    "# Codigo para correr las funciones de utils.ipynb\n",
    "%run utils.ipynb"
   ]
  },
  {
   "cell_type": "code",
   "execution_count": 9,
   "metadata": {},
   "outputs": [
    {
     "data": {
      "text/plain": [
       "30217"
      ]
     },
     "execution_count": 9,
     "metadata": {},
     "output_type": "execute_result"
    }
   ],
   "source": [
    "# Cantidad de valores completos\n",
    "v_complet = df.missing.number_complete()\n",
    "v_complet"
   ]
  },
  {
   "cell_type": "code",
   "execution_count": 10,
   "metadata": {},
   "outputs": [
    {
     "data": {
      "text/plain": [
       "83"
      ]
     },
     "execution_count": 10,
     "metadata": {},
     "output_type": "execute_result"
    }
   ],
   "source": [
    "# Cantidad de valores faltantes\n",
    "v_missing = df.missing.number_missing()\n",
    "v_missing"
   ]
  },
  {
   "cell_type": "code",
   "execution_count": 11,
   "metadata": {},
   "outputs": [
    {
     "data": {
      "text/plain": [
       "0.27467981599761726"
      ]
     },
     "execution_count": 11,
     "metadata": {},
     "output_type": "execute_result"
    }
   ],
   "source": [
    "# Porcentaje de valores faltantes en el dataframe\n",
    "pct_v = (v_missing/v_complet)*100\n",
    "pct_v"
   ]
  },
  {
   "cell_type": "markdown",
   "metadata": {},
   "source": [
    "El 0.27% de los datos son valores faltantes, una cantidad bastante baja por lo que podria eliminarse los registros de manera directa.Sin embargo, para la competencia se requiere una imputacion de valores antes que una eliminacion. Apliquemos un EDA sobre los missing"
   ]
  },
  {
   "cell_type": "code",
   "execution_count": 12,
   "metadata": {},
   "outputs": [
    {
     "data": {
      "text/html": [
       "<div>\n",
       "<style scoped>\n",
       "    .dataframe tbody tr th:only-of-type {\n",
       "        vertical-align: middle;\n",
       "    }\n",
       "\n",
       "    .dataframe tbody tr th {\n",
       "        vertical-align: top;\n",
       "    }\n",
       "\n",
       "    .dataframe thead th {\n",
       "        text-align: right;\n",
       "    }\n",
       "</style>\n",
       "<table border=\"1\" class=\"dataframe\">\n",
       "  <thead>\n",
       "    <tr style=\"text-align: right;\">\n",
       "      <th></th>\n",
       "      <th>n_missing_in_case</th>\n",
       "      <th>n_cases</th>\n",
       "      <th>pct_case</th>\n",
       "    </tr>\n",
       "  </thead>\n",
       "  <tbody>\n",
       "    <tr>\n",
       "      <th>0</th>\n",
       "      <td>0</td>\n",
       "      <td>1937</td>\n",
       "      <td>95.891089</td>\n",
       "    </tr>\n",
       "    <tr>\n",
       "      <th>1</th>\n",
       "      <td>1</td>\n",
       "      <td>83</td>\n",
       "      <td>4.108911</td>\n",
       "    </tr>\n",
       "  </tbody>\n",
       "</table>\n",
       "</div>"
      ],
      "text/plain": [
       "   n_missing_in_case  n_cases   pct_case\n",
       "0                  0     1937  95.891089\n",
       "1                  1       83   4.108911"
      ]
     },
     "execution_count": 12,
     "metadata": {},
     "output_type": "execute_result"
    }
   ],
   "source": [
    "# Tabla de registros con valores faltantes y completos\n",
    "df.missing.missing_case_table()"
   ]
  },
  {
   "cell_type": "code",
   "execution_count": 13,
   "metadata": {},
   "outputs": [
    {
     "data": {
      "text/html": [
       "<div>\n",
       "<style scoped>\n",
       "    .dataframe tbody tr th:only-of-type {\n",
       "        vertical-align: middle;\n",
       "    }\n",
       "\n",
       "    .dataframe tbody tr th {\n",
       "        vertical-align: top;\n",
       "    }\n",
       "\n",
       "    .dataframe thead th {\n",
       "        text-align: right;\n",
       "    }\n",
       "</style>\n",
       "<table border=\"1\" class=\"dataframe\">\n",
       "  <thead>\n",
       "    <tr style=\"text-align: right;\">\n",
       "      <th></th>\n",
       "      <th>run_length</th>\n",
       "      <th>is_na</th>\n",
       "    </tr>\n",
       "  </thead>\n",
       "  <tbody>\n",
       "    <tr>\n",
       "      <th>0</th>\n",
       "      <td>105</td>\n",
       "      <td>complete</td>\n",
       "    </tr>\n",
       "    <tr>\n",
       "      <th>1</th>\n",
       "      <td>1</td>\n",
       "      <td>missing</td>\n",
       "    </tr>\n",
       "    <tr>\n",
       "      <th>2</th>\n",
       "      <td>96</td>\n",
       "      <td>complete</td>\n",
       "    </tr>\n",
       "    <tr>\n",
       "      <th>3</th>\n",
       "      <td>1</td>\n",
       "      <td>missing</td>\n",
       "    </tr>\n",
       "    <tr>\n",
       "      <th>4</th>\n",
       "      <td>120</td>\n",
       "      <td>complete</td>\n",
       "    </tr>\n",
       "    <tr>\n",
       "      <th>...</th>\n",
       "      <td>...</td>\n",
       "      <td>...</td>\n",
       "    </tr>\n",
       "    <tr>\n",
       "      <th>138</th>\n",
       "      <td>2</td>\n",
       "      <td>complete</td>\n",
       "    </tr>\n",
       "    <tr>\n",
       "      <th>139</th>\n",
       "      <td>4</td>\n",
       "      <td>missing</td>\n",
       "    </tr>\n",
       "    <tr>\n",
       "      <th>140</th>\n",
       "      <td>1</td>\n",
       "      <td>complete</td>\n",
       "    </tr>\n",
       "    <tr>\n",
       "      <th>141</th>\n",
       "      <td>1</td>\n",
       "      <td>missing</td>\n",
       "    </tr>\n",
       "    <tr>\n",
       "      <th>142</th>\n",
       "      <td>24</td>\n",
       "      <td>complete</td>\n",
       "    </tr>\n",
       "  </tbody>\n",
       "</table>\n",
       "<p>143 rows × 2 columns</p>\n",
       "</div>"
      ],
      "text/plain": [
       "     run_length     is_na\n",
       "0           105  complete\n",
       "1             1   missing\n",
       "2            96  complete\n",
       "3             1   missing\n",
       "4           120  complete\n",
       "..          ...       ...\n",
       "138           2  complete\n",
       "139           4   missing\n",
       "140           1  complete\n",
       "141           1   missing\n",
       "142          24  complete\n",
       "\n",
       "[143 rows x 2 columns]"
      ]
     },
     "execution_count": 13,
     "metadata": {},
     "output_type": "execute_result"
    }
   ],
   "source": [
    "# Analisis de intervalos consecutivos de variables donde se encuentran las missing\n",
    "df.missing.missing_variable_run(variable='id_ultimo_jefe')"
   ]
  },
  {
   "cell_type": "markdown",
   "metadata": {},
   "source": [
    "La tabla nos indica que los valores faltantes de **id_ultimo_jefe** estan dispersos, no siguen un patron."
   ]
  },
  {
   "cell_type": "code",
   "execution_count": 14,
   "metadata": {},
   "outputs": [
    {
     "data": {
      "image/png": "[encoded data removed]",
      "text/plain": [
       "<Figure size 648x648 with 2 Axes>"
      ]
     },
     "metadata": {},
     "output_type": "display_data"
    }
   ],
   "source": [
    "# heatmap de valores faltantes\n",
    "sns.heatmap(df.isnull(), yticklabels=False);"
   ]
  },
  {
   "cell_type": "markdown",
   "metadata": {},
   "source": [
    "Vemos que los valores faltantes de **id_ultimo_jefe** se encuentran dispersos. Veamos las relaciones de id_ultimo_viaje con las demas variables para asi aplicar un proceso de imputacion"
   ]
  },
  {
   "cell_type": "markdown",
   "metadata": {},
   "source": [
    "## Analisis de Valores Faltante en id_ultimo_jefe para variables categoricas"
   ]
  },
  {
   "cell_type": "markdown",
   "metadata": {},
   "source": [
    "Vamos a analizar los registros con valores faltantes para ver si estos tienen que ver con alguna de las demas variables"
   ]
  },
  {
   "cell_type": "code",
   "execution_count": 15,
   "metadata": {},
   "outputs": [
    {
     "data": {
      "text/html": [
       "<div>\n",
       "<style scoped>\n",
       "    .dataframe tbody tr th:only-of-type {\n",
       "        vertical-align: middle;\n",
       "    }\n",
       "\n",
       "    .dataframe tbody tr th {\n",
       "        vertical-align: top;\n",
       "    }\n",
       "\n",
       "    .dataframe thead th {\n",
       "        text-align: right;\n",
       "    }\n",
       "</style>\n",
       "<table border=\"1\" class=\"dataframe\">\n",
       "  <thead>\n",
       "    <tr style=\"text-align: right;\">\n",
       "      <th></th>\n",
       "      <th>id_colaborador</th>\n",
       "      <th>id_ultimo_jefe</th>\n",
       "      <th>seniority</th>\n",
       "      <th>modalidad_trabajo</th>\n",
       "      <th>distancia_oficina</th>\n",
       "      <th>dias_baja_salud</th>\n",
       "      <th>genero</th>\n",
       "      <th>canal_reclutamiento</th>\n",
       "      <th>permanencia_promedio</th>\n",
       "      <th>fecha_nacimiento</th>\n",
       "      <th>salario</th>\n",
       "      <th>performance_score</th>\n",
       "      <th>psi_score</th>\n",
       "      <th>fecha_incorporacion</th>\n",
       "      <th>estado_civil</th>\n",
       "    </tr>\n",
       "  </thead>\n",
       "  <tbody>\n",
       "    <tr>\n",
       "      <th>105</th>\n",
       "      <td>102121</td>\n",
       "      <td>NaN</td>\n",
       "      <td>2</td>\n",
       "      <td>Híbrida</td>\n",
       "      <td>1.63</td>\n",
       "      <td>2</td>\n",
       "      <td>Hombre</td>\n",
       "      <td>Portal Web</td>\n",
       "      <td>4</td>\n",
       "      <td>18/05/1967</td>\n",
       "      <td>1616000</td>\n",
       "      <td>90</td>\n",
       "      <td>77</td>\n",
       "      <td>28/02/2012</td>\n",
       "      <td>Divorciado</td>\n",
       "    </tr>\n",
       "    <tr>\n",
       "      <th>202</th>\n",
       "      <td>102133</td>\n",
       "      <td>NaN</td>\n",
       "      <td>2</td>\n",
       "      <td>Híbrida</td>\n",
       "      <td>2.61</td>\n",
       "      <td>2</td>\n",
       "      <td>Hombre</td>\n",
       "      <td>Linkedin</td>\n",
       "      <td>4</td>\n",
       "      <td>30/05/1982</td>\n",
       "      <td>1255430</td>\n",
       "      <td>98</td>\n",
       "      <td>65</td>\n",
       "      <td>27/02/2018</td>\n",
       "      <td>Soltero</td>\n",
       "    </tr>\n",
       "    <tr>\n",
       "      <th>323</th>\n",
       "      <td>102104</td>\n",
       "      <td>NaN</td>\n",
       "      <td>2</td>\n",
       "      <td>Híbrida</td>\n",
       "      <td>6.72</td>\n",
       "      <td>1</td>\n",
       "      <td>Mujer</td>\n",
       "      <td>Portal Web</td>\n",
       "      <td>6</td>\n",
       "      <td>14/07/1992</td>\n",
       "      <td>743000</td>\n",
       "      <td>91</td>\n",
       "      <td>61</td>\n",
       "      <td>1/04/2023</td>\n",
       "      <td>Soltero</td>\n",
       "    </tr>\n",
       "    <tr>\n",
       "      <th>419</th>\n",
       "      <td>102051</td>\n",
       "      <td>NaN</td>\n",
       "      <td>2</td>\n",
       "      <td>Híbrida</td>\n",
       "      <td>1.39</td>\n",
       "      <td>1</td>\n",
       "      <td>Hombre</td>\n",
       "      <td>Portal Web</td>\n",
       "      <td>11</td>\n",
       "      <td>19/02/1973</td>\n",
       "      <td>1616000</td>\n",
       "      <td>83</td>\n",
       "      <td>76</td>\n",
       "      <td>14/11/2019</td>\n",
       "      <td>Casado</td>\n",
       "    </tr>\n",
       "    <tr>\n",
       "      <th>464</th>\n",
       "      <td>102111</td>\n",
       "      <td>NaN</td>\n",
       "      <td>2</td>\n",
       "      <td>Híbrida</td>\n",
       "      <td>2.04</td>\n",
       "      <td>1</td>\n",
       "      <td>Mujer</td>\n",
       "      <td>Referidos</td>\n",
       "      <td>15</td>\n",
       "      <td>27/04/1971</td>\n",
       "      <td>1616000</td>\n",
       "      <td>94</td>\n",
       "      <td>67</td>\n",
       "      <td>15/05/2021</td>\n",
       "      <td>Soltero</td>\n",
       "    </tr>\n",
       "    <tr>\n",
       "      <th>...</th>\n",
       "      <td>...</td>\n",
       "      <td>...</td>\n",
       "      <td>...</td>\n",
       "      <td>...</td>\n",
       "      <td>...</td>\n",
       "      <td>...</td>\n",
       "      <td>...</td>\n",
       "      <td>...</td>\n",
       "      <td>...</td>\n",
       "      <td>...</td>\n",
       "      <td>...</td>\n",
       "      <td>...</td>\n",
       "      <td>...</td>\n",
       "      <td>...</td>\n",
       "      <td>...</td>\n",
       "    </tr>\n",
       "    <tr>\n",
       "      <th>1990</th>\n",
       "      <td>102084</td>\n",
       "      <td>NaN</td>\n",
       "      <td>2</td>\n",
       "      <td>Presencial</td>\n",
       "      <td>2.62</td>\n",
       "      <td>3</td>\n",
       "      <td>Mujer</td>\n",
       "      <td>Portal Web</td>\n",
       "      <td>14</td>\n",
       "      <td>15/11/1972</td>\n",
       "      <td>1616000</td>\n",
       "      <td>89</td>\n",
       "      <td>76</td>\n",
       "      <td>22/07/2023</td>\n",
       "      <td>Divorciado</td>\n",
       "    </tr>\n",
       "    <tr>\n",
       "      <th>1991</th>\n",
       "      <td>102071</td>\n",
       "      <td>NaN</td>\n",
       "      <td>2</td>\n",
       "      <td>Presencial</td>\n",
       "      <td>0.87</td>\n",
       "      <td>1</td>\n",
       "      <td>Hombre</td>\n",
       "      <td>Portal Web</td>\n",
       "      <td>11</td>\n",
       "      <td>13/03/1972</td>\n",
       "      <td>1616000</td>\n",
       "      <td>85</td>\n",
       "      <td>72</td>\n",
       "      <td>11/11/2023</td>\n",
       "      <td>Viudo</td>\n",
       "    </tr>\n",
       "    <tr>\n",
       "      <th>1992</th>\n",
       "      <td>102045</td>\n",
       "      <td>NaN</td>\n",
       "      <td>2</td>\n",
       "      <td>Presencial</td>\n",
       "      <td>3.19</td>\n",
       "      <td>3</td>\n",
       "      <td>Hombre</td>\n",
       "      <td>Portal Web</td>\n",
       "      <td>11</td>\n",
       "      <td>21/03/1970</td>\n",
       "      <td>1616000</td>\n",
       "      <td>97</td>\n",
       "      <td>65</td>\n",
       "      <td>26/09/2023</td>\n",
       "      <td>Casado</td>\n",
       "    </tr>\n",
       "    <tr>\n",
       "      <th>1993</th>\n",
       "      <td>102066</td>\n",
       "      <td>NaN</td>\n",
       "      <td>2</td>\n",
       "      <td>Presencial</td>\n",
       "      <td>3.62</td>\n",
       "      <td>3</td>\n",
       "      <td>Hombre</td>\n",
       "      <td>Referidos</td>\n",
       "      <td>5</td>\n",
       "      <td>27/02/1968</td>\n",
       "      <td>1616000</td>\n",
       "      <td>97</td>\n",
       "      <td>84</td>\n",
       "      <td>6/12/2023</td>\n",
       "      <td>Casado</td>\n",
       "    </tr>\n",
       "    <tr>\n",
       "      <th>1995</th>\n",
       "      <td>102156</td>\n",
       "      <td>NaN</td>\n",
       "      <td>2</td>\n",
       "      <td>Presencial</td>\n",
       "      <td>4.23</td>\n",
       "      <td>2</td>\n",
       "      <td>Hombre</td>\n",
       "      <td>Portal Web</td>\n",
       "      <td>22</td>\n",
       "      <td>21/10/1960</td>\n",
       "      <td>1616000</td>\n",
       "      <td>92</td>\n",
       "      <td>76</td>\n",
       "      <td>16/12/2023</td>\n",
       "      <td>Soltero</td>\n",
       "    </tr>\n",
       "  </tbody>\n",
       "</table>\n",
       "<p>83 rows × 15 columns</p>\n",
       "</div>"
      ],
      "text/plain": [
       "      id_colaborador  id_ultimo_jefe  seniority modalidad_trabajo  \\\n",
       "105           102121             NaN          2           Híbrida   \n",
       "202           102133             NaN          2           Híbrida   \n",
       "323           102104             NaN          2           Híbrida   \n",
       "419           102051             NaN          2           Híbrida   \n",
       "464           102111             NaN          2           Híbrida   \n",
       "...              ...             ...        ...               ...   \n",
       "1990          102084             NaN          2        Presencial   \n",
       "1991          102071             NaN          2        Presencial   \n",
       "1992          102045             NaN          2        Presencial   \n",
       "1993          102066             NaN          2        Presencial   \n",
       "1995          102156             NaN          2        Presencial   \n",
       "\n",
       "      distancia_oficina  dias_baja_salud  genero canal_reclutamiento  \\\n",
       "105                1.63                2  Hombre          Portal Web   \n",
       "202                2.61                2  Hombre            Linkedin   \n",
       "323                6.72                1   Mujer          Portal Web   \n",
       "419                1.39                1  Hombre          Portal Web   \n",
       "464                2.04                1   Mujer           Referidos   \n",
       "...                 ...              ...     ...                 ...   \n",
       "1990               2.62                3   Mujer          Portal Web   \n",
       "1991               0.87                1  Hombre          Portal Web   \n",
       "1992               3.19                3  Hombre          Portal Web   \n",
       "1993               3.62                3  Hombre           Referidos   \n",
       "1995               4.23                2  Hombre          Portal Web   \n",
       "\n",
       "      permanencia_promedio fecha_nacimiento  salario  performance_score  \\\n",
       "105                      4       18/05/1967  1616000                 90   \n",
       "202                      4       30/05/1982  1255430                 98   \n",
       "323                      6       14/07/1992   743000                 91   \n",
       "419                     11       19/02/1973  1616000                 83   \n",
       "464                     15       27/04/1971  1616000                 94   \n",
       "...                    ...              ...      ...                ...   \n",
       "1990                    14       15/11/1972  1616000                 89   \n",
       "1991                    11       13/03/1972  1616000                 85   \n",
       "1992                    11       21/03/1970  1616000                 97   \n",
       "1993                     5       27/02/1968  1616000                 97   \n",
       "1995                    22       21/10/1960  1616000                 92   \n",
       "\n",
       "      psi_score fecha_incorporacion estado_civil  \n",
       "105          77          28/02/2012   Divorciado  \n",
       "202          65          27/02/2018      Soltero  \n",
       "323          61           1/04/2023      Soltero  \n",
       "419          76          14/11/2019       Casado  \n",
       "464          67          15/05/2021      Soltero  \n",
       "...         ...                 ...          ...  \n",
       "1990         76          22/07/2023   Divorciado  \n",
       "1991         72          11/11/2023        Viudo  \n",
       "1992         65          26/09/2023       Casado  \n",
       "1993         84           6/12/2023       Casado  \n",
       "1995         76          16/12/2023      Soltero  \n",
       "\n",
       "[83 rows x 15 columns]"
      ]
     },
     "execution_count": 15,
     "metadata": {},
     "output_type": "execute_result"
    }
   ],
   "source": [
    "missing_var = df[df['id_ultimo_jefe'].isna()]\n",
    "missing_var"
   ]
  },
  {
   "cell_type": "markdown",
   "metadata": {},
   "source": [
    "### Distribucion de Genero\n"
   ]
  },
  {
   "cell_type": "code",
   "execution_count": 16,
   "metadata": {},
   "outputs": [
    {
     "data": {
      "image/png": "[encoded data removed]",
      "text/plain": [
       "<Figure size 648x648 with 1 Axes>"
      ]
     },
     "metadata": {},
     "output_type": "display_data"
    }
   ],
   "source": [
    "# Conteo de genero\n",
    "genero_count = missing_var['genero'].value_counts()\n",
    "\n",
    "# grafico\n",
    "plt.pie(genero_count, labels=genero_count.index, autopct='%1.1f%%')\n",
    "plt.title('distribucion de Genero con Missing');\n"
   ]
  },
  {
   "cell_type": "markdown",
   "metadata": {},
   "source": [
    "### Distribucion Seniority"
   ]
  },
  {
   "cell_type": "code",
   "execution_count": 17,
   "metadata": {},
   "outputs": [
    {
     "data": {
      "image/png": "[encoded data removed]",
      "text/plain": [
       "<Figure size 648x648 with 1 Axes>"
      ]
     },
     "metadata": {},
     "output_type": "display_data"
    }
   ],
   "source": [
    "# Conteo seniority\n",
    "seniority_count = missing_var['seniority'].value_counts()\n",
    "\n",
    "# grafico\n",
    "plt.pie(seniority_count, labels=seniority_count.index, autopct='%1.1f%%')\n",
    "plt.title('distribucion de Seniority con Missing');"
   ]
  },
  {
   "cell_type": "markdown",
   "metadata": {},
   "source": [
    "El grafico nos indica que en la mayoria de los registros con missing, los empleados tienen personal a su cargo (2)"
   ]
  },
  {
   "cell_type": "markdown",
   "metadata": {},
   "source": [
    "### Distribucion canal"
   ]
  },
  {
   "cell_type": "code",
   "execution_count": 18,
   "metadata": {},
   "outputs": [
    {
     "data": {
      "image/png": "[encoded data removed]",
      "text/plain": [
       "<Figure size 648x648 with 1 Axes>"
      ]
     },
     "metadata": {},
     "output_type": "display_data"
    }
   ],
   "source": [
    "# Conteo seniority\n",
    "canal_count = missing_var['canal_reclutamiento'].value_counts()\n",
    "\n",
    "# grafico\n",
    "plt.pie(canal_count, labels=canal_count.index, autopct='%1.1f%%')\n",
    "plt.title('distribucion de ultimo jefe con Missing');"
   ]
  },
  {
   "cell_type": "markdown",
   "metadata": {},
   "source": [
    "### Distribucion Modalidad Trabajo"
   ]
  },
  {
   "cell_type": "code",
   "execution_count": 19,
   "metadata": {},
   "outputs": [
    {
     "data": {
      "image/png": "[encoded data removed]",
      "text/plain": [
       "<Figure size 648x648 with 1 Axes>"
      ]
     },
     "metadata": {},
     "output_type": "display_data"
    }
   ],
   "source": [
    "# Conteo seniority\n",
    "trabajoM_count = missing_var['modalidad_trabajo'].value_counts()\n",
    "\n",
    "# grafico\n",
    "plt.pie(trabajoM_count, labels=trabajoM_count.index, autopct='%1.1f%%')\n",
    "plt.title('distribucion Modalidad de trabajo con Missing');"
   ]
  },
  {
   "cell_type": "markdown",
   "metadata": {},
   "source": [
    "Hay una gran cantidad de empleados en modalidad presencial con missing en id_ultimo_jefe"
   ]
  },
  {
   "cell_type": "markdown",
   "metadata": {},
   "source": [
    "### distribucion Abandono 6 meses"
   ]
  },
  {
   "cell_type": "code",
   "execution_count": 20,
   "metadata": {},
   "outputs": [
    {
     "data": {
      "image/png": "[encoded data removed]",
      "text/plain": [
       "<Figure size 648x648 with 1 Axes>"
      ]
     },
     "metadata": {},
     "output_type": "display_data"
    }
   ],
   "source": [
    "# Conteo seniority\n",
    "abandono_count = missing_var['performance_score'].value_counts()\n",
    "\n",
    "# grafico\n",
    "plt.pie(abandono_count, labels=abandono_count.index, autopct='%1.1f%%')\n",
    "plt.title('distribucion Performance Score con Missing');"
   ]
  },
  {
   "cell_type": "markdown",
   "metadata": {},
   "source": [
    "### distribucion Estado civil"
   ]
  },
  {
   "cell_type": "code",
   "execution_count": 21,
   "metadata": {},
   "outputs": [
    {
     "data": {
      "image/png": "[encoded data removed]",
      "text/plain": [
       "<Figure size 648x648 with 1 Axes>"
      ]
     },
     "metadata": {},
     "output_type": "display_data"
    }
   ],
   "source": [
    "# Conteo seniority\n",
    "estadoC_count = missing_var['estado_civil'].value_counts()\n",
    "\n",
    "# grafico\n",
    "plt.pie(estadoC_count, labels=estadoC_count.index, autopct='%1.1f%%')\n",
    "plt.title('distribucion Estado Civil con Missing');"
   ]
  },
  {
   "cell_type": "markdown",
   "metadata": {},
   "source": [
    "## Analisis de Valores Faltante en Performance_Score para variables numericas"
   ]
  },
  {
   "cell_type": "markdown",
   "metadata": {},
   "source": [
    "### Matriz de sombra"
   ]
  },
  {
   "cell_type": "code",
   "execution_count": 22,
   "metadata": {},
   "outputs": [
    {
     "data": {
      "text/html": [
       "<div>\n",
       "<style scoped>\n",
       "    .dataframe tbody tr th:only-of-type {\n",
       "        vertical-align: middle;\n",
       "    }\n",
       "\n",
       "    .dataframe tbody tr th {\n",
       "        vertical-align: top;\n",
       "    }\n",
       "\n",
       "    .dataframe thead th {\n",
       "        text-align: right;\n",
       "    }\n",
       "</style>\n",
       "<table border=\"1\" class=\"dataframe\">\n",
       "  <thead>\n",
       "    <tr style=\"text-align: right;\">\n",
       "      <th></th>\n",
       "      <th>id_colaborador</th>\n",
       "      <th>id_ultimo_jefe</th>\n",
       "      <th>seniority</th>\n",
       "      <th>modalidad_trabajo</th>\n",
       "      <th>distancia_oficina</th>\n",
       "      <th>dias_baja_salud</th>\n",
       "      <th>genero</th>\n",
       "      <th>canal_reclutamiento</th>\n",
       "      <th>permanencia_promedio</th>\n",
       "      <th>fecha_nacimiento</th>\n",
       "      <th>salario</th>\n",
       "      <th>performance_score</th>\n",
       "      <th>psi_score</th>\n",
       "      <th>fecha_incorporacion</th>\n",
       "      <th>estado_civil</th>\n",
       "      <th>id_ultimo_jefe_NA</th>\n",
       "    </tr>\n",
       "  </thead>\n",
       "  <tbody>\n",
       "    <tr>\n",
       "      <th>0</th>\n",
       "      <td>100486</td>\n",
       "      <td>102115.0</td>\n",
       "      <td>1</td>\n",
       "      <td>Híbrida</td>\n",
       "      <td>0.795</td>\n",
       "      <td>2</td>\n",
       "      <td>Hombre</td>\n",
       "      <td>Ferias &amp; Networking</td>\n",
       "      <td>2</td>\n",
       "      <td>19/01/1997</td>\n",
       "      <td>181654</td>\n",
       "      <td>99</td>\n",
       "      <td>81</td>\n",
       "      <td>24/07/2021</td>\n",
       "      <td>Soltero</td>\n",
       "      <td>Not Missing</td>\n",
       "    </tr>\n",
       "    <tr>\n",
       "      <th>1</th>\n",
       "      <td>103752</td>\n",
       "      <td>102074.0</td>\n",
       "      <td>1</td>\n",
       "      <td>Híbrida</td>\n",
       "      <td>1.715</td>\n",
       "      <td>1</td>\n",
       "      <td>Mujer</td>\n",
       "      <td>Ferias &amp; Networking</td>\n",
       "      <td>1</td>\n",
       "      <td>20/08/1999</td>\n",
       "      <td>140986</td>\n",
       "      <td>97</td>\n",
       "      <td>75</td>\n",
       "      <td>27/01/2018</td>\n",
       "      <td>Soltero</td>\n",
       "      <td>Not Missing</td>\n",
       "    </tr>\n",
       "    <tr>\n",
       "      <th>2</th>\n",
       "      <td>103937</td>\n",
       "      <td>102150.0</td>\n",
       "      <td>1</td>\n",
       "      <td>Híbrida</td>\n",
       "      <td>2.375</td>\n",
       "      <td>1</td>\n",
       "      <td>Hombre</td>\n",
       "      <td>Portal Web</td>\n",
       "      <td>6</td>\n",
       "      <td>29/10/1984</td>\n",
       "      <td>406690</td>\n",
       "      <td>96</td>\n",
       "      <td>69</td>\n",
       "      <td>24/04/2022</td>\n",
       "      <td>Soltero</td>\n",
       "      <td>Not Missing</td>\n",
       "    </tr>\n",
       "    <tr>\n",
       "      <th>3</th>\n",
       "      <td>101744</td>\n",
       "      <td>102172.0</td>\n",
       "      <td>1</td>\n",
       "      <td>Híbrida</td>\n",
       "      <td>2.185</td>\n",
       "      <td>3</td>\n",
       "      <td>Hombre</td>\n",
       "      <td>Linkedin</td>\n",
       "      <td>3</td>\n",
       "      <td>9/11/1992</td>\n",
       "      <td>249107</td>\n",
       "      <td>95</td>\n",
       "      <td>73</td>\n",
       "      <td>23/05/2023</td>\n",
       "      <td>Casado</td>\n",
       "      <td>Not Missing</td>\n",
       "    </tr>\n",
       "    <tr>\n",
       "      <th>4</th>\n",
       "      <td>101037</td>\n",
       "      <td>102060.0</td>\n",
       "      <td>1</td>\n",
       "      <td>Híbrida</td>\n",
       "      <td>4.660</td>\n",
       "      <td>3</td>\n",
       "      <td>Hombre</td>\n",
       "      <td>Referidos</td>\n",
       "      <td>10</td>\n",
       "      <td>14/07/1969</td>\n",
       "      <td>698318</td>\n",
       "      <td>95</td>\n",
       "      <td>81</td>\n",
       "      <td>20/06/2015</td>\n",
       "      <td>Viudo</td>\n",
       "      <td>Not Missing</td>\n",
       "    </tr>\n",
       "    <tr>\n",
       "      <th>...</th>\n",
       "      <td>...</td>\n",
       "      <td>...</td>\n",
       "      <td>...</td>\n",
       "      <td>...</td>\n",
       "      <td>...</td>\n",
       "      <td>...</td>\n",
       "      <td>...</td>\n",
       "      <td>...</td>\n",
       "      <td>...</td>\n",
       "      <td>...</td>\n",
       "      <td>...</td>\n",
       "      <td>...</td>\n",
       "      <td>...</td>\n",
       "      <td>...</td>\n",
       "      <td>...</td>\n",
       "      <td>...</td>\n",
       "    </tr>\n",
       "    <tr>\n",
       "      <th>2015</th>\n",
       "      <td>103755</td>\n",
       "      <td>102161.0</td>\n",
       "      <td>1</td>\n",
       "      <td>Presencial</td>\n",
       "      <td>2.995</td>\n",
       "      <td>2</td>\n",
       "      <td>Mujer</td>\n",
       "      <td>Portal Web</td>\n",
       "      <td>16</td>\n",
       "      <td>23/02/1970</td>\n",
       "      <td>700814</td>\n",
       "      <td>90</td>\n",
       "      <td>69</td>\n",
       "      <td>11/11/2023</td>\n",
       "      <td>Soltero</td>\n",
       "      <td>Not Missing</td>\n",
       "    </tr>\n",
       "    <tr>\n",
       "      <th>2016</th>\n",
       "      <td>103976</td>\n",
       "      <td>102171.0</td>\n",
       "      <td>1</td>\n",
       "      <td>Presencial</td>\n",
       "      <td>2.775</td>\n",
       "      <td>0</td>\n",
       "      <td>Mujer</td>\n",
       "      <td>Portal Web</td>\n",
       "      <td>5</td>\n",
       "      <td>30/09/1970</td>\n",
       "      <td>677071</td>\n",
       "      <td>93</td>\n",
       "      <td>66</td>\n",
       "      <td>24/09/2023</td>\n",
       "      <td>Divorciado</td>\n",
       "      <td>Not Missing</td>\n",
       "    </tr>\n",
       "    <tr>\n",
       "      <th>2017</th>\n",
       "      <td>104115</td>\n",
       "      <td>102144.0</td>\n",
       "      <td>1</td>\n",
       "      <td>Presencial</td>\n",
       "      <td>3.990</td>\n",
       "      <td>1</td>\n",
       "      <td>Hombre</td>\n",
       "      <td>Portal Web</td>\n",
       "      <td>7</td>\n",
       "      <td>14/06/1970</td>\n",
       "      <td>876285</td>\n",
       "      <td>84</td>\n",
       "      <td>69</td>\n",
       "      <td>6/09/2023</td>\n",
       "      <td>Soltero</td>\n",
       "      <td>Not Missing</td>\n",
       "    </tr>\n",
       "    <tr>\n",
       "      <th>2018</th>\n",
       "      <td>103920</td>\n",
       "      <td>102152.0</td>\n",
       "      <td>1</td>\n",
       "      <td>Presencial</td>\n",
       "      <td>7.100</td>\n",
       "      <td>1</td>\n",
       "      <td>Mujer</td>\n",
       "      <td>Linkedin</td>\n",
       "      <td>8</td>\n",
       "      <td>30/05/1968</td>\n",
       "      <td>719102</td>\n",
       "      <td>91</td>\n",
       "      <td>75</td>\n",
       "      <td>8/11/2023</td>\n",
       "      <td>Soltero</td>\n",
       "      <td>Not Missing</td>\n",
       "    </tr>\n",
       "    <tr>\n",
       "      <th>2019</th>\n",
       "      <td>103151</td>\n",
       "      <td>102171.0</td>\n",
       "      <td>1</td>\n",
       "      <td>Presencial</td>\n",
       "      <td>2.695</td>\n",
       "      <td>3</td>\n",
       "      <td>Mujer</td>\n",
       "      <td>Referidos</td>\n",
       "      <td>18</td>\n",
       "      <td>27/05/1963</td>\n",
       "      <td>898994</td>\n",
       "      <td>89</td>\n",
       "      <td>82</td>\n",
       "      <td>24/08/2023</td>\n",
       "      <td>Casado</td>\n",
       "      <td>Not Missing</td>\n",
       "    </tr>\n",
       "  </tbody>\n",
       "</table>\n",
       "<p>2020 rows × 16 columns</p>\n",
       "</div>"
      ],
      "text/plain": [
       "      id_colaborador  id_ultimo_jefe  seniority modalidad_trabajo  \\\n",
       "0             100486        102115.0          1           Híbrida   \n",
       "1             103752        102074.0          1           Híbrida   \n",
       "2             103937        102150.0          1           Híbrida   \n",
       "3             101744        102172.0          1           Híbrida   \n",
       "4             101037        102060.0          1           Híbrida   \n",
       "...              ...             ...        ...               ...   \n",
       "2015          103755        102161.0          1        Presencial   \n",
       "2016          103976        102171.0          1        Presencial   \n",
       "2017          104115        102144.0          1        Presencial   \n",
       "2018          103920        102152.0          1        Presencial   \n",
       "2019          103151        102171.0          1        Presencial   \n",
       "\n",
       "      distancia_oficina  dias_baja_salud  genero  canal_reclutamiento  \\\n",
       "0                 0.795                2  Hombre  Ferias & Networking   \n",
       "1                 1.715                1   Mujer  Ferias & Networking   \n",
       "2                 2.375                1  Hombre           Portal Web   \n",
       "3                 2.185                3  Hombre             Linkedin   \n",
       "4                 4.660                3  Hombre            Referidos   \n",
       "...                 ...              ...     ...                  ...   \n",
       "2015              2.995                2   Mujer           Portal Web   \n",
       "2016              2.775                0   Mujer           Portal Web   \n",
       "2017              3.990                1  Hombre           Portal Web   \n",
       "2018              7.100                1   Mujer             Linkedin   \n",
       "2019              2.695                3   Mujer            Referidos   \n",
       "\n",
       "      permanencia_promedio fecha_nacimiento  salario  performance_score  \\\n",
       "0                        2       19/01/1997   181654                 99   \n",
       "1                        1       20/08/1999   140986                 97   \n",
       "2                        6       29/10/1984   406690                 96   \n",
       "3                        3        9/11/1992   249107                 95   \n",
       "4                       10       14/07/1969   698318                 95   \n",
       "...                    ...              ...      ...                ...   \n",
       "2015                    16       23/02/1970   700814                 90   \n",
       "2016                     5       30/09/1970   677071                 93   \n",
       "2017                     7       14/06/1970   876285                 84   \n",
       "2018                     8       30/05/1968   719102                 91   \n",
       "2019                    18       27/05/1963   898994                 89   \n",
       "\n",
       "      psi_score fecha_incorporacion estado_civil id_ultimo_jefe_NA  \n",
       "0            81          24/07/2021      Soltero       Not Missing  \n",
       "1            75          27/01/2018      Soltero       Not Missing  \n",
       "2            69          24/04/2022      Soltero       Not Missing  \n",
       "3            73          23/05/2023       Casado       Not Missing  \n",
       "4            81          20/06/2015        Viudo       Not Missing  \n",
       "...         ...                 ...          ...               ...  \n",
       "2015         69          11/11/2023      Soltero       Not Missing  \n",
       "2016         66          24/09/2023   Divorciado       Not Missing  \n",
       "2017         69           6/09/2023      Soltero       Not Missing  \n",
       "2018         75           8/11/2023      Soltero       Not Missing  \n",
       "2019         82          24/08/2023       Casado       Not Missing  \n",
       "\n",
       "[2020 rows x 16 columns]"
      ]
     },
     "execution_count": 22,
     "metadata": {},
     "output_type": "execute_result"
    }
   ],
   "source": [
    "(\n",
    "    df\n",
    "    .missing\n",
    "    .bind_shadow_matrix(only_missing = True)\n",
    ")"
   ]
  },
  {
   "cell_type": "markdown",
   "metadata": {},
   "source": [
    "### ID Ultimo Jefe vs Salario"
   ]
  },
  {
   "cell_type": "code",
   "execution_count": 23,
   "metadata": {},
   "outputs": [
    {
     "name": "stdout",
     "output_type": "stream",
     "text": [
      "Valores faltantes en la variable performance segun salario\n"
     ]
    },
    {
     "data": {
      "text/html": [
       "<div>\n",
       "<style scoped>\n",
       "    .dataframe tbody tr th:only-of-type {\n",
       "        vertical-align: middle;\n",
       "    }\n",
       "\n",
       "    .dataframe tbody tr th {\n",
       "        vertical-align: top;\n",
       "    }\n",
       "\n",
       "    .dataframe thead th {\n",
       "        text-align: right;\n",
       "    }\n",
       "</style>\n",
       "<table border=\"1\" class=\"dataframe\">\n",
       "  <thead>\n",
       "    <tr style=\"text-align: right;\">\n",
       "      <th></th>\n",
       "      <th>id_ultimo_jefe_NA</th>\n",
       "      <th>count</th>\n",
       "      <th>mean</th>\n",
       "      <th>std</th>\n",
       "      <th>min</th>\n",
       "      <th>25%</th>\n",
       "      <th>50%</th>\n",
       "      <th>75%</th>\n",
       "      <th>max</th>\n",
       "    </tr>\n",
       "  </thead>\n",
       "  <tbody>\n",
       "    <tr>\n",
       "      <th>0</th>\n",
       "      <td>Missing</td>\n",
       "      <td>83.0</td>\n",
       "      <td>1.383262e+06</td>\n",
       "      <td>374707.891230</td>\n",
       "      <td>488000.0</td>\n",
       "      <td>1255430.0</td>\n",
       "      <td>1616000.0</td>\n",
       "      <td>1616000.0</td>\n",
       "      <td>1900000.0</td>\n",
       "    </tr>\n",
       "    <tr>\n",
       "      <th>1</th>\n",
       "      <td>Not Missing</td>\n",
       "      <td>1937.0</td>\n",
       "      <td>4.244259e+05</td>\n",
       "      <td>232675.586484</td>\n",
       "      <td>75517.0</td>\n",
       "      <td>263689.0</td>\n",
       "      <td>366459.0</td>\n",
       "      <td>642641.0</td>\n",
       "      <td>921943.0</td>\n",
       "    </tr>\n",
       "  </tbody>\n",
       "</table>\n",
       "</div>"
      ],
      "text/plain": [
       "  id_ultimo_jefe_NA   count          mean            std       min        25%  \\\n",
       "0           Missing    83.0  1.383262e+06  374707.891230  488000.0  1255430.0   \n",
       "1       Not Missing  1937.0  4.244259e+05  232675.586484   75517.0   263689.0   \n",
       "\n",
       "         50%        75%        max  \n",
       "0  1616000.0  1616000.0  1900000.0  \n",
       "1   366459.0   642641.0   921943.0  "
      ]
     },
     "execution_count": 23,
     "metadata": {},
     "output_type": "execute_result"
    }
   ],
   "source": [
    "# performance vs salario\n",
    "\n",
    "print('Valores faltantes en la variable performance segun salario')\n",
    "(\n",
    "    df\n",
    "    .missing.bind_shadow_matrix(only_missing=True) # crea la matriz de sombra\n",
    "    .groupby(['id_ultimo_jefe_NA'])             # agrupar por la ausencia de la variable Peso\n",
    "    ['salario']                                        # variable edad como referencia\n",
    "    .describe()\n",
    "    .reset_index()\n",
    ")"
   ]
  },
  {
   "cell_type": "code",
   "execution_count": 24,
   "metadata": {},
   "outputs": [
    {
     "data": {
      "text/plain": [
       "<AxesSubplot:xlabel='id_ultimo_jefe_NA', ylabel='salario'>"
      ]
     },
     "execution_count": 24,
     "metadata": {},
     "output_type": "execute_result"
    },
    {
     "data": {
      "image/png": "[encoded data removed]",
      "text/plain": [
       "<Figure size 648x648 with 1 Axes>"
      ]
     },
     "metadata": {},
     "output_type": "display_data"
    }
   ],
   "source": [
    "(\n",
    "    df\n",
    "    .missing\n",
    "    .bind_shadow_matrix(only_missing=True) # crea la matriz de sombra\n",
    "    .pipe(\n",
    "        lambda df: (\n",
    "            sns.boxenplot(                 # diagrama de caja\n",
    "                data=df,                   # dataframe donde se encuentran las variables\n",
    "                x='id_ultimo_jefe_NA',         # variable con los datos faltantes\n",
    "                y='salario'                    # variable de comparacion\n",
    "            )\n",
    "        )   \n",
    "    )\n",
    ")"
   ]
  },
  {
   "cell_type": "markdown",
   "metadata": {},
   "source": [
    "El salario de empleados con id_ultimo_jefe es menor que el salario de los empleados que no lo posee"
   ]
  },
  {
   "cell_type": "markdown",
   "metadata": {},
   "source": [
    "### id_ultimo_jefe vs Psi Score"
   ]
  },
  {
   "cell_type": "code",
   "execution_count": 25,
   "metadata": {},
   "outputs": [
    {
     "name": "stdout",
     "output_type": "stream",
     "text": [
      "Valores faltantes en la variable performance segun el genero\n"
     ]
    },
    {
     "data": {
      "text/html": [
       "<div>\n",
       "<style scoped>\n",
       "    .dataframe tbody tr th:only-of-type {\n",
       "        vertical-align: middle;\n",
       "    }\n",
       "\n",
       "    .dataframe tbody tr th {\n",
       "        vertical-align: top;\n",
       "    }\n",
       "\n",
       "    .dataframe thead th {\n",
       "        text-align: right;\n",
       "    }\n",
       "</style>\n",
       "<table border=\"1\" class=\"dataframe\">\n",
       "  <thead>\n",
       "    <tr style=\"text-align: right;\">\n",
       "      <th></th>\n",
       "      <th>id_ultimo_jefe_NA</th>\n",
       "      <th>count</th>\n",
       "      <th>mean</th>\n",
       "      <th>std</th>\n",
       "      <th>min</th>\n",
       "      <th>25%</th>\n",
       "      <th>50%</th>\n",
       "      <th>75%</th>\n",
       "      <th>max</th>\n",
       "    </tr>\n",
       "  </thead>\n",
       "  <tbody>\n",
       "    <tr>\n",
       "      <th>0</th>\n",
       "      <td>Missing</td>\n",
       "      <td>83.0</td>\n",
       "      <td>75.072289</td>\n",
       "      <td>7.296479</td>\n",
       "      <td>61.0</td>\n",
       "      <td>69.0</td>\n",
       "      <td>76.0</td>\n",
       "      <td>80.0</td>\n",
       "      <td>95.0</td>\n",
       "    </tr>\n",
       "    <tr>\n",
       "      <th>1</th>\n",
       "      <td>Not Missing</td>\n",
       "      <td>1937.0</td>\n",
       "      <td>75.461022</td>\n",
       "      <td>5.949829</td>\n",
       "      <td>58.0</td>\n",
       "      <td>71.0</td>\n",
       "      <td>76.0</td>\n",
       "      <td>79.0</td>\n",
       "      <td>98.0</td>\n",
       "    </tr>\n",
       "  </tbody>\n",
       "</table>\n",
       "</div>"
      ],
      "text/plain": [
       "  id_ultimo_jefe_NA   count       mean       std   min   25%   50%   75%   max\n",
       "0           Missing    83.0  75.072289  7.296479  61.0  69.0  76.0  80.0  95.0\n",
       "1       Not Missing  1937.0  75.461022  5.949829  58.0  71.0  76.0  79.0  98.0"
      ]
     },
     "execution_count": 25,
     "metadata": {},
     "output_type": "execute_result"
    }
   ],
   "source": [
    "# performance vs psi_score\n",
    "\n",
    "print('Valores faltantes en la variable performance segun el genero')\n",
    "(\n",
    "    df\n",
    "    .missing.bind_shadow_matrix(only_missing=True) # crea la matriz de sombra\n",
    "    .groupby(['id_ultimo_jefe_NA'])             # agrupar por la ausencia de la variable Peso\n",
    "    ['psi_score']                                        # variable edad como referencia\n",
    "    .describe()\n",
    "    .reset_index()\n",
    ")"
   ]
  },
  {
   "cell_type": "code",
   "execution_count": 26,
   "metadata": {},
   "outputs": [
    {
     "data": {
      "text/plain": [
       "<AxesSubplot:xlabel='id_ultimo_jefe_NA', ylabel='psi_score'>"
      ]
     },
     "execution_count": 26,
     "metadata": {},
     "output_type": "execute_result"
    },
    {
     "data": {
      "image/png": "[encoded data removed]",
      "text/plain": [
       "<Figure size 648x648 with 1 Axes>"
      ]
     },
     "metadata": {},
     "output_type": "display_data"
    }
   ],
   "source": [
    "(\n",
    "    df\n",
    "    .missing\n",
    "    .bind_shadow_matrix(only_missing=True) # crea la matriz de sombra\n",
    "    .pipe(\n",
    "        lambda df: (\n",
    "            sns.boxenplot(                 # diagrama de caja\n",
    "                data=df,                   # dataframe donde se encuentran las variables\n",
    "                x='id_ultimo_jefe_NA',         # variable con los datos faltantes\n",
    "                y='psi_score'                    # variable de comparacion\n",
    "            )\n",
    "        )   \n",
    "    )\n",
    ")"
   ]
  },
  {
   "cell_type": "markdown",
   "metadata": {},
   "source": [
    "Los empleados con o sin valores faltantes en id_ultimo_jefe poseen psi_score similares por tanto la presencia de missing no influyen en el id_ultimo_jefe"
   ]
  },
  {
   "cell_type": "markdown",
   "metadata": {},
   "source": [
    "### id_ultimo_jefe vs Permanencia promedio"
   ]
  },
  {
   "cell_type": "code",
   "execution_count": 27,
   "metadata": {},
   "outputs": [
    {
     "name": "stdout",
     "output_type": "stream",
     "text": [
      "Valores faltantes en la id_ultimo_jefe segun permanencia promedio\n"
     ]
    },
    {
     "data": {
      "text/html": [
       "<div>\n",
       "<style scoped>\n",
       "    .dataframe tbody tr th:only-of-type {\n",
       "        vertical-align: middle;\n",
       "    }\n",
       "\n",
       "    .dataframe tbody tr th {\n",
       "        vertical-align: top;\n",
       "    }\n",
       "\n",
       "    .dataframe thead th {\n",
       "        text-align: right;\n",
       "    }\n",
       "</style>\n",
       "<table border=\"1\" class=\"dataframe\">\n",
       "  <thead>\n",
       "    <tr style=\"text-align: right;\">\n",
       "      <th></th>\n",
       "      <th>id_ultimo_jefe_NA</th>\n",
       "      <th>count</th>\n",
       "      <th>mean</th>\n",
       "      <th>std</th>\n",
       "      <th>min</th>\n",
       "      <th>25%</th>\n",
       "      <th>50%</th>\n",
       "      <th>75%</th>\n",
       "      <th>max</th>\n",
       "    </tr>\n",
       "  </thead>\n",
       "  <tbody>\n",
       "    <tr>\n",
       "      <th>0</th>\n",
       "      <td>Missing</td>\n",
       "      <td>83.0</td>\n",
       "      <td>8.385542</td>\n",
       "      <td>5.669412</td>\n",
       "      <td>1.0</td>\n",
       "      <td>4.0</td>\n",
       "      <td>6.0</td>\n",
       "      <td>11.0</td>\n",
       "      <td>27.0</td>\n",
       "    </tr>\n",
       "    <tr>\n",
       "      <th>1</th>\n",
       "      <td>Not Missing</td>\n",
       "      <td>1937.0</td>\n",
       "      <td>6.641714</td>\n",
       "      <td>4.226622</td>\n",
       "      <td>1.0</td>\n",
       "      <td>3.0</td>\n",
       "      <td>6.0</td>\n",
       "      <td>9.0</td>\n",
       "      <td>24.0</td>\n",
       "    </tr>\n",
       "  </tbody>\n",
       "</table>\n",
       "</div>"
      ],
      "text/plain": [
       "  id_ultimo_jefe_NA   count      mean       std  min  25%  50%   75%   max\n",
       "0           Missing    83.0  8.385542  5.669412  1.0  4.0  6.0  11.0  27.0\n",
       "1       Not Missing  1937.0  6.641714  4.226622  1.0  3.0  6.0   9.0  24.0"
      ]
     },
     "execution_count": 27,
     "metadata": {},
     "output_type": "execute_result"
    }
   ],
   "source": [
    "# performance vs permanencia promedio\n",
    "\n",
    "print('Valores faltantes en la id_ultimo_jefe segun permanencia promedio')\n",
    "(\n",
    "    df\n",
    "    .missing.bind_shadow_matrix(only_missing=True) # crea la matriz de sombra\n",
    "    .groupby(['id_ultimo_jefe_NA'])             # agrupar por la ausencia de la variable Peso\n",
    "    ['permanencia_promedio']                                        # variable edad como referencia\n",
    "    .describe()\n",
    "    .reset_index()\n",
    ")"
   ]
  },
  {
   "cell_type": "code",
   "execution_count": 28,
   "metadata": {},
   "outputs": [
    {
     "data": {
      "text/plain": [
       "<AxesSubplot:xlabel='id_ultimo_jefe_NA', ylabel='permanencia_promedio'>"
      ]
     },
     "execution_count": 28,
     "metadata": {},
     "output_type": "execute_result"
    },
    {
     "data": {
      "image/png": "[encoded data removed]",
      "text/plain": [
       "<Figure size 648x648 with 1 Axes>"
      ]
     },
     "metadata": {},
     "output_type": "display_data"
    }
   ],
   "source": [
    "(\n",
    "    df\n",
    "    .missing\n",
    "    .bind_shadow_matrix(only_missing=True) # crea la matriz de sombra\n",
    "    .pipe(\n",
    "        lambda df: (\n",
    "            sns.boxenplot(                 # diagrama de caja\n",
    "                data=df,                   # dataframe donde se encuentran las variables\n",
    "                x='id_ultimo_jefe_NA',         # variable con los datos faltantes\n",
    "                y='permanencia_promedio'                    # variable de comparacion\n",
    "            )\n",
    "        )   \n",
    "    )\n",
    ")"
   ]
  },
  {
   "cell_type": "markdown",
   "metadata": {},
   "source": [
    "El tiempo promedio de permanencia de los empleados es similar para aquellos con y sin missing en id_ultimo_jefe"
   ]
  },
  {
   "cell_type": "markdown",
   "metadata": {},
   "source": [
    "### id_ultimo_jefe score vs Distancia oficina"
   ]
  },
  {
   "cell_type": "code",
   "execution_count": 29,
   "metadata": {},
   "outputs": [
    {
     "name": "stdout",
     "output_type": "stream",
     "text": [
      "Valores faltantes en la variable performance segun Distancia a la oficina\n"
     ]
    },
    {
     "data": {
      "text/html": [
       "<div>\n",
       "<style scoped>\n",
       "    .dataframe tbody tr th:only-of-type {\n",
       "        vertical-align: middle;\n",
       "    }\n",
       "\n",
       "    .dataframe tbody tr th {\n",
       "        vertical-align: top;\n",
       "    }\n",
       "\n",
       "    .dataframe thead th {\n",
       "        text-align: right;\n",
       "    }\n",
       "</style>\n",
       "<table border=\"1\" class=\"dataframe\">\n",
       "  <thead>\n",
       "    <tr style=\"text-align: right;\">\n",
       "      <th></th>\n",
       "      <th>id_ultimo_jefe_NA</th>\n",
       "      <th>count</th>\n",
       "      <th>mean</th>\n",
       "      <th>std</th>\n",
       "      <th>min</th>\n",
       "      <th>25%</th>\n",
       "      <th>50%</th>\n",
       "      <th>75%</th>\n",
       "      <th>max</th>\n",
       "    </tr>\n",
       "  </thead>\n",
       "  <tbody>\n",
       "    <tr>\n",
       "      <th>0</th>\n",
       "      <td>Missing</td>\n",
       "      <td>83.0</td>\n",
       "      <td>2.957711</td>\n",
       "      <td>1.606243</td>\n",
       "      <td>0.73</td>\n",
       "      <td>1.795</td>\n",
       "      <td>2.27</td>\n",
       "      <td>3.965</td>\n",
       "      <td>7.160</td>\n",
       "    </tr>\n",
       "    <tr>\n",
       "      <th>1</th>\n",
       "      <td>Not Missing</td>\n",
       "      <td>1937.0</td>\n",
       "      <td>3.063751</td>\n",
       "      <td>1.638708</td>\n",
       "      <td>0.11</td>\n",
       "      <td>1.810</td>\n",
       "      <td>2.55</td>\n",
       "      <td>4.000</td>\n",
       "      <td>14.045</td>\n",
       "    </tr>\n",
       "  </tbody>\n",
       "</table>\n",
       "</div>"
      ],
      "text/plain": [
       "  id_ultimo_jefe_NA   count      mean       std   min    25%   50%    75%  \\\n",
       "0           Missing    83.0  2.957711  1.606243  0.73  1.795  2.27  3.965   \n",
       "1       Not Missing  1937.0  3.063751  1.638708  0.11  1.810  2.55  4.000   \n",
       "\n",
       "      max  \n",
       "0   7.160  \n",
       "1  14.045  "
      ]
     },
     "execution_count": 29,
     "metadata": {},
     "output_type": "execute_result"
    }
   ],
   "source": [
    "# performance vs distancia_oficina\n",
    "\n",
    "print('Valores faltantes en la variable performance segun Distancia a la oficina')\n",
    "(\n",
    "    df\n",
    "    .missing.bind_shadow_matrix(only_missing=True) # crea la matriz de sombra\n",
    "    .groupby(['id_ultimo_jefe_NA'])             # agrupar por la ausencia de la variable Peso\n",
    "    ['distancia_oficina']                                        # variable edad como referencia\n",
    "    .describe()\n",
    "    .reset_index()\n",
    ")"
   ]
  },
  {
   "cell_type": "code",
   "execution_count": 30,
   "metadata": {},
   "outputs": [
    {
     "data": {
      "image/png": "[encoded data removed]",
      "text/plain": [
       "<Figure size 648x648 with 1 Axes>"
      ]
     },
     "metadata": {},
     "output_type": "display_data"
    }
   ],
   "source": [
    "(\n",
    "    df\n",
    "    .missing\n",
    "    .bind_shadow_matrix(only_missing=True) # crea la matriz de sombra\n",
    "    .pipe(\n",
    "        lambda df: (\n",
    "            sns.boxenplot(                 # diagrama de caja\n",
    "                data=df,                   # dataframe donde se encuentran las variables\n",
    "                x='id_ultimo_jefe_NA',         # variable con los datos faltantes\n",
    "                y='distancia_oficina'                    # variable de comparacion\n",
    "            )\n",
    "        )   \n",
    "    )\n",
    ");"
   ]
  },
  {
   "cell_type": "markdown",
   "metadata": {},
   "source": [
    "El promedio de distancia a la oficina son muy similares tanto para empleados que poseen id_ultimo_jefe como los que no. Esto sugiere que la presencia de missing en id_ultimo_jefe no influye sobre la distancia a la que se encuentra la oficina"
   ]
  },
  {
   "cell_type": "markdown",
   "metadata": {},
   "source": [
    "### Performance score vs Dias de bajas por salud"
   ]
  },
  {
   "cell_type": "code",
   "execution_count": 31,
   "metadata": {},
   "outputs": [
    {
     "name": "stdout",
     "output_type": "stream",
     "text": [
      "Valores faltantes en la variable performance segun Dias de baja por salud\n"
     ]
    },
    {
     "data": {
      "text/html": [
       "<div>\n",
       "<style scoped>\n",
       "    .dataframe tbody tr th:only-of-type {\n",
       "        vertical-align: middle;\n",
       "    }\n",
       "\n",
       "    .dataframe tbody tr th {\n",
       "        vertical-align: top;\n",
       "    }\n",
       "\n",
       "    .dataframe thead th {\n",
       "        text-align: right;\n",
       "    }\n",
       "</style>\n",
       "<table border=\"1\" class=\"dataframe\">\n",
       "  <thead>\n",
       "    <tr style=\"text-align: right;\">\n",
       "      <th></th>\n",
       "      <th>id_ultimo_jefe_NA</th>\n",
       "      <th>count</th>\n",
       "      <th>mean</th>\n",
       "      <th>std</th>\n",
       "      <th>min</th>\n",
       "      <th>25%</th>\n",
       "      <th>50%</th>\n",
       "      <th>75%</th>\n",
       "      <th>max</th>\n",
       "    </tr>\n",
       "  </thead>\n",
       "  <tbody>\n",
       "    <tr>\n",
       "      <th>0</th>\n",
       "      <td>Missing</td>\n",
       "      <td>83.0</td>\n",
       "      <td>2.289157</td>\n",
       "      <td>2.998089</td>\n",
       "      <td>0.0</td>\n",
       "      <td>1.0</td>\n",
       "      <td>1.0</td>\n",
       "      <td>2.0</td>\n",
       "      <td>17.0</td>\n",
       "    </tr>\n",
       "    <tr>\n",
       "      <th>1</th>\n",
       "      <td>Not Missing</td>\n",
       "      <td>1937.0</td>\n",
       "      <td>2.678369</td>\n",
       "      <td>2.809060</td>\n",
       "      <td>0.0</td>\n",
       "      <td>1.0</td>\n",
       "      <td>2.0</td>\n",
       "      <td>3.0</td>\n",
       "      <td>23.0</td>\n",
       "    </tr>\n",
       "  </tbody>\n",
       "</table>\n",
       "</div>"
      ],
      "text/plain": [
       "  id_ultimo_jefe_NA   count      mean       std  min  25%  50%  75%   max\n",
       "0           Missing    83.0  2.289157  2.998089  0.0  1.0  1.0  2.0  17.0\n",
       "1       Not Missing  1937.0  2.678369  2.809060  0.0  1.0  2.0  3.0  23.0"
      ]
     },
     "execution_count": 31,
     "metadata": {},
     "output_type": "execute_result"
    }
   ],
   "source": [
    "# performance vs dias de baja\n",
    "\n",
    "print('Valores faltantes en la variable performance segun Dias de baja por salud')\n",
    "(\n",
    "    df\n",
    "    .missing.bind_shadow_matrix(only_missing=True) # crea la matriz de sombra\n",
    "    .groupby(['id_ultimo_jefe_NA'])             # agrupar por la ausencia de la variable Peso\n",
    "    ['dias_baja_salud']                                        # variable edad como referencia\n",
    "    .describe()\n",
    "    .reset_index()\n",
    ")"
   ]
  },
  {
   "cell_type": "code",
   "execution_count": 32,
   "metadata": {},
   "outputs": [
    {
     "data": {
      "image/png": "[encoded data removed]",
      "text/plain": [
       "<Figure size 648x648 with 1 Axes>"
      ]
     },
     "metadata": {},
     "output_type": "display_data"
    }
   ],
   "source": [
    "(\n",
    "    df\n",
    "    .missing\n",
    "    .bind_shadow_matrix(only_missing=True) # crea la matriz de sombra\n",
    "    .pipe(\n",
    "        lambda df: (\n",
    "            sns.boxenplot(                 # diagrama de caja\n",
    "                data=df,                   # dataframe donde se encuentran las variables\n",
    "                x='id_ultimo_jefe_NA',         # variable con los datos faltantes\n",
    "                y='distancia_oficina'                    # variable de comparacion\n",
    "            )\n",
    "        )   \n",
    "    )\n",
    ");"
   ]
  },
  {
   "cell_type": "markdown",
   "metadata": {},
   "source": [
    "El promedio de dias de baja por salud es similar para empleados con o sin id_ultimo_jefe por tanto la presencia de missing no influyen en los dias de baja por salud"
   ]
  },
  {
   "cell_type": "markdown",
   "metadata": {},
   "source": [
    "## Imputacion de valores faltantes"
   ]
  },
  {
   "cell_type": "code",
   "execution_count": 33,
   "metadata": {},
   "outputs": [
    {
     "data": {
      "text/html": [
       "<div>\n",
       "<style scoped>\n",
       "    .dataframe tbody tr th:only-of-type {\n",
       "        vertical-align: middle;\n",
       "    }\n",
       "\n",
       "    .dataframe tbody tr th {\n",
       "        vertical-align: top;\n",
       "    }\n",
       "\n",
       "    .dataframe thead th {\n",
       "        text-align: right;\n",
       "    }\n",
       "</style>\n",
       "<table border=\"1\" class=\"dataframe\">\n",
       "  <thead>\n",
       "    <tr style=\"text-align: right;\">\n",
       "      <th></th>\n",
       "      <th>id_colaborador</th>\n",
       "      <th>id_ultimo_jefe</th>\n",
       "      <th>seniority</th>\n",
       "      <th>modalidad_trabajo</th>\n",
       "      <th>distancia_oficina</th>\n",
       "      <th>dias_baja_salud</th>\n",
       "      <th>genero</th>\n",
       "      <th>canal_reclutamiento</th>\n",
       "      <th>permanencia_promedio</th>\n",
       "      <th>fecha_nacimiento</th>\n",
       "      <th>salario</th>\n",
       "      <th>performance_score</th>\n",
       "      <th>psi_score</th>\n",
       "      <th>fecha_incorporacion</th>\n",
       "      <th>estado_civil</th>\n",
       "    </tr>\n",
       "  </thead>\n",
       "  <tbody>\n",
       "    <tr>\n",
       "      <th>0</th>\n",
       "      <td>100486</td>\n",
       "      <td>102115.0</td>\n",
       "      <td>1</td>\n",
       "      <td>Híbrida</td>\n",
       "      <td>0.795</td>\n",
       "      <td>2</td>\n",
       "      <td>Hombre</td>\n",
       "      <td>Ferias &amp; Networking</td>\n",
       "      <td>2</td>\n",
       "      <td>19/01/1997</td>\n",
       "      <td>181654</td>\n",
       "      <td>99</td>\n",
       "      <td>81</td>\n",
       "      <td>24/07/2021</td>\n",
       "      <td>Soltero</td>\n",
       "    </tr>\n",
       "    <tr>\n",
       "      <th>1</th>\n",
       "      <td>103752</td>\n",
       "      <td>102074.0</td>\n",
       "      <td>1</td>\n",
       "      <td>Híbrida</td>\n",
       "      <td>1.715</td>\n",
       "      <td>1</td>\n",
       "      <td>Mujer</td>\n",
       "      <td>Ferias &amp; Networking</td>\n",
       "      <td>1</td>\n",
       "      <td>20/08/1999</td>\n",
       "      <td>140986</td>\n",
       "      <td>97</td>\n",
       "      <td>75</td>\n",
       "      <td>27/01/2018</td>\n",
       "      <td>Soltero</td>\n",
       "    </tr>\n",
       "    <tr>\n",
       "      <th>2</th>\n",
       "      <td>103937</td>\n",
       "      <td>102150.0</td>\n",
       "      <td>1</td>\n",
       "      <td>Híbrida</td>\n",
       "      <td>2.375</td>\n",
       "      <td>1</td>\n",
       "      <td>Hombre</td>\n",
       "      <td>Portal Web</td>\n",
       "      <td>6</td>\n",
       "      <td>29/10/1984</td>\n",
       "      <td>406690</td>\n",
       "      <td>96</td>\n",
       "      <td>69</td>\n",
       "      <td>24/04/2022</td>\n",
       "      <td>Soltero</td>\n",
       "    </tr>\n",
       "    <tr>\n",
       "      <th>3</th>\n",
       "      <td>101744</td>\n",
       "      <td>102172.0</td>\n",
       "      <td>1</td>\n",
       "      <td>Híbrida</td>\n",
       "      <td>2.185</td>\n",
       "      <td>3</td>\n",
       "      <td>Hombre</td>\n",
       "      <td>Linkedin</td>\n",
       "      <td>3</td>\n",
       "      <td>9/11/1992</td>\n",
       "      <td>249107</td>\n",
       "      <td>95</td>\n",
       "      <td>73</td>\n",
       "      <td>23/05/2023</td>\n",
       "      <td>Casado</td>\n",
       "    </tr>\n",
       "    <tr>\n",
       "      <th>4</th>\n",
       "      <td>101037</td>\n",
       "      <td>102060.0</td>\n",
       "      <td>1</td>\n",
       "      <td>Híbrida</td>\n",
       "      <td>4.660</td>\n",
       "      <td>3</td>\n",
       "      <td>Hombre</td>\n",
       "      <td>Referidos</td>\n",
       "      <td>10</td>\n",
       "      <td>14/07/1969</td>\n",
       "      <td>698318</td>\n",
       "      <td>95</td>\n",
       "      <td>81</td>\n",
       "      <td>20/06/2015</td>\n",
       "      <td>Viudo</td>\n",
       "    </tr>\n",
       "    <tr>\n",
       "      <th>...</th>\n",
       "      <td>...</td>\n",
       "      <td>...</td>\n",
       "      <td>...</td>\n",
       "      <td>...</td>\n",
       "      <td>...</td>\n",
       "      <td>...</td>\n",
       "      <td>...</td>\n",
       "      <td>...</td>\n",
       "      <td>...</td>\n",
       "      <td>...</td>\n",
       "      <td>...</td>\n",
       "      <td>...</td>\n",
       "      <td>...</td>\n",
       "      <td>...</td>\n",
       "      <td>...</td>\n",
       "    </tr>\n",
       "    <tr>\n",
       "      <th>2015</th>\n",
       "      <td>103755</td>\n",
       "      <td>102161.0</td>\n",
       "      <td>1</td>\n",
       "      <td>Presencial</td>\n",
       "      <td>2.995</td>\n",
       "      <td>2</td>\n",
       "      <td>Mujer</td>\n",
       "      <td>Portal Web</td>\n",
       "      <td>16</td>\n",
       "      <td>23/02/1970</td>\n",
       "      <td>700814</td>\n",
       "      <td>90</td>\n",
       "      <td>69</td>\n",
       "      <td>11/11/2023</td>\n",
       "      <td>Soltero</td>\n",
       "    </tr>\n",
       "    <tr>\n",
       "      <th>2016</th>\n",
       "      <td>103976</td>\n",
       "      <td>102171.0</td>\n",
       "      <td>1</td>\n",
       "      <td>Presencial</td>\n",
       "      <td>2.775</td>\n",
       "      <td>0</td>\n",
       "      <td>Mujer</td>\n",
       "      <td>Portal Web</td>\n",
       "      <td>5</td>\n",
       "      <td>30/09/1970</td>\n",
       "      <td>677071</td>\n",
       "      <td>93</td>\n",
       "      <td>66</td>\n",
       "      <td>24/09/2023</td>\n",
       "      <td>Divorciado</td>\n",
       "    </tr>\n",
       "    <tr>\n",
       "      <th>2017</th>\n",
       "      <td>104115</td>\n",
       "      <td>102144.0</td>\n",
       "      <td>1</td>\n",
       "      <td>Presencial</td>\n",
       "      <td>3.990</td>\n",
       "      <td>1</td>\n",
       "      <td>Hombre</td>\n",
       "      <td>Portal Web</td>\n",
       "      <td>7</td>\n",
       "      <td>14/06/1970</td>\n",
       "      <td>876285</td>\n",
       "      <td>84</td>\n",
       "      <td>69</td>\n",
       "      <td>6/09/2023</td>\n",
       "      <td>Soltero</td>\n",
       "    </tr>\n",
       "    <tr>\n",
       "      <th>2018</th>\n",
       "      <td>103920</td>\n",
       "      <td>102152.0</td>\n",
       "      <td>1</td>\n",
       "      <td>Presencial</td>\n",
       "      <td>7.100</td>\n",
       "      <td>1</td>\n",
       "      <td>Mujer</td>\n",
       "      <td>Linkedin</td>\n",
       "      <td>8</td>\n",
       "      <td>30/05/1968</td>\n",
       "      <td>719102</td>\n",
       "      <td>91</td>\n",
       "      <td>75</td>\n",
       "      <td>8/11/2023</td>\n",
       "      <td>Soltero</td>\n",
       "    </tr>\n",
       "    <tr>\n",
       "      <th>2019</th>\n",
       "      <td>103151</td>\n",
       "      <td>102171.0</td>\n",
       "      <td>1</td>\n",
       "      <td>Presencial</td>\n",
       "      <td>2.695</td>\n",
       "      <td>3</td>\n",
       "      <td>Mujer</td>\n",
       "      <td>Referidos</td>\n",
       "      <td>18</td>\n",
       "      <td>27/05/1963</td>\n",
       "      <td>898994</td>\n",
       "      <td>89</td>\n",
       "      <td>82</td>\n",
       "      <td>24/08/2023</td>\n",
       "      <td>Casado</td>\n",
       "    </tr>\n",
       "  </tbody>\n",
       "</table>\n",
       "<p>2020 rows × 15 columns</p>\n",
       "</div>"
      ],
      "text/plain": [
       "      id_colaborador  id_ultimo_jefe  seniority modalidad_trabajo  \\\n",
       "0             100486        102115.0          1           Híbrida   \n",
       "1             103752        102074.0          1           Híbrida   \n",
       "2             103937        102150.0          1           Híbrida   \n",
       "3             101744        102172.0          1           Híbrida   \n",
       "4             101037        102060.0          1           Híbrida   \n",
       "...              ...             ...        ...               ...   \n",
       "2015          103755        102161.0          1        Presencial   \n",
       "2016          103976        102171.0          1        Presencial   \n",
       "2017          104115        102144.0          1        Presencial   \n",
       "2018          103920        102152.0          1        Presencial   \n",
       "2019          103151        102171.0          1        Presencial   \n",
       "\n",
       "      distancia_oficina  dias_baja_salud  genero  canal_reclutamiento  \\\n",
       "0                 0.795                2  Hombre  Ferias & Networking   \n",
       "1                 1.715                1   Mujer  Ferias & Networking   \n",
       "2                 2.375                1  Hombre           Portal Web   \n",
       "3                 2.185                3  Hombre             Linkedin   \n",
       "4                 4.660                3  Hombre            Referidos   \n",
       "...                 ...              ...     ...                  ...   \n",
       "2015              2.995                2   Mujer           Portal Web   \n",
       "2016              2.775                0   Mujer           Portal Web   \n",
       "2017              3.990                1  Hombre           Portal Web   \n",
       "2018              7.100                1   Mujer             Linkedin   \n",
       "2019              2.695                3   Mujer            Referidos   \n",
       "\n",
       "      permanencia_promedio fecha_nacimiento  salario  performance_score  \\\n",
       "0                        2       19/01/1997   181654                 99   \n",
       "1                        1       20/08/1999   140986                 97   \n",
       "2                        6       29/10/1984   406690                 96   \n",
       "3                        3        9/11/1992   249107                 95   \n",
       "4                       10       14/07/1969   698318                 95   \n",
       "...                    ...              ...      ...                ...   \n",
       "2015                    16       23/02/1970   700814                 90   \n",
       "2016                     5       30/09/1970   677071                 93   \n",
       "2017                     7       14/06/1970   876285                 84   \n",
       "2018                     8       30/05/1968   719102                 91   \n",
       "2019                    18       27/05/1963   898994                 89   \n",
       "\n",
       "      psi_score fecha_incorporacion estado_civil  \n",
       "0            81          24/07/2021      Soltero  \n",
       "1            75          27/01/2018      Soltero  \n",
       "2            69          24/04/2022      Soltero  \n",
       "3            73          23/05/2023       Casado  \n",
       "4            81          20/06/2015        Viudo  \n",
       "...         ...                 ...          ...  \n",
       "2015         69          11/11/2023      Soltero  \n",
       "2016         66          24/09/2023   Divorciado  \n",
       "2017         69           6/09/2023      Soltero  \n",
       "2018         75           8/11/2023      Soltero  \n",
       "2019         82          24/08/2023       Casado  \n",
       "\n",
       "[2020 rows x 15 columns]"
      ]
     },
     "execution_count": 33,
     "metadata": {},
     "output_type": "execute_result"
    }
   ],
   "source": [
    "df"
   ]
  },
  {
   "cell_type": "code",
   "execution_count": 34,
   "metadata": {},
   "outputs": [],
   "source": [
    "import janitor  # limpiar datos"
   ]
  },
  {
   "cell_type": "code",
   "execution_count": 35,
   "metadata": {},
   "outputs": [],
   "source": [
    "df_jefe = (\n",
    "    df\n",
    "    .select_columns('id_ultimo_jefe')\n",
    "    .fillna(method='ffill')\n",
    ")"
   ]
  },
  {
   "cell_type": "code",
   "execution_count": 36,
   "metadata": {},
   "outputs": [
    {
     "data": {
      "text/html": [
       "<div>\n",
       "<style scoped>\n",
       "    .dataframe tbody tr th:only-of-type {\n",
       "        vertical-align: middle;\n",
       "    }\n",
       "\n",
       "    .dataframe tbody tr th {\n",
       "        vertical-align: top;\n",
       "    }\n",
       "\n",
       "    .dataframe thead th {\n",
       "        text-align: right;\n",
       "    }\n",
       "</style>\n",
       "<table border=\"1\" class=\"dataframe\">\n",
       "  <thead>\n",
       "    <tr style=\"text-align: right;\">\n",
       "      <th></th>\n",
       "      <th>id_ultimo_jefe</th>\n",
       "    </tr>\n",
       "  </thead>\n",
       "  <tbody>\n",
       "    <tr>\n",
       "      <th>0</th>\n",
       "      <td>102115.0</td>\n",
       "    </tr>\n",
       "    <tr>\n",
       "      <th>1</th>\n",
       "      <td>102074.0</td>\n",
       "    </tr>\n",
       "    <tr>\n",
       "      <th>2</th>\n",
       "      <td>102150.0</td>\n",
       "    </tr>\n",
       "    <tr>\n",
       "      <th>3</th>\n",
       "      <td>102172.0</td>\n",
       "    </tr>\n",
       "    <tr>\n",
       "      <th>4</th>\n",
       "      <td>102060.0</td>\n",
       "    </tr>\n",
       "    <tr>\n",
       "      <th>...</th>\n",
       "      <td>...</td>\n",
       "    </tr>\n",
       "    <tr>\n",
       "      <th>2015</th>\n",
       "      <td>102161.0</td>\n",
       "    </tr>\n",
       "    <tr>\n",
       "      <th>2016</th>\n",
       "      <td>102171.0</td>\n",
       "    </tr>\n",
       "    <tr>\n",
       "      <th>2017</th>\n",
       "      <td>102144.0</td>\n",
       "    </tr>\n",
       "    <tr>\n",
       "      <th>2018</th>\n",
       "      <td>102152.0</td>\n",
       "    </tr>\n",
       "    <tr>\n",
       "      <th>2019</th>\n",
       "      <td>102171.0</td>\n",
       "    </tr>\n",
       "  </tbody>\n",
       "</table>\n",
       "<p>2020 rows × 1 columns</p>\n",
       "</div>"
      ],
      "text/plain": [
       "      id_ultimo_jefe\n",
       "0           102115.0\n",
       "1           102074.0\n",
       "2           102150.0\n",
       "3           102172.0\n",
       "4           102060.0\n",
       "...              ...\n",
       "2015        102161.0\n",
       "2016        102171.0\n",
       "2017        102144.0\n",
       "2018        102152.0\n",
       "2019        102171.0\n",
       "\n",
       "[2020 rows x 1 columns]"
      ]
     },
     "execution_count": 36,
     "metadata": {},
     "output_type": "execute_result"
    }
   ],
   "source": [
    "df_jefe"
   ]
  },
  {
   "cell_type": "code",
   "execution_count": 37,
   "metadata": {},
   "outputs": [],
   "source": [
    "df['id_ultimo_jefe'] = df_jefe['id_ultimo_jefe']"
   ]
  },
  {
   "cell_type": "code",
   "execution_count": 38,
   "metadata": {},
   "outputs": [
    {
     "data": {
      "text/plain": [
       "id_colaborador          0\n",
       "id_ultimo_jefe          0\n",
       "seniority               0\n",
       "modalidad_trabajo       0\n",
       "distancia_oficina       0\n",
       "dias_baja_salud         0\n",
       "genero                  0\n",
       "canal_reclutamiento     0\n",
       "permanencia_promedio    0\n",
       "fecha_nacimiento        0\n",
       "salario                 0\n",
       "performance_score       0\n",
       "psi_score               0\n",
       "fecha_incorporacion     0\n",
       "estado_civil            0\n",
       "dtype: int64"
      ]
     },
     "execution_count": 38,
     "metadata": {},
     "output_type": "execute_result"
    }
   ],
   "source": [
    "df.isnull().sum()"
   ]
  },
  {
   "cell_type": "code",
   "execution_count": 39,
   "metadata": {},
   "outputs": [
    {
     "data": {
      "text/plain": [
       "(2020, 15)"
      ]
     },
     "execution_count": 39,
     "metadata": {},
     "output_type": "execute_result"
    }
   ],
   "source": [
    "df.shape"
   ]
  },
  {
   "cell_type": "code",
   "execution_count": 40,
   "metadata": {},
   "outputs": [],
   "source": [
    "# exportar datos preparados\n",
    "#df.to_csv('test_data_preparado.csv', index=False)"
   ]
  }
 ],
 "metadata": {
  "kernelspec": {
   "display_name": "data",
   "language": "python",
   "name": "python3"
  },
  "language_info": {
   "codemirror_mode": {
    "name": "ipython",
    "version": 3
   },
   "file_extension": ".py",
   "mimetype": "text/x-python",
   "name": "python",
   "nbconvert_exporter": "python",
   "pygments_lexer": "ipython3",
   "version": "3.10.8"
  }
 },
 "nbformat": 4,
 "nbformat_minor": 2
}
