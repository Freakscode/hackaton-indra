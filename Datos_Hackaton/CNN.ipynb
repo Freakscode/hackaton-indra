{
 "cells": [
  {
   "cell_type": "code",
   "execution_count": 117,
   "metadata": {},
   "outputs": [],
   "source": [
    "import tensorflow as tf\n",
    "from tensorflow.keras.models import Sequential\n",
    "from tensorflow.keras.layers import Dense, Conv1D, MaxPooling1D, Flatten\n",
    "from tensorflow.keras.callbacks import EarlyStopping\n",
    "from sklearn.model_selection import train_test_split\n",
    "from sklearn.impute import SimpleImputer\n",
    "from sklearn.preprocessing import StandardScaler, OneHotEncoder\n",
    "from tensorflow.keras.metrics import MeanAbsoluteError, MeanSquaredError\n",
    "from sklearn.metrics import mean_squared_error, mean_absolute_error, r2_score\n",
    "from sklearn.compose import ColumnTransformer\n",
    "from tensorflow.keras.optimizers import Adam\n",
    "from keras_tuner import HyperModel\n",
    "from keras_tuner.tuners import Hyperband\n",
    "import pandas as pd\n",
    "from datetime import datetime"
   ]
  },
  {
   "cell_type": "code",
   "execution_count": 118,
   "metadata": {},
   "outputs": [],
   "source": [
    "df = pd.read_csv('train_data.csv', sep = ';')\n",
    "df_prueba = pd.read_csv('test_data.csv', sep = ';')"
   ]
  },
  {
   "cell_type": "code",
   "execution_count": 119,
   "metadata": {},
   "outputs": [],
   "source": [
    "df['edad'] = pd.to_datetime(df['fecha_nacimiento'], format='%d/%m/%Y').apply(lambda x:datetime.now().year - x.year)"
   ]
  },
  {
   "cell_type": "code",
   "execution_count": 120,
   "metadata": {},
   "outputs": [
    {
     "name": "stdout",
     "output_type": "stream",
     "text": [
      "   id_colaborador  id_ultimo_jefe  ...  abandono_6meses edad\n",
      "0          100247        102074.0  ...                0   25\n",
      "1          103355        102115.0  ...                1   28\n",
      "2          100669        102060.0  ...                0   53\n",
      "3          103760        102062.0  ...                1   32\n",
      "4          100965        102062.0  ...                0   32\n",
      "\n",
      "[5 rows x 17 columns]\n"
     ]
    }
   ],
   "source": [
    "print(df.head())"
   ]
  },
  {
   "cell_type": "code",
   "execution_count": 121,
   "metadata": {},
   "outputs": [],
   "source": [
    "caracteristicas_importantes = ['seniority', 'modalidad_trabajo', 'distancia_oficina', 'dias_baja_salud', 'salario', 'performance_score', 'psi_score', 'genero', 'canal_reclutamiento', 'estado_civil']\n",
    "X = df[caracteristicas_importantes]\n",
    "X_prueba = df_prueba[caracteristicas_importantes]\n",
    "y = df['abandono_6meses']\n",
    "\n",
    "imputer = SimpleImputer(strategy='mean')\n",
    "X.loc[:, 'performance_score'] = imputer.fit_transform(X[['performance_score']])\n"
   ]
  },
  {
   "cell_type": "code",
   "execution_count": 122,
   "metadata": {},
   "outputs": [
    {
     "name": "stdout",
     "output_type": "stream",
     "text": [
      "2020\n"
     ]
    }
   ],
   "source": [
    "print(len(X_prueba))"
   ]
  },
  {
   "cell_type": "code",
   "execution_count": 123,
   "metadata": {},
   "outputs": [],
   "source": [
    "caracteristicas_num = ['seniority', 'distancia_oficina', 'dias_baja_salud', 'salario', 'psi_score', 'performance_score']\n",
    "caracteristicas_cat = ['modalidad_trabajo', 'genero', 'canal_reclutamiento', 'estado_civil']\n",
    "\n",
    "preprocessor = ColumnTransformer(\n",
    "    transformers=[\n",
    "        ('num', StandardScaler(), caracteristicas_num),\n",
    "        ('cat', OneHotEncoder(), caracteristicas_cat)\n",
    "    ])\n",
    "\n",
    "X_preprocesado = preprocessor.fit_transform(X)\n",
    "X_prueba_preprocesado = preprocessor.transform(X_prueba)\n",
    "X_train, X_test, y_train, y_test = train_test_split(X_preprocesado, y, test_size=0.2, random_state=42)"
   ]
  },
  {
   "cell_type": "code",
   "execution_count": 124,
   "metadata": {},
   "outputs": [
    {
     "name": "stderr",
     "output_type": "stream",
     "text": [
      "e:\\Proyecto INDRA\\hackaton-indra\\.venv\\Lib\\site-packages\\keras\\src\\layers\\core\\dense.py:88: UserWarning: Do not pass an `input_shape`/`input_dim` argument to a layer. When using Sequential models, prefer using an `Input(shape)` object as the first layer in the model instead.\n",
      "  super().__init__(activity_regularizer=activity_regularizer, **kwargs)\n"
     ]
    },
    {
     "data": {
      "text/html": [
       "<pre style=\"white-space:pre;overflow-x:auto;line-height:normal;font-family:Menlo,'DejaVu Sans Mono',consolas,'Courier New',monospace\"><span style=\"font-weight: bold\">Model: \"sequential_1\"</span>\n",
       "</pre>\n"
      ],
      "text/plain": [
       "\u001b[1mModel: \"sequential_1\"\u001b[0m\n"
      ]
     },
     "metadata": {},
     "output_type": "display_data"
    },
    {
     "data": {
      "text/html": [
       "<pre style=\"white-space:pre;overflow-x:auto;line-height:normal;font-family:Menlo,'DejaVu Sans Mono',consolas,'Courier New',monospace\">┏━━━━━━━━━━━━━━━━━━━━━━━━━━━━━━━━━┳━━━━━━━━━━━━━━━━━━━━━━━━┳━━━━━━━━━━━━━━━┓\n",
       "┃<span style=\"font-weight: bold\"> Layer (type)                    </span>┃<span style=\"font-weight: bold\"> Output Shape           </span>┃<span style=\"font-weight: bold\">       Param # </span>┃\n",
       "┡━━━━━━━━━━━━━━━━━━━━━━━━━━━━━━━━━╇━━━━━━━━━━━━━━━━━━━━━━━━╇━━━━━━━━━━━━━━━┩\n",
       "│ dense_2 (<span style=\"color: #0087ff; text-decoration-color: #0087ff\">Dense</span>)                 │ (<span style=\"color: #00d7ff; text-decoration-color: #00d7ff\">None</span>, <span style=\"color: #00af00; text-decoration-color: #00af00\">64</span>)             │         <span style=\"color: #00af00; text-decoration-color: #00af00\">1,280</span> │\n",
       "├─────────────────────────────────┼────────────────────────┼───────────────┤\n",
       "│ dense_3 (<span style=\"color: #0087ff; text-decoration-color: #0087ff\">Dense</span>)                 │ (<span style=\"color: #00d7ff; text-decoration-color: #00d7ff\">None</span>, <span style=\"color: #00af00; text-decoration-color: #00af00\">64</span>)             │         <span style=\"color: #00af00; text-decoration-color: #00af00\">4,160</span> │\n",
       "├─────────────────────────────────┼────────────────────────┼───────────────┤\n",
       "│ dense_4 (<span style=\"color: #0087ff; text-decoration-color: #0087ff\">Dense</span>)                 │ (<span style=\"color: #00d7ff; text-decoration-color: #00d7ff\">None</span>, <span style=\"color: #00af00; text-decoration-color: #00af00\">1</span>)              │            <span style=\"color: #00af00; text-decoration-color: #00af00\">65</span> │\n",
       "└─────────────────────────────────┴────────────────────────┴───────────────┘\n",
       "</pre>\n"
      ],
      "text/plain": [
       "┏━━━━━━━━━━━━━━━━━━━━━━━━━━━━━━━━━┳━━━━━━━━━━━━━━━━━━━━━━━━┳━━━━━━━━━━━━━━━┓\n",
       "┃\u001b[1m \u001b[0m\u001b[1mLayer (type)                   \u001b[0m\u001b[1m \u001b[0m┃\u001b[1m \u001b[0m\u001b[1mOutput Shape          \u001b[0m\u001b[1m \u001b[0m┃\u001b[1m \u001b[0m\u001b[1m      Param #\u001b[0m\u001b[1m \u001b[0m┃\n",
       "┡━━━━━━━━━━━━━━━━━━━━━━━━━━━━━━━━━╇━━━━━━━━━━━━━━━━━━━━━━━━╇━━━━━━━━━━━━━━━┩\n",
       "│ dense_2 (\u001b[38;5;33mDense\u001b[0m)                 │ (\u001b[38;5;45mNone\u001b[0m, \u001b[38;5;34m64\u001b[0m)             │         \u001b[38;5;34m1,280\u001b[0m │\n",
       "├─────────────────────────────────┼────────────────────────┼───────────────┤\n",
       "│ dense_3 (\u001b[38;5;33mDense\u001b[0m)                 │ (\u001b[38;5;45mNone\u001b[0m, \u001b[38;5;34m64\u001b[0m)             │         \u001b[38;5;34m4,160\u001b[0m │\n",
       "├─────────────────────────────────┼────────────────────────┼───────────────┤\n",
       "│ dense_4 (\u001b[38;5;33mDense\u001b[0m)                 │ (\u001b[38;5;45mNone\u001b[0m, \u001b[38;5;34m1\u001b[0m)              │            \u001b[38;5;34m65\u001b[0m │\n",
       "└─────────────────────────────────┴────────────────────────┴───────────────┘\n"
      ]
     },
     "metadata": {},
     "output_type": "display_data"
    },
    {
     "data": {
      "text/html": [
       "<pre style=\"white-space:pre;overflow-x:auto;line-height:normal;font-family:Menlo,'DejaVu Sans Mono',consolas,'Courier New',monospace\"><span style=\"font-weight: bold\"> Total params: </span><span style=\"color: #00af00; text-decoration-color: #00af00\">5,505</span> (21.50 KB)\n",
       "</pre>\n"
      ],
      "text/plain": [
       "\u001b[1m Total params: \u001b[0m\u001b[38;5;34m5,505\u001b[0m (21.50 KB)\n"
      ]
     },
     "metadata": {},
     "output_type": "display_data"
    },
    {
     "data": {
      "text/html": [
       "<pre style=\"white-space:pre;overflow-x:auto;line-height:normal;font-family:Menlo,'DejaVu Sans Mono',consolas,'Courier New',monospace\"><span style=\"font-weight: bold\"> Trainable params: </span><span style=\"color: #00af00; text-decoration-color: #00af00\">5,505</span> (21.50 KB)\n",
       "</pre>\n"
      ],
      "text/plain": [
       "\u001b[1m Trainable params: \u001b[0m\u001b[38;5;34m5,505\u001b[0m (21.50 KB)\n"
      ]
     },
     "metadata": {},
     "output_type": "display_data"
    },
    {
     "data": {
      "text/html": [
       "<pre style=\"white-space:pre;overflow-x:auto;line-height:normal;font-family:Menlo,'DejaVu Sans Mono',consolas,'Courier New',monospace\"><span style=\"font-weight: bold\"> Non-trainable params: </span><span style=\"color: #00af00; text-decoration-color: #00af00\">0</span> (0.00 B)\n",
       "</pre>\n"
      ],
      "text/plain": [
       "\u001b[1m Non-trainable params: \u001b[0m\u001b[38;5;34m0\u001b[0m (0.00 B)\n"
      ]
     },
     "metadata": {},
     "output_type": "display_data"
    },
    {
     "name": "stdout",
     "output_type": "stream",
     "text": [
      "Epoch 1/5000\n"
     ]
    },
    {
     "name": "stdout",
     "output_type": "stream",
     "text": [
      "\u001b[1m43/43\u001b[0m \u001b[32m━━━━━━━━━━━━━━━━━━━━\u001b[0m\u001b[37m\u001b[0m \u001b[1m1s\u001b[0m 4ms/step - accuracy: 0.5543 - loss: 0.6781 - val_accuracy: 0.6261 - val_loss: 0.6326\n",
      "Epoch 2/5000\n",
      "\u001b[1m43/43\u001b[0m \u001b[32m━━━━━━━━━━━━━━━━━━━━\u001b[0m\u001b[37m\u001b[0m \u001b[1m0s\u001b[0m 1ms/step - accuracy: 0.6676 - loss: 0.6241 - val_accuracy: 0.6348 - val_loss: 0.6170\n",
      "Epoch 3/5000\n",
      "\u001b[1m43/43\u001b[0m \u001b[32m━━━━━━━━━━━━━━━━━━━━\u001b[0m\u001b[37m\u001b[0m \u001b[1m0s\u001b[0m 1ms/step - accuracy: 0.6823 - loss: 0.5966 - val_accuracy: 0.6174 - val_loss: 0.6146\n",
      "Epoch 4/5000\n",
      "\u001b[1m43/43\u001b[0m \u001b[32m━━━━━━━━━━━━━━━━━━━━\u001b[0m\u001b[37m\u001b[0m \u001b[1m0s\u001b[0m 1ms/step - accuracy: 0.6846 - loss: 0.5903 - val_accuracy: 0.6290 - val_loss: 0.6107\n",
      "Epoch 5/5000\n",
      "\u001b[1m43/43\u001b[0m \u001b[32m━━━━━━━━━━━━━━━━━━━━\u001b[0m\u001b[37m\u001b[0m \u001b[1m0s\u001b[0m 1ms/step - accuracy: 0.6542 - loss: 0.5941 - val_accuracy: 0.6348 - val_loss: 0.6285\n",
      "Epoch 6/5000\n",
      "\u001b[1m43/43\u001b[0m \u001b[32m━━━━━━━━━━━━━━━━━━━━\u001b[0m\u001b[37m\u001b[0m \u001b[1m0s\u001b[0m 1ms/step - accuracy: 0.6736 - loss: 0.5684 - val_accuracy: 0.6319 - val_loss: 0.6105\n",
      "Epoch 7/5000\n",
      "\u001b[1m43/43\u001b[0m \u001b[32m━━━━━━━━━━━━━━━━━━━━\u001b[0m\u001b[37m\u001b[0m \u001b[1m0s\u001b[0m 1ms/step - accuracy: 0.6842 - loss: 0.5754 - val_accuracy: 0.6290 - val_loss: 0.6146\n",
      "Epoch 8/5000\n",
      "\u001b[1m43/43\u001b[0m \u001b[32m━━━━━━━━━━━━━━━━━━━━\u001b[0m\u001b[37m\u001b[0m \u001b[1m0s\u001b[0m 2ms/step - accuracy: 0.6810 - loss: 0.5792 - val_accuracy: 0.6348 - val_loss: 0.6202\n",
      "Epoch 9/5000\n",
      "\u001b[1m43/43\u001b[0m \u001b[32m━━━━━━━━━━━━━━━━━━━━\u001b[0m\u001b[37m\u001b[0m \u001b[1m0s\u001b[0m 2ms/step - accuracy: 0.6979 - loss: 0.5586 - val_accuracy: 0.6464 - val_loss: 0.6180\n",
      "Epoch 10/5000\n",
      "\u001b[1m43/43\u001b[0m \u001b[32m━━━━━━━━━━━━━━━━━━━━\u001b[0m\u001b[37m\u001b[0m \u001b[1m0s\u001b[0m 1ms/step - accuracy: 0.7063 - loss: 0.5452 - val_accuracy: 0.6464 - val_loss: 0.6135\n",
      "Epoch 11/5000\n",
      "\u001b[1m43/43\u001b[0m \u001b[32m━━━━━━━━━━━━━━━━━━━━\u001b[0m\u001b[37m\u001b[0m \u001b[1m0s\u001b[0m 1ms/step - accuracy: 0.6972 - loss: 0.5586 - val_accuracy: 0.6348 - val_loss: 0.6175\n",
      "Epoch 12/5000\n",
      "\u001b[1m43/43\u001b[0m \u001b[32m━━━━━━━━━━━━━━━━━━━━\u001b[0m\u001b[37m\u001b[0m \u001b[1m0s\u001b[0m 2ms/step - accuracy: 0.7062 - loss: 0.5523 - val_accuracy: 0.6493 - val_loss: 0.6193\n",
      "Epoch 13/5000\n",
      "\u001b[1m43/43\u001b[0m \u001b[32m━━━━━━━━━━━━━━━━━━━━\u001b[0m\u001b[37m\u001b[0m \u001b[1m0s\u001b[0m 2ms/step - accuracy: 0.7140 - loss: 0.5554 - val_accuracy: 0.6464 - val_loss: 0.6188\n",
      "Epoch 14/5000\n",
      "\u001b[1m43/43\u001b[0m \u001b[32m━━━━━━━━━━━━━━━━━━━━\u001b[0m\u001b[37m\u001b[0m \u001b[1m0s\u001b[0m 2ms/step - accuracy: 0.7264 - loss: 0.5390 - val_accuracy: 0.6377 - val_loss: 0.6289\n",
      "Epoch 15/5000\n",
      "\u001b[1m43/43\u001b[0m \u001b[32m━━━━━━━━━━━━━━━━━━━━\u001b[0m\u001b[37m\u001b[0m \u001b[1m0s\u001b[0m 1ms/step - accuracy: 0.7259 - loss: 0.5298 - val_accuracy: 0.6435 - val_loss: 0.6178\n",
      "Epoch 16/5000\n",
      "\u001b[1m43/43\u001b[0m \u001b[32m━━━━━━━━━━━━━━━━━━━━\u001b[0m\u001b[37m\u001b[0m \u001b[1m0s\u001b[0m 1ms/step - accuracy: 0.7367 - loss: 0.5379 - val_accuracy: 0.6580 - val_loss: 0.6174\n",
      "14/14 - 0s - 2ms/step - accuracy: 0.6566 - loss: 0.6136\n"
     ]
    }
   ],
   "source": [
    "modelo = Sequential([\n",
    "    Dense(64, activation='relu', input_shape=(X_train.shape[1],)),\n",
    "    Dense(64, activation='relu'),\n",
    "    Dense(1, activation='sigmoid')\n",
    "])\n",
    "\n",
    "modelo.compile(optimizer='adam', loss='binary_crossentropy', metrics=['accuracy'])\n",
    "\n",
    "modelo.summary()\n",
    "\n",
    "stopper = EarlyStopping(monitor = 'val_loss', patience = 10, restore_best_weights = True)\n",
    "\n",
    "history = modelo.fit(X_train, y_train, epochs=5000, validation_split=0.2, callbacks=[stopper], verbose=1)\n",
    "\n",
    "test_loss, test_acc = modelo.evaluate(X_test, y_test, verbose=2)"
   ]
  },
  {
   "cell_type": "code",
   "execution_count": 126,
   "metadata": {},
   "outputs": [
    {
     "name": "stdout",
     "output_type": "stream",
     "text": [
      "\u001b[1m64/64\u001b[0m \u001b[32m━━━━━━━━━━━━━━━━━━━━\u001b[0m\u001b[37m\u001b[0m \u001b[1m0s\u001b[0m 706us/step\n",
      "2020\n",
      "2020\n"
     ]
    }
   ],
   "source": [
    "predicciones = modelo.predict(X_prueba_preprocesado)\n",
    "\n",
    "umbral_predicciones = (predicciones >= 0.5).astype(int)\n",
    "umbral_predicciones = umbral_predicciones.flatten()\n",
    "\n",
    "print(len(umbral_predicciones))\n",
    "print(len(df_prueba['id_colaborador']))\n",
    "\n",
    "\n",
    "# Crear un DataFrame con las predicciones\n",
    "\n",
    "df_predicciones = pd.DataFrame({'ID': df_prueba['id_colaborador'], 'abandono_6meses': umbral_predicciones})\n",
    "\n",
    "# Guardar las predicciones en un archivo CSV\n",
    "df_predicciones.to_csv('predicciones.csv', index=False)"
   ]
  },
  {
   "cell_type": "code",
   "execution_count": 90,
   "metadata": {},
   "outputs": [
    {
     "name": "stdout",
     "output_type": "stream",
     "text": [
      "Accuracy:  0.6473317742347717\n"
     ]
    }
   ],
   "source": [
    "print('Accuracy: ', test_acc)"
   ]
  },
  {
   "cell_type": "code",
   "execution_count": 93,
   "metadata": {},
   "outputs": [],
   "source": [
    "def train_evaluate_model(neurons, lr, batch_size, X_train, y_train, X_test, y_test):\n",
    "    model = Sequential([\n",
    "        Conv1D(filters=neurons, kernel_size=3, activation='relu', input_shape=(X_train.shape[1], 1)),\n",
    "        MaxPooling1D(pool_size=2),\n",
    "        Flatten(),\n",
    "        Dense(neurons, activation='relu'),\n",
    "        Dense(1)  # Sin función de activación 'sigmoid' para regresión\n",
    "    ])\n",
    "    \n",
    "    optimizer = Adam(learning_rate=lr)\n",
    "    model.compile(optimizer=optimizer, \n",
    "                    loss='mean_squared_error',  # MSE es una elección común para regresión\n",
    "                    metrics=[\n",
    "                        MeanAbsoluteError(name='mae'),\n",
    "                        MeanSquaredError(name='mse')\n",
    "                        ])\n",
    "    \n",
    "    stopper = EarlyStopping(monitor='val_loss', patience=10, restore_best_weights=True)\n",
    "    history = model.fit(X_train, y_train, epochs=100, validation_split=0.2, callbacks=[stopper], verbose=0, batch_size=batch_size)\n",
    "    \n",
    "    metrics = model.evaluate(X_test, y_test, verbose=0, return_dict=True)\n",
    "    \n",
    "    # Calcular R-squared usando sklearn\n",
    "    y_pred = model.predict(X_test)\n",
    "    metrics['r2_score'] = r2_score(y_test, y_pred)\n",
    "    \n",
    "    return model, metrics"
   ]
  },
  {
   "cell_type": "code",
   "execution_count": 94,
   "metadata": {},
   "outputs": [
    {
     "name": "stderr",
     "output_type": "stream",
     "text": [
      "e:\\Proyecto INDRA\\hackaton-indra\\.venv\\Lib\\site-packages\\keras\\src\\layers\\convolutional\\base_conv.py:99: UserWarning: Do not pass an `input_shape`/`input_dim` argument to a layer. When using Sequential models, prefer using an `Input(shape)` object as the first layer in the model instead.\n",
      "  super().__init__(\n"
     ]
    },
    {
     "name": "stdout",
     "output_type": "stream",
     "text": [
      "\u001b[1m14/14\u001b[0m \u001b[32m━━━━━━━━━━━━━━━━━━━━\u001b[0m\u001b[37m\u001b[0m \u001b[1m0s\u001b[0m 4ms/step \n",
      "Config: {'neurons': 32, 'lr': 0.001, 'batch_size': 16}, Metrics: {'loss': 0.220516175031662, 'mae': 0.4265490174293518, 'mse': 0.21946623921394348, 'r2_score': 0.12201695040899241}\n"
     ]
    },
    {
     "name": "stderr",
     "output_type": "stream",
     "text": [
      "e:\\Proyecto INDRA\\hackaton-indra\\.venv\\Lib\\site-packages\\keras\\src\\layers\\convolutional\\base_conv.py:99: UserWarning: Do not pass an `input_shape`/`input_dim` argument to a layer. When using Sequential models, prefer using an `Input(shape)` object as the first layer in the model instead.\n",
      "  super().__init__(\n"
     ]
    },
    {
     "name": "stdout",
     "output_type": "stream",
     "text": [
      "\u001b[1m14/14\u001b[0m \u001b[32m━━━━━━━━━━━━━━━━━━━━\u001b[0m\u001b[37m\u001b[0m \u001b[1m0s\u001b[0m 4ms/step \n",
      "Config: {'neurons': 32, 'lr': 0.001, 'batch_size': 32}, Metrics: {'loss': 0.22098851203918457, 'mae': 0.42709964513778687, 'mse': 0.2201915830373764, 'r2_score': 0.11911516380293619}\n"
     ]
    },
    {
     "name": "stderr",
     "output_type": "stream",
     "text": [
      "e:\\Proyecto INDRA\\hackaton-indra\\.venv\\Lib\\site-packages\\keras\\src\\layers\\convolutional\\base_conv.py:99: UserWarning: Do not pass an `input_shape`/`input_dim` argument to a layer. When using Sequential models, prefer using an `Input(shape)` object as the first layer in the model instead.\n",
      "  super().__init__(\n"
     ]
    },
    {
     "name": "stdout",
     "output_type": "stream",
     "text": [
      "\u001b[1m14/14\u001b[0m \u001b[32m━━━━━━━━━━━━━━━━━━━━\u001b[0m\u001b[37m\u001b[0m \u001b[1m0s\u001b[0m 4ms/step \n",
      "Config: {'neurons': 64, 'lr': 0.001, 'batch_size': 16}, Metrics: {'loss': 0.22366653382778168, 'mae': 0.4267660677433014, 'mse': 0.22240647673606873, 'r2_score': 0.11025434248729782}\n"
     ]
    },
    {
     "name": "stderr",
     "output_type": "stream",
     "text": [
      "e:\\Proyecto INDRA\\hackaton-indra\\.venv\\Lib\\site-packages\\keras\\src\\layers\\convolutional\\base_conv.py:99: UserWarning: Do not pass an `input_shape`/`input_dim` argument to a layer. When using Sequential models, prefer using an `Input(shape)` object as the first layer in the model instead.\n",
      "  super().__init__(\n"
     ]
    },
    {
     "name": "stdout",
     "output_type": "stream",
     "text": [
      "\u001b[1m14/14\u001b[0m \u001b[32m━━━━━━━━━━━━━━━━━━━━\u001b[0m\u001b[37m\u001b[0m \u001b[1m0s\u001b[0m 4ms/step \n",
      "Config: {'neurons': 64, 'lr': 0.01, 'batch_size': 32}, Metrics: {'loss': 0.22066400945186615, 'mae': 0.42876043915748596, 'mse': 0.22114256024360657, 'r2_score': 0.11531065408895713}\n"
     ]
    },
    {
     "name": "stderr",
     "output_type": "stream",
     "text": [
      "e:\\Proyecto INDRA\\hackaton-indra\\.venv\\Lib\\site-packages\\keras\\src\\layers\\convolutional\\base_conv.py:99: UserWarning: Do not pass an `input_shape`/`input_dim` argument to a layer. When using Sequential models, prefer using an `Input(shape)` object as the first layer in the model instead.\n",
      "  super().__init__(\n"
     ]
    },
    {
     "name": "stdout",
     "output_type": "stream",
     "text": [
      "\u001b[1m14/14\u001b[0m \u001b[32m━━━━━━━━━━━━━━━━━━━━\u001b[0m\u001b[37m\u001b[0m \u001b[1m0s\u001b[0m 5ms/step\n",
      "Config: {'neurons': 128, 'lr': 0.001, 'batch_size': 16}, Metrics: {'loss': 0.22001323103904724, 'mae': 0.4270206093788147, 'mse': 0.21940141916275024, 'r2_score': 0.1222760891713528}\n"
     ]
    },
    {
     "name": "stderr",
     "output_type": "stream",
     "text": [
      "e:\\Proyecto INDRA\\hackaton-indra\\.venv\\Lib\\site-packages\\keras\\src\\layers\\convolutional\\base_conv.py:99: UserWarning: Do not pass an `input_shape`/`input_dim` argument to a layer. When using Sequential models, prefer using an `Input(shape)` object as the first layer in the model instead.\n",
      "  super().__init__(\n"
     ]
    },
    {
     "name": "stdout",
     "output_type": "stream",
     "text": [
      "\u001b[1m14/14\u001b[0m \u001b[32m━━━━━━━━━━━━━━━━━━━━\u001b[0m\u001b[37m\u001b[0m \u001b[1m0s\u001b[0m 4ms/step\n",
      "Config: {'neurons': 128, 'lr': 0.01, 'batch_size': 32}, Metrics: {'loss': 0.21879032254219055, 'mae': 0.43073317408561707, 'mse': 0.21863415837287903, 'r2_score': 0.12534560788077753}\n"
     ]
    },
    {
     "name": "stderr",
     "output_type": "stream",
     "text": [
      "e:\\Proyecto INDRA\\hackaton-indra\\.venv\\Lib\\site-packages\\keras\\src\\layers\\convolutional\\base_conv.py:99: UserWarning: Do not pass an `input_shape`/`input_dim` argument to a layer. When using Sequential models, prefer using an `Input(shape)` object as the first layer in the model instead.\n",
      "  super().__init__(\n"
     ]
    },
    {
     "name": "stdout",
     "output_type": "stream",
     "text": [
      "\u001b[1m14/14\u001b[0m \u001b[32m━━━━━━━━━━━━━━━━━━━━\u001b[0m\u001b[37m\u001b[0m \u001b[1m0s\u001b[0m 4ms/step \n",
      "Config: {'neurons': 32, 'lr': 0.1, 'batch_size': 64}, Metrics: {'loss': 0.2502742111682892, 'mae': 0.5001119375228882, 'mse': 0.2502051889896393, 'r2_score': -0.000955496003409495}\n"
     ]
    },
    {
     "name": "stderr",
     "output_type": "stream",
     "text": [
      "e:\\Proyecto INDRA\\hackaton-indra\\.venv\\Lib\\site-packages\\keras\\src\\layers\\convolutional\\base_conv.py:99: UserWarning: Do not pass an `input_shape`/`input_dim` argument to a layer. When using Sequential models, prefer using an `Input(shape)` object as the first layer in the model instead.\n",
      "  super().__init__(\n"
     ]
    },
    {
     "name": "stdout",
     "output_type": "stream",
     "text": [
      "\u001b[1m14/14\u001b[0m \u001b[32m━━━━━━━━━━━━━━━━━━━━\u001b[0m\u001b[37m\u001b[0m \u001b[1m0s\u001b[0m 4ms/step\n",
      "Config: {'neurons': 64, 'lr': 0.1, 'batch_size': 64}, Metrics: {'loss': 0.23340913653373718, 'mae': 0.4522552490234375, 'mse': 0.23425672948360443, 'r2_score': 0.06284698166356284}\n"
     ]
    },
    {
     "name": "stderr",
     "output_type": "stream",
     "text": [
      "e:\\Proyecto INDRA\\hackaton-indra\\.venv\\Lib\\site-packages\\keras\\src\\layers\\convolutional\\base_conv.py:99: UserWarning: Do not pass an `input_shape`/`input_dim` argument to a layer. When using Sequential models, prefer using an `Input(shape)` object as the first layer in the model instead.\n",
      "  super().__init__(\n"
     ]
    },
    {
     "name": "stdout",
     "output_type": "stream",
     "text": [
      "\u001b[1m14/14\u001b[0m \u001b[32m━━━━━━━━━━━━━━━━━━━━\u001b[0m\u001b[37m\u001b[0m \u001b[1m0s\u001b[0m 4ms/step \n",
      "Config: {'neurons': 128, 'lr': 0.1, 'batch_size': 64}, Metrics: {'loss': 0.2525247037410736, 'mae': 0.4994717240333557, 'mse': 0.2521260976791382, 'r2_score': -0.008640201631642475}\n",
      "Mejor configuración: {'neurons': 128, 'lr': 0.01, 'batch_size': 32}, Mejores métricas: {'loss': 0.21879032254219055, 'mae': 0.43073317408561707, 'mse': 0.21863415837287903, 'r2_score': 0.12534560788077753}\n"
     ]
    }
   ],
   "source": [
    "hyperparams_combinations = [\n",
    "    {'neurons': 32, 'lr': 0.001, 'batch_size': 16},\n",
    "    {'neurons': 32, 'lr': 0.001, 'batch_size': 32},\n",
    "    {'neurons': 64, 'lr': 0.001, 'batch_size': 16},\n",
    "    {'neurons': 64, 'lr': 0.01, 'batch_size': 32},\n",
    "    {'neurons': 128, 'lr': 0.001, 'batch_size': 16},\n",
    "    {'neurons': 128, 'lr': 0.01, 'batch_size': 32},\n",
    "    {'neurons': 32, 'lr': 0.1, 'batch_size': 64},\n",
    "    {'neurons': 64, 'lr': 0.1, 'batch_size': 64},\n",
    "    {'neurons': 128, 'lr': 0.1, 'batch_size': 64},\n",
    "    \n",
    "]\n",
    "\n",
    "best_mse = float('inf')\n",
    "best_model = None\n",
    "best_params = {}\n",
    "best_metrics = {}\n",
    "\n",
    "for params in hyperparams_combinations:\n",
    "    model, metrics = train_evaluate_model(params['neurons'], params['lr'], params['batch_size'], X_train, y_train, X_test, y_test)\n",
    "    print(f\"Config: {params}, Metrics: {metrics}\")\n",
    "    if metrics['mse'] < best_mse:  # Para regresión, podríamos centrarnos en minimizar el MSE\n",
    "        best_mse = metrics['mse']\n",
    "        best_model = model\n",
    "        best_params = params\n",
    "        best_metrics = metrics\n",
    "\n",
    "print(f\"Mejor configuración: {best_params}, Mejores métricas: {best_metrics}\")\n",
    "\n"
   ]
  },
  {
   "cell_type": "code",
   "execution_count": 95,
   "metadata": {},
   "outputs": [
    {
     "name": "stdout",
     "output_type": "stream",
     "text": [
      "\u001b[1m14/14\u001b[0m \u001b[32m━━━━━━━━━━━━━━━━━━━━\u001b[0m\u001b[37m\u001b[0m \u001b[1m0s\u001b[0m 1ms/step \n"
     ]
    },
    {
     "data": {
      "text/plain": [
       "array([[0.5900766 ],\n",
       "       [0.435065  ],\n",
       "       [0.18738483],\n",
       "       [0.5952816 ],\n",
       "       [0.65332276],\n",
       "       [0.17144251],\n",
       "       [0.46512675],\n",
       "       [0.551577  ],\n",
       "       [0.71866095],\n",
       "       [0.15463127],\n",
       "       [0.46580887],\n",
       "       [0.16177818],\n",
       "       [0.25927496],\n",
       "       [0.5459267 ],\n",
       "       [0.46414006],\n",
       "       [0.20736507],\n",
       "       [0.30630875],\n",
       "       [0.551525  ],\n",
       "       [0.9293813 ],\n",
       "       [0.12951426],\n",
       "       [0.6961035 ],\n",
       "       [0.40040988],\n",
       "       [0.62101185],\n",
       "       [0.6889634 ],\n",
       "       [0.43745595],\n",
       "       [0.55127287],\n",
       "       [0.73324794],\n",
       "       [0.436726  ],\n",
       "       [0.5730493 ],\n",
       "       [0.42375758],\n",
       "       [0.22801417],\n",
       "       [0.753369  ],\n",
       "       [0.7232077 ],\n",
       "       [0.24558339],\n",
       "       [0.5100696 ],\n",
       "       [0.6457954 ],\n",
       "       [0.65338206],\n",
       "       [0.24543221],\n",
       "       [0.36249867],\n",
       "       [0.17180547],\n",
       "       [0.3713726 ],\n",
       "       [0.5498135 ],\n",
       "       [0.21374628],\n",
       "       [0.49290252],\n",
       "       [0.6358477 ],\n",
       "       [0.17923695],\n",
       "       [0.4334338 ],\n",
       "       [0.6437668 ],\n",
       "       [0.5708548 ],\n",
       "       [0.44181237],\n",
       "       [0.36838254],\n",
       "       [0.55139744],\n",
       "       [0.30445907],\n",
       "       [0.3615506 ],\n",
       "       [0.4991207 ],\n",
       "       [0.32184538],\n",
       "       [0.40721443],\n",
       "       [0.37343198],\n",
       "       [0.4494103 ],\n",
       "       [0.31033328],\n",
       "       [0.15822493],\n",
       "       [0.66214526],\n",
       "       [0.7653822 ],\n",
       "       [0.42601305],\n",
       "       [0.7089795 ],\n",
       "       [0.15789466],\n",
       "       [0.4763652 ],\n",
       "       [0.07785451],\n",
       "       [0.47417262],\n",
       "       [0.46624684],\n",
       "       [0.47149104],\n",
       "       [0.5680788 ],\n",
       "       [0.35756445],\n",
       "       [0.7782228 ],\n",
       "       [0.32149455],\n",
       "       [0.82686865],\n",
       "       [0.3689055 ],\n",
       "       [0.7177186 ],\n",
       "       [0.6459715 ],\n",
       "       [0.34983706],\n",
       "       [0.29471794],\n",
       "       [0.56865263],\n",
       "       [0.38407874],\n",
       "       [0.2446017 ],\n",
       "       [0.7106863 ],\n",
       "       [0.6013372 ],\n",
       "       [0.5360081 ],\n",
       "       [0.86565375],\n",
       "       [0.6505775 ],\n",
       "       [0.7200074 ],\n",
       "       [0.6094487 ],\n",
       "       [0.39142296],\n",
       "       [0.5054946 ],\n",
       "       [0.48875186],\n",
       "       [0.1318441 ],\n",
       "       [0.5533159 ],\n",
       "       [0.4836104 ],\n",
       "       [0.55830455],\n",
       "       [0.33230758],\n",
       "       [0.7537076 ],\n",
       "       [0.4489919 ],\n",
       "       [0.5480797 ],\n",
       "       [0.58881086],\n",
       "       [0.67665887],\n",
       "       [0.27219   ],\n",
       "       [0.54526687],\n",
       "       [0.7190007 ],\n",
       "       [0.27198157],\n",
       "       [0.5801304 ],\n",
       "       [0.58979094],\n",
       "       [0.456152  ],\n",
       "       [0.08950288],\n",
       "       [0.6386726 ],\n",
       "       [0.43391937],\n",
       "       [0.89314544],\n",
       "       [0.62785906],\n",
       "       [0.2763126 ],\n",
       "       [0.5538513 ],\n",
       "       [0.19962707],\n",
       "       [0.28256086],\n",
       "       [0.7128929 ],\n",
       "       [0.28427845],\n",
       "       [0.6422545 ],\n",
       "       [0.45243183],\n",
       "       [0.50041115],\n",
       "       [0.21264811],\n",
       "       [0.61310387],\n",
       "       [0.50371957],\n",
       "       [0.2503592 ],\n",
       "       [0.6299442 ],\n",
       "       [0.15822932],\n",
       "       [0.41711026],\n",
       "       [0.4807332 ],\n",
       "       [0.81597614],\n",
       "       [0.31635132],\n",
       "       [0.65932786],\n",
       "       [0.6332598 ],\n",
       "       [0.30975083],\n",
       "       [0.22898833],\n",
       "       [0.58844566],\n",
       "       [0.7320329 ],\n",
       "       [0.45727083],\n",
       "       [0.25425315],\n",
       "       [0.45380384],\n",
       "       [0.19590645],\n",
       "       [0.41025847],\n",
       "       [0.41841412],\n",
       "       [0.16823307],\n",
       "       [0.71772194],\n",
       "       [0.92280006],\n",
       "       [0.68481064],\n",
       "       [0.5674969 ],\n",
       "       [0.5445288 ],\n",
       "       [0.7170919 ],\n",
       "       [0.7446292 ],\n",
       "       [0.7040834 ],\n",
       "       [0.4349475 ],\n",
       "       [0.25486028],\n",
       "       [0.43151218],\n",
       "       [0.9321017 ],\n",
       "       [0.39979628],\n",
       "       [0.45325664],\n",
       "       [0.37172613],\n",
       "       [0.19354276],\n",
       "       [0.3639823 ],\n",
       "       [0.25003898],\n",
       "       [0.34229964],\n",
       "       [0.33251244],\n",
       "       [0.36775556],\n",
       "       [0.14891973],\n",
       "       [0.26489186],\n",
       "       [0.60853887],\n",
       "       [0.44430724],\n",
       "       [0.52413344],\n",
       "       [0.7329509 ],\n",
       "       [0.4173593 ],\n",
       "       [0.7836675 ],\n",
       "       [0.5753968 ],\n",
       "       [0.3507897 ],\n",
       "       [0.36617222],\n",
       "       [0.39947614],\n",
       "       [0.166177  ],\n",
       "       [0.09807435],\n",
       "       [0.14489417],\n",
       "       [0.4095766 ],\n",
       "       [0.62522703],\n",
       "       [0.58875287],\n",
       "       [0.31952986],\n",
       "       [0.7345445 ],\n",
       "       [0.2787801 ],\n",
       "       [0.54164565],\n",
       "       [0.64186573],\n",
       "       [0.543448  ],\n",
       "       [0.21959299],\n",
       "       [0.18853942],\n",
       "       [0.78481704],\n",
       "       [0.299916  ],\n",
       "       [0.40052915],\n",
       "       [0.41323012],\n",
       "       [0.5425005 ],\n",
       "       [0.3461958 ],\n",
       "       [0.46206814],\n",
       "       [0.4640564 ],\n",
       "       [0.2585013 ],\n",
       "       [0.8001466 ],\n",
       "       [0.70129585],\n",
       "       [0.68420875],\n",
       "       [0.23694111],\n",
       "       [0.2754784 ],\n",
       "       [0.44438177],\n",
       "       [0.5458954 ],\n",
       "       [0.20720363],\n",
       "       [0.68773043],\n",
       "       [0.7290659 ],\n",
       "       [0.44156945],\n",
       "       [0.6800076 ],\n",
       "       [0.3888042 ],\n",
       "       [0.5374087 ],\n",
       "       [0.5647898 ],\n",
       "       [0.3873203 ],\n",
       "       [0.76744485],\n",
       "       [0.20003885],\n",
       "       [0.7297276 ],\n",
       "       [0.5160002 ],\n",
       "       [0.6265284 ],\n",
       "       [0.46735227],\n",
       "       [0.5688565 ],\n",
       "       [0.53547853],\n",
       "       [0.632532  ],\n",
       "       [0.80477256],\n",
       "       [0.68155956],\n",
       "       [0.20579284],\n",
       "       [0.3336746 ],\n",
       "       [0.38798857],\n",
       "       [0.571382  ],\n",
       "       [0.65944874],\n",
       "       [0.22477473],\n",
       "       [0.38991165],\n",
       "       [0.2641951 ],\n",
       "       [0.2869432 ],\n",
       "       [0.60542345],\n",
       "       [0.5260047 ],\n",
       "       [0.33347934],\n",
       "       [0.45850864],\n",
       "       [0.4882747 ],\n",
       "       [0.6654608 ],\n",
       "       [0.44484302],\n",
       "       [0.7338742 ],\n",
       "       [0.3365043 ],\n",
       "       [0.71075505],\n",
       "       [0.4512996 ],\n",
       "       [0.5899658 ],\n",
       "       [0.6929451 ],\n",
       "       [0.7158821 ],\n",
       "       [0.6083367 ],\n",
       "       [0.5544939 ],\n",
       "       [0.7083338 ],\n",
       "       [0.3275287 ],\n",
       "       [0.9163455 ],\n",
       "       [0.19113487],\n",
       "       [0.512939  ],\n",
       "       [0.3089089 ],\n",
       "       [0.3040045 ],\n",
       "       [0.5857477 ],\n",
       "       [0.6836042 ],\n",
       "       [0.22524089],\n",
       "       [0.62257963],\n",
       "       [0.321709  ],\n",
       "       [0.6732284 ],\n",
       "       [0.44731486],\n",
       "       [0.46562257],\n",
       "       [0.5795243 ],\n",
       "       [0.2722199 ],\n",
       "       [0.49355796],\n",
       "       [0.80941   ],\n",
       "       [0.582016  ],\n",
       "       [0.5754235 ],\n",
       "       [0.3388814 ],\n",
       "       [0.19640334],\n",
       "       [0.3705759 ],\n",
       "       [0.15764114],\n",
       "       [0.38835832],\n",
       "       [0.7101041 ],\n",
       "       [0.45442507],\n",
       "       [0.22831722],\n",
       "       [0.84304065],\n",
       "       [0.47049156],\n",
       "       [0.2755758 ],\n",
       "       [0.69588137],\n",
       "       [0.6667136 ],\n",
       "       [0.2857342 ],\n",
       "       [0.7137294 ],\n",
       "       [0.49153084],\n",
       "       [0.8533485 ],\n",
       "       [0.20121296],\n",
       "       [0.5161633 ],\n",
       "       [0.08218042],\n",
       "       [0.5055628 ],\n",
       "       [0.3900372 ],\n",
       "       [0.38462645],\n",
       "       [0.4186234 ],\n",
       "       [0.5238837 ],\n",
       "       [0.6273036 ],\n",
       "       [0.2341266 ],\n",
       "       [0.6998502 ],\n",
       "       [0.37879267],\n",
       "       [0.42115825],\n",
       "       [0.7232064 ],\n",
       "       [0.13310096],\n",
       "       [0.51712   ],\n",
       "       [0.49801198],\n",
       "       [0.15622982],\n",
       "       [0.64659965],\n",
       "       [0.6246508 ],\n",
       "       [0.5925739 ],\n",
       "       [0.19585924],\n",
       "       [0.35358453],\n",
       "       [0.24960074],\n",
       "       [0.3857374 ],\n",
       "       [0.53809917],\n",
       "       [0.4094039 ],\n",
       "       [0.62918556],\n",
       "       [0.3285879 ],\n",
       "       [0.3378814 ],\n",
       "       [0.66821545],\n",
       "       [0.74819994],\n",
       "       [0.69708365],\n",
       "       [0.46631965],\n",
       "       [0.4234525 ],\n",
       "       [0.53387856],\n",
       "       [0.15212756],\n",
       "       [0.21757104],\n",
       "       [0.73520976],\n",
       "       [0.6153034 ],\n",
       "       [0.6826212 ],\n",
       "       [0.89164823],\n",
       "       [0.4940267 ],\n",
       "       [0.30385992],\n",
       "       [0.4958676 ],\n",
       "       [0.2679321 ],\n",
       "       [0.7766125 ],\n",
       "       [0.5625734 ],\n",
       "       [0.14929575],\n",
       "       [0.67474586],\n",
       "       [0.44053155],\n",
       "       [0.54973674],\n",
       "       [0.33721533],\n",
       "       [0.31545213],\n",
       "       [0.4926108 ],\n",
       "       [0.22962953],\n",
       "       [0.46382573],\n",
       "       [0.4063174 ],\n",
       "       [0.13025431],\n",
       "       [0.6796541 ],\n",
       "       [0.19817938],\n",
       "       [0.2893095 ],\n",
       "       [0.7727649 ],\n",
       "       [0.32867303],\n",
       "       [0.51990247],\n",
       "       [0.18602005],\n",
       "       [0.6506382 ],\n",
       "       [0.55098104],\n",
       "       [0.3901891 ],\n",
       "       [0.22208421],\n",
       "       [0.49198776],\n",
       "       [0.7679873 ],\n",
       "       [0.70154047],\n",
       "       [0.29380792],\n",
       "       [0.39404985],\n",
       "       [0.36824796],\n",
       "       [0.16652004],\n",
       "       [0.47339186],\n",
       "       [0.81890875],\n",
       "       [0.33715582],\n",
       "       [0.3647066 ],\n",
       "       [0.34694847],\n",
       "       [0.6426376 ],\n",
       "       [0.4415262 ],\n",
       "       [0.22936346],\n",
       "       [0.38471398],\n",
       "       [0.06432526],\n",
       "       [0.39200804],\n",
       "       [0.6841587 ],\n",
       "       [0.23078716],\n",
       "       [0.5831659 ],\n",
       "       [0.6343875 ],\n",
       "       [0.3327937 ],\n",
       "       [0.70396763],\n",
       "       [0.67456496],\n",
       "       [0.15237641],\n",
       "       [0.67143154],\n",
       "       [0.19740194],\n",
       "       [0.63941985],\n",
       "       [0.47088626],\n",
       "       [0.43231007],\n",
       "       [0.17072532],\n",
       "       [0.0619271 ],\n",
       "       [0.37972695],\n",
       "       [0.64407873],\n",
       "       [0.1091313 ],\n",
       "       [0.32166588],\n",
       "       [0.6004783 ],\n",
       "       [0.8162112 ],\n",
       "       [0.592381  ],\n",
       "       [0.40246385],\n",
       "       [0.71790695],\n",
       "       [0.11839997],\n",
       "       [0.8060057 ],\n",
       "       [0.33443737],\n",
       "       [0.54472494],\n",
       "       [0.5820316 ],\n",
       "       [0.38781828],\n",
       "       [0.57082933],\n",
       "       [0.772545  ],\n",
       "       [0.49312037],\n",
       "       [0.3600747 ],\n",
       "       [0.61941445],\n",
       "       [0.74876   ],\n",
       "       [0.59361315],\n",
       "       [0.7378658 ],\n",
       "       [0.67765534],\n",
       "       [0.27602947],\n",
       "       [0.74698883],\n",
       "       [0.630957  ],\n",
       "       [0.57301384],\n",
       "       [0.62742156],\n",
       "       [0.6949301 ],\n",
       "       [0.7770015 ],\n",
       "       [0.24077486],\n",
       "       [0.08476765],\n",
       "       [0.71351063]], dtype=float32)"
      ]
     },
     "execution_count": 95,
     "metadata": {},
     "output_type": "execute_result"
    }
   ],
   "source": [
    "modelo.predict(X_test)"
   ]
  },
  {
   "cell_type": "code",
   "execution_count": 97,
   "metadata": {},
   "outputs": [
    {
     "name": "stdout",
     "output_type": "stream",
     "text": [
      "Reloading Tuner from my_dir\\keras_tuner_demo\\tuner0.json\n"
     ]
    },
    {
     "name": "stderr",
     "output_type": "stream",
     "text": [
      "e:\\Proyecto INDRA\\hackaton-indra\\.venv\\Lib\\site-packages\\keras\\src\\layers\\convolutional\\base_conv.py:99: UserWarning: Do not pass an `input_shape`/`input_dim` argument to a layer. When using Sequential models, prefer using an `Input(shape)` object as the first layer in the model instead.\n",
      "  super().__init__(\n",
      "e:\\Proyecto INDRA\\hackaton-indra\\.venv\\Lib\\site-packages\\keras\\src\\saving\\saving_lib.py:396: UserWarning: Skipping variable loading for optimizer 'adam', because it has 2 variables whereas the saved optimizer has 14 variables. \n",
      "  trackable.load_own_variables(weights_store.get(inner_path))\n"
     ]
    },
    {
     "name": "stdout",
     "output_type": "stream",
     "text": [
      "\u001b[1m14/14\u001b[0m \u001b[32m━━━━━━━━━━━━━━━━━━━━\u001b[0m\u001b[37m\u001b[0m \u001b[1m0s\u001b[0m 4ms/step\n",
      "Mejores hiperparámetros: {'filters': 96, 'kernel_size': 5, 'pool_size': 2, 'units': 128, 'learning_rate': 0.001, 'tuner/epochs': 10, 'tuner/initial_epoch': 0, 'tuner/bracket': 0, 'tuner/round': 0}\n",
      "Mejores métricas: [0.21656344830989838, 0.4320356547832489, 0.21649251878261566]\n",
      "R2 score: 0.13391343208744533\n"
     ]
    }
   ],
   "source": [
    "class CNNHyperModel(HyperModel):\n",
    "    def __init__(self, input_shape):\n",
    "        self.input_shape = input_shape\n",
    "\n",
    "    def build(self, hp):\n",
    "        model = Sequential()\n",
    "        model.add(Conv1D(filters=hp.Int('filters', min_value=32, max_value=128, step=32),\n",
    "                        kernel_size=hp.Choice('kernel_size', values=[3, 5]),\n",
    "                        activation='relu',\n",
    "                        input_shape=self.input_shape))\n",
    "        model.add(MaxPooling1D(\n",
    "            pool_size=hp.Choice('pool_size', values=[2, 3])))\n",
    "        model.add(Flatten())\n",
    "        model.add(Dense(units=hp.Int('units', min_value=32, max_value=128, step=32),\n",
    "                        activation='relu'))\n",
    "        # Sin función de activación 'sigmoid' para regresión\n",
    "        model.add(Dense(1))\n",
    "\n",
    "        lr = hp.Choice('learning_rate', values=[0.001, 0.01, 0.1])\n",
    "        model.compile(optimizer=Adam(learning_rate=lr),\n",
    "                        loss='mean_squared_error',\n",
    "                        metrics=[MeanAbsoluteError(name='mae'), MeanSquaredError(name='mse')])\n",
    "        return model\n",
    "\n",
    "\n",
    "# Asegúrate de que X_train esté preparado adecuadamente\n",
    "input_shape = (X_train.shape[1], 1)\n",
    "hypermodel = CNNHyperModel(input_shape=input_shape)\n",
    "\n",
    "tuner = Hyperband(\n",
    "    hypermodel,\n",
    "    max_epochs=10,\n",
    "    objective='val_loss',\n",
    "    seed=42,\n",
    "    executions_per_trial=2,\n",
    "    directory='my_dir',\n",
    "    project_name='keras_tuner_demo'\n",
    ")\n",
    "\n",
    "stop_early = EarlyStopping(monitor='val_loss', patience=5)\n",
    "\n",
    "tuner.search(X_train, y_train, epochs=100,\n",
    "                validation_split=0.2, callbacks=[stop_early])\n",
    "\n",
    "best_model = tuner.get_best_models(num_models=1)[0]\n",
    "best_hyperparameters = tuner.get_best_hyperparameters(num_trials=1)[0]\n",
    "\n",
    "# Evalúa el mejor modelo\n",
    "metrics = best_model.evaluate(X_test, y_test, verbose=0)\n",
    "y_pred = best_model.predict(X_test)\n",
    "r2 = r2_score(y_test, y_pred.flatten())\n",
    "\n",
    "print(f\"Mejores hiperparámetros: {best_hyperparameters.values}\")\n",
    "print(f\"Mejores métricas: {metrics}\")\n",
    "print(f\"R2 score: {r2}\")"
   ]
  },
  {
   "cell_type": "code",
   "execution_count": 116,
   "metadata": {},
   "outputs": [
    {
     "name": "stdout",
     "output_type": "stream",
     "text": [
      "\u001b[1m64/64\u001b[0m \u001b[32m━━━━━━━━━━━━━━━━━━━━\u001b[0m\u001b[37m\u001b[0m \u001b[1m0s\u001b[0m 618us/step\n",
      "[[0.26292157]\n",
      " [0.25565478]\n",
      " [0.35611767]\n",
      " ...\n",
      " [0.27591947]\n",
      " [0.27354664]\n",
      " [0.12439909]]\n"
     ]
    }
   ],
   "source": [
    "predicciones = modelo.predict(X_prueba_preprocesado)\n",
    "print(predicciones)"
   ]
  },
  {
   "cell_type": "code",
   "execution_count": 114,
   "metadata": {},
   "outputs": [
    {
     "name": "stdout",
     "output_type": "stream",
     "text": [
      "2020\n",
      "2020\n"
     ]
    }
   ],
   "source": [
    "umbral_predicciones = (predicciones >= 0.5).astype(int)\n",
    "umbral_predicciones = umbral_predicciones.flatten()\n",
    "\n",
    "print(len(umbral_predicciones))\n",
    "print(len(df_prueba['id_colaborador']))"
   ]
  },
  {
   "cell_type": "code",
   "execution_count": 115,
   "metadata": {},
   "outputs": [],
   "source": [
    "\n",
    "# Crear un DataFrame con las predicciones\n",
    "\n",
    "df_predicciones = pd.DataFrame({'ID': df_prueba['id_colaborador'], 'abandono_6meses': umbral_predicciones})\n",
    "\n",
    "# Guardar las predicciones en un archivo CSV\n",
    "df_predicciones.to_csv('predicciones.csv', index=False)"
   ]
  },
  {
   "cell_type": "code",
   "execution_count": null,
   "metadata": {},
   "outputs": [],
   "source": []
  }
 ],
 "metadata": {
  "kernelspec": {
   "display_name": ".venv",
   "language": "python",
   "name": "python3"
  },
  "language_info": {
   "codemirror_mode": {
    "name": "ipython",
    "version": 3
   },
   "file_extension": ".py",
   "mimetype": "text/x-python",
   "name": "python",
   "nbconvert_exporter": "python",
   "pygments_lexer": "ipython3",
   "version": "3.12.2"
  }
 },
 "nbformat": 4,
 "nbformat_minor": 2
}
