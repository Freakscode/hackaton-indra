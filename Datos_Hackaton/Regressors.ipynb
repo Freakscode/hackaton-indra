{
 "cells": [
  {
   "cell_type": "code",
   "id": "initial_id",
   "metadata": {
    "collapsed": true,
    "ExecuteTime": {
     "end_time": "2024-04-04T14:49:29.347714Z",
     "start_time": "2024-04-04T14:49:29.343436Z"
    }
   },
   "source": [
    "import pandas as pd\n",
    "import numpy as np\n",
    "import matplotlib.pyplot as plt\n",
    "from sklearn.model_selection import train_test_split\n",
    "from sklearn.preprocessing import OrdinalEncoder\n",
    "from sklearn.compose import make_column_transformer\n",
    "from sklearn.impute import KNNImputer\n",
    "import matplotlib.pyplot as plt"
   ],
   "outputs": [],
   "execution_count": 45
  },
  {
   "metadata": {
    "ExecuteTime": {
     "end_time": "2024-04-04T14:25:07.141394Z",
     "start_time": "2024-04-04T14:25:07.118444Z"
    }
   },
   "cell_type": "code",
   "source": [
    "df = pd.read_csv('train_data.csv', sep=';')\n",
    "print(df.info())\n",
    "df"
   ],
   "id": "aafc7f4b00622f6a",
   "outputs": [
    {
     "name": "stdout",
     "output_type": "stream",
     "text": [
      "<class 'pandas.core.frame.DataFrame'>\n",
      "RangeIndex: 2152 entries, 0 to 2151\n",
      "Data columns (total 16 columns):\n",
      " #   Column                Non-Null Count  Dtype  \n",
      "---  ------                --------------  -----  \n",
      " 0   id_colaborador        2152 non-null   int64  \n",
      " 1   id_ultimo_jefe        2061 non-null   float64\n",
      " 2   seniority             2152 non-null   int64  \n",
      " 3   modalidad_trabajo     2152 non-null   object \n",
      " 4   distancia_oficina     2152 non-null   float64\n",
      " 5   dias_baja_salud       2152 non-null   int64  \n",
      " 6   genero                2152 non-null   object \n",
      " 7   canal_reclutamiento   2152 non-null   object \n",
      " 8   permanencia_promedio  2152 non-null   int64  \n",
      " 9   fecha_nacimiento      2152 non-null   object \n",
      " 10  salario               2152 non-null   int64  \n",
      " 11  performance_score     2084 non-null   float64\n",
      " 12  psi_score             2152 non-null   int64  \n",
      " 13  fecha_incorporacion   2152 non-null   object \n",
      " 14  estado_civil          2152 non-null   object \n",
      " 15  abandono_6meses       2152 non-null   int64  \n",
      "dtypes: float64(3), int64(7), object(6)\n",
      "memory usage: 269.1+ KB\n",
      "None\n"
     ]
    },
    {
     "data": {
      "text/plain": [
       "      id_colaborador  id_ultimo_jefe  seniority modalidad_trabajo  \\\n",
       "0             100247        102074.0          1           Híbrida   \n",
       "1             103355        102115.0          1           Híbrida   \n",
       "2             100669        102060.0          1           Híbrida   \n",
       "3             103760        102062.0          1           Híbrida   \n",
       "4             100965        102062.0          1           Híbrida   \n",
       "...              ...             ...        ...               ...   \n",
       "2147          103567        102171.0          1        Presencial   \n",
       "2148          104098        102172.0          1        Presencial   \n",
       "2149          103987        102155.0          1        Presencial   \n",
       "2150          103810        102141.0          1        Presencial   \n",
       "2151          102441        102171.0          1        Presencial   \n",
       "\n",
       "      distancia_oficina  dias_baja_salud  genero  canal_reclutamiento  \\\n",
       "0                 1.760                1   Mujer  Ferias & Networking   \n",
       "1                 0.760                2  Hombre  Ferias & Networking   \n",
       "2                 4.950                3   Mujer            Referidos   \n",
       "3                13.030                2  Hombre             Linkedin   \n",
       "4                13.045                2  Hombre             Linkedin   \n",
       "...                 ...              ...     ...                  ...   \n",
       "2147              1.965                8   Mujer           Portal Web   \n",
       "2148              0.805               12   Mujer             Linkedin   \n",
       "2149              1.625                1  Hombre           Portal Web   \n",
       "2150              5.665                2  Hombre           Portal Web   \n",
       "2151              4.730                1  Hombre             Linkedin   \n",
       "\n",
       "      permanencia_promedio fecha_nacimiento  salario  performance_score  \\\n",
       "0                        1       25/11/1999   140011               99.0   \n",
       "1                        2       16/10/1996   182774               99.0   \n",
       "2                       11       29/01/1971   682106               96.0   \n",
       "3                        2       28/04/1992   270232               96.0   \n",
       "4                        2        3/05/1992   266804               95.0   \n",
       "...                    ...              ...      ...                ...   \n",
       "2147                     3       20/12/1976   281159                NaN   \n",
       "2148                    13       23/10/1976   460337                NaN   \n",
       "2149                    11       19/03/1972   633879                NaN   \n",
       "2150                     6        7/04/1971   793977                NaN   \n",
       "2151                     9       31/01/1967   756101                NaN   \n",
       "\n",
       "      psi_score fecha_incorporacion estado_civil  abandono_6meses  \n",
       "0            75          25/01/2018      Soltero                0  \n",
       "1            81          24/07/2021      Soltero                1  \n",
       "2            74          13/07/2016        Viudo                0  \n",
       "3            82          21/07/2014      Soltero                1  \n",
       "4            82          22/07/2014      Soltero                0  \n",
       "...         ...                 ...          ...              ...  \n",
       "2147         65          22/12/2023       Casado                1  \n",
       "2148         82          26/07/2023       Casado                1  \n",
       "2149         66          24/07/2023      Soltero                1  \n",
       "2150         80          31/08/2023       Casado                1  \n",
       "2151         85          13/12/2023       Casado                1  \n",
       "\n",
       "[2152 rows x 16 columns]"
      ],
      "text/html": [
       "<div>\n",
       "<style scoped>\n",
       "    .dataframe tbody tr th:only-of-type {\n",
       "        vertical-align: middle;\n",
       "    }\n",
       "\n",
       "    .dataframe tbody tr th {\n",
       "        vertical-align: top;\n",
       "    }\n",
       "\n",
       "    .dataframe thead th {\n",
       "        text-align: right;\n",
       "    }\n",
       "</style>\n",
       "<table border=\"1\" class=\"dataframe\">\n",
       "  <thead>\n",
       "    <tr style=\"text-align: right;\">\n",
       "      <th></th>\n",
       "      <th>id_colaborador</th>\n",
       "      <th>id_ultimo_jefe</th>\n",
       "      <th>seniority</th>\n",
       "      <th>modalidad_trabajo</th>\n",
       "      <th>distancia_oficina</th>\n",
       "      <th>dias_baja_salud</th>\n",
       "      <th>genero</th>\n",
       "      <th>canal_reclutamiento</th>\n",
       "      <th>permanencia_promedio</th>\n",
       "      <th>fecha_nacimiento</th>\n",
       "      <th>salario</th>\n",
       "      <th>performance_score</th>\n",
       "      <th>psi_score</th>\n",
       "      <th>fecha_incorporacion</th>\n",
       "      <th>estado_civil</th>\n",
       "      <th>abandono_6meses</th>\n",
       "    </tr>\n",
       "  </thead>\n",
       "  <tbody>\n",
       "    <tr>\n",
       "      <th>0</th>\n",
       "      <td>100247</td>\n",
       "      <td>102074.0</td>\n",
       "      <td>1</td>\n",
       "      <td>Híbrida</td>\n",
       "      <td>1.760</td>\n",
       "      <td>1</td>\n",
       "      <td>Mujer</td>\n",
       "      <td>Ferias &amp; Networking</td>\n",
       "      <td>1</td>\n",
       "      <td>25/11/1999</td>\n",
       "      <td>140011</td>\n",
       "      <td>99.0</td>\n",
       "      <td>75</td>\n",
       "      <td>25/01/2018</td>\n",
       "      <td>Soltero</td>\n",
       "      <td>0</td>\n",
       "    </tr>\n",
       "    <tr>\n",
       "      <th>1</th>\n",
       "      <td>103355</td>\n",
       "      <td>102115.0</td>\n",
       "      <td>1</td>\n",
       "      <td>Híbrida</td>\n",
       "      <td>0.760</td>\n",
       "      <td>2</td>\n",
       "      <td>Hombre</td>\n",
       "      <td>Ferias &amp; Networking</td>\n",
       "      <td>2</td>\n",
       "      <td>16/10/1996</td>\n",
       "      <td>182774</td>\n",
       "      <td>99.0</td>\n",
       "      <td>81</td>\n",
       "      <td>24/07/2021</td>\n",
       "      <td>Soltero</td>\n",
       "      <td>1</td>\n",
       "    </tr>\n",
       "    <tr>\n",
       "      <th>2</th>\n",
       "      <td>100669</td>\n",
       "      <td>102060.0</td>\n",
       "      <td>1</td>\n",
       "      <td>Híbrida</td>\n",
       "      <td>4.950</td>\n",
       "      <td>3</td>\n",
       "      <td>Mujer</td>\n",
       "      <td>Referidos</td>\n",
       "      <td>11</td>\n",
       "      <td>29/01/1971</td>\n",
       "      <td>682106</td>\n",
       "      <td>96.0</td>\n",
       "      <td>74</td>\n",
       "      <td>13/07/2016</td>\n",
       "      <td>Viudo</td>\n",
       "      <td>0</td>\n",
       "    </tr>\n",
       "    <tr>\n",
       "      <th>3</th>\n",
       "      <td>103760</td>\n",
       "      <td>102062.0</td>\n",
       "      <td>1</td>\n",
       "      <td>Híbrida</td>\n",
       "      <td>13.030</td>\n",
       "      <td>2</td>\n",
       "      <td>Hombre</td>\n",
       "      <td>Linkedin</td>\n",
       "      <td>2</td>\n",
       "      <td>28/04/1992</td>\n",
       "      <td>270232</td>\n",
       "      <td>96.0</td>\n",
       "      <td>82</td>\n",
       "      <td>21/07/2014</td>\n",
       "      <td>Soltero</td>\n",
       "      <td>1</td>\n",
       "    </tr>\n",
       "    <tr>\n",
       "      <th>4</th>\n",
       "      <td>100965</td>\n",
       "      <td>102062.0</td>\n",
       "      <td>1</td>\n",
       "      <td>Híbrida</td>\n",
       "      <td>13.045</td>\n",
       "      <td>2</td>\n",
       "      <td>Hombre</td>\n",
       "      <td>Linkedin</td>\n",
       "      <td>2</td>\n",
       "      <td>3/05/1992</td>\n",
       "      <td>266804</td>\n",
       "      <td>95.0</td>\n",
       "      <td>82</td>\n",
       "      <td>22/07/2014</td>\n",
       "      <td>Soltero</td>\n",
       "      <td>0</td>\n",
       "    </tr>\n",
       "    <tr>\n",
       "      <th>...</th>\n",
       "      <td>...</td>\n",
       "      <td>...</td>\n",
       "      <td>...</td>\n",
       "      <td>...</td>\n",
       "      <td>...</td>\n",
       "      <td>...</td>\n",
       "      <td>...</td>\n",
       "      <td>...</td>\n",
       "      <td>...</td>\n",
       "      <td>...</td>\n",
       "      <td>...</td>\n",
       "      <td>...</td>\n",
       "      <td>...</td>\n",
       "      <td>...</td>\n",
       "      <td>...</td>\n",
       "      <td>...</td>\n",
       "    </tr>\n",
       "    <tr>\n",
       "      <th>2147</th>\n",
       "      <td>103567</td>\n",
       "      <td>102171.0</td>\n",
       "      <td>1</td>\n",
       "      <td>Presencial</td>\n",
       "      <td>1.965</td>\n",
       "      <td>8</td>\n",
       "      <td>Mujer</td>\n",
       "      <td>Portal Web</td>\n",
       "      <td>3</td>\n",
       "      <td>20/12/1976</td>\n",
       "      <td>281159</td>\n",
       "      <td>NaN</td>\n",
       "      <td>65</td>\n",
       "      <td>22/12/2023</td>\n",
       "      <td>Casado</td>\n",
       "      <td>1</td>\n",
       "    </tr>\n",
       "    <tr>\n",
       "      <th>2148</th>\n",
       "      <td>104098</td>\n",
       "      <td>102172.0</td>\n",
       "      <td>1</td>\n",
       "      <td>Presencial</td>\n",
       "      <td>0.805</td>\n",
       "      <td>12</td>\n",
       "      <td>Mujer</td>\n",
       "      <td>Linkedin</td>\n",
       "      <td>13</td>\n",
       "      <td>23/10/1976</td>\n",
       "      <td>460337</td>\n",
       "      <td>NaN</td>\n",
       "      <td>82</td>\n",
       "      <td>26/07/2023</td>\n",
       "      <td>Casado</td>\n",
       "      <td>1</td>\n",
       "    </tr>\n",
       "    <tr>\n",
       "      <th>2149</th>\n",
       "      <td>103987</td>\n",
       "      <td>102155.0</td>\n",
       "      <td>1</td>\n",
       "      <td>Presencial</td>\n",
       "      <td>1.625</td>\n",
       "      <td>1</td>\n",
       "      <td>Hombre</td>\n",
       "      <td>Portal Web</td>\n",
       "      <td>11</td>\n",
       "      <td>19/03/1972</td>\n",
       "      <td>633879</td>\n",
       "      <td>NaN</td>\n",
       "      <td>66</td>\n",
       "      <td>24/07/2023</td>\n",
       "      <td>Soltero</td>\n",
       "      <td>1</td>\n",
       "    </tr>\n",
       "    <tr>\n",
       "      <th>2150</th>\n",
       "      <td>103810</td>\n",
       "      <td>102141.0</td>\n",
       "      <td>1</td>\n",
       "      <td>Presencial</td>\n",
       "      <td>5.665</td>\n",
       "      <td>2</td>\n",
       "      <td>Hombre</td>\n",
       "      <td>Portal Web</td>\n",
       "      <td>6</td>\n",
       "      <td>7/04/1971</td>\n",
       "      <td>793977</td>\n",
       "      <td>NaN</td>\n",
       "      <td>80</td>\n",
       "      <td>31/08/2023</td>\n",
       "      <td>Casado</td>\n",
       "      <td>1</td>\n",
       "    </tr>\n",
       "    <tr>\n",
       "      <th>2151</th>\n",
       "      <td>102441</td>\n",
       "      <td>102171.0</td>\n",
       "      <td>1</td>\n",
       "      <td>Presencial</td>\n",
       "      <td>4.730</td>\n",
       "      <td>1</td>\n",
       "      <td>Hombre</td>\n",
       "      <td>Linkedin</td>\n",
       "      <td>9</td>\n",
       "      <td>31/01/1967</td>\n",
       "      <td>756101</td>\n",
       "      <td>NaN</td>\n",
       "      <td>85</td>\n",
       "      <td>13/12/2023</td>\n",
       "      <td>Casado</td>\n",
       "      <td>1</td>\n",
       "    </tr>\n",
       "  </tbody>\n",
       "</table>\n",
       "<p>2152 rows × 16 columns</p>\n",
       "</div>"
      ]
     },
     "execution_count": 21,
     "metadata": {},
     "output_type": "execute_result"
    }
   ],
   "execution_count": 21
  },
  {
   "metadata": {},
   "cell_type": "markdown",
   "source": [
    "# Manejo de datos faltantes\n",
    "Las columnas que tienen algún dato faltante son: id_ultimo_jefe y performance_score, eliminaremos la columna id_ultimo_jefe ya que no aporta información relevante para el modelo y haremos imputación de la columna performance_score con cardinalidad."
   ],
   "id": "61df6b5fdf096210"
  },
  {
   "metadata": {
    "ExecuteTime": {
     "end_time": "2024-04-04T14:25:08.882167Z",
     "start_time": "2024-04-04T14:25:08.877790Z"
    }
   },
   "cell_type": "code",
   "source": "df_data = df.drop(columns=['id_ultimo_jefe'])",
   "id": "fd6c3e11a6ffe18f",
   "outputs": [],
   "execution_count": 22
  },
  {
   "metadata": {
    "ExecuteTime": {
     "end_time": "2024-04-04T14:25:09.321862Z",
     "start_time": "2024-04-04T14:25:09.317955Z"
    }
   },
   "cell_type": "code",
   "source": [
    "cat_cols = df_data.select_dtypes(include=[object, \"category\"]).columns\n",
    "print(cat_cols)"
   ],
   "id": "7a922d7ba180f73a",
   "outputs": [
    {
     "name": "stdout",
     "output_type": "stream",
     "text": [
      "Index(['modalidad_trabajo', 'genero', 'canal_reclutamiento',\n",
      "       'fecha_nacimiento', 'fecha_incorporacion', 'estado_civil'],\n",
      "      dtype='object')\n"
     ]
    }
   ],
   "execution_count": 23
  },
  {
   "metadata": {
    "ExecuteTime": {
     "end_time": "2024-04-04T14:25:13.934720Z",
     "start_time": "2024-04-04T14:25:13.930651Z"
    }
   },
   "cell_type": "code",
   "source": [
    "encoder = OrdinalEncoder()\n",
    "categorical_transformer = make_column_transformer((encoder, cat_cols),\n",
    "                        remainder='passthrough')"
   ],
   "id": "ec95277ecfb70e25",
   "outputs": [],
   "execution_count": 24
  },
  {
   "metadata": {
    "ExecuteTime": {
     "end_time": "2024-04-04T14:31:18.716918Z",
     "start_time": "2024-04-04T14:31:18.675786Z"
    }
   },
   "cell_type": "code",
   "source": [
    "df_encoded = categorical_transformer.fit_transform(df_data)\n",
    "encoded_cols = categorical_transformer.get_feature_names_out()\n",
    "df_encoded = pd.DataFrame(df_encoded, columns = encoded_cols)\n",
    "df_encoded.columns = df_encoded.columns.str.replace('ordinalencoder__', '')\n",
    "df_encoded.columns = df_encoded.columns.str.replace('remainder__', '')\n",
    "df_encoded"
   ],
   "id": "fe592d10bbb05486",
   "outputs": [
    {
     "data": {
      "text/plain": [
       "      modalidad_trabajo  genero  canal_reclutamiento  fecha_nacimiento  \\\n",
       "0                   0.0     1.0                  0.0            1184.0   \n",
       "1                   0.0     0.0                  0.0             514.0   \n",
       "2                   0.0     1.0                  4.0            1372.0   \n",
       "3                   0.0     0.0                  2.0            1330.0   \n",
       "4                   0.0     0.0                  2.0            1451.0   \n",
       "...                 ...     ...                  ...               ...   \n",
       "2147                1.0     1.0                  3.0             878.0   \n",
       "2148                1.0     1.0                  2.0            1046.0   \n",
       "2149                1.0     0.0                  3.0             693.0   \n",
       "2150                1.0     0.0                  3.0            1804.0   \n",
       "2151                1.0     0.0                  2.0            1553.0   \n",
       "\n",
       "      fecha_incorporacion  estado_civil  id_colaborador  seniority  \\\n",
       "0                   905.0           2.0        100247.0        1.0   \n",
       "1                   876.0           2.0        103355.0        1.0   \n",
       "2                   242.0           3.0        100669.0        1.0   \n",
       "3                   721.0           2.0        103760.0        1.0   \n",
       "4                   778.0           2.0        100965.0        1.0   \n",
       "...                   ...           ...             ...        ...   \n",
       "2147                802.0           0.0        103567.0        1.0   \n",
       "2148                989.0           0.0        104098.0        1.0   \n",
       "2149                878.0           2.0        103987.0        1.0   \n",
       "2150               1283.0           0.0        103810.0        1.0   \n",
       "2151                265.0           0.0        102441.0        1.0   \n",
       "\n",
       "      distancia_oficina  dias_baja_salud  permanencia_promedio   salario  \\\n",
       "0                 1.760              1.0                   1.0  140011.0   \n",
       "1                 0.760              2.0                   2.0  182774.0   \n",
       "2                 4.950              3.0                  11.0  682106.0   \n",
       "3                13.030              2.0                   2.0  270232.0   \n",
       "4                13.045              2.0                   2.0  266804.0   \n",
       "...                 ...              ...                   ...       ...   \n",
       "2147              1.965              8.0                   3.0  281159.0   \n",
       "2148              0.805             12.0                  13.0  460337.0   \n",
       "2149              1.625              1.0                  11.0  633879.0   \n",
       "2150              5.665              2.0                   6.0  793977.0   \n",
       "2151              4.730              1.0                   9.0  756101.0   \n",
       "\n",
       "      performance_score  psi_score  abandono_6meses  \n",
       "0                  99.0       75.0              0.0  \n",
       "1                  99.0       81.0              1.0  \n",
       "2                  96.0       74.0              0.0  \n",
       "3                  96.0       82.0              1.0  \n",
       "4                  95.0       82.0              0.0  \n",
       "...                 ...        ...              ...  \n",
       "2147                NaN       65.0              1.0  \n",
       "2148                NaN       82.0              1.0  \n",
       "2149                NaN       66.0              1.0  \n",
       "2150                NaN       80.0              1.0  \n",
       "2151                NaN       85.0              1.0  \n",
       "\n",
       "[2152 rows x 15 columns]"
      ],
      "text/html": [
       "<div>\n",
       "<style scoped>\n",
       "    .dataframe tbody tr th:only-of-type {\n",
       "        vertical-align: middle;\n",
       "    }\n",
       "\n",
       "    .dataframe tbody tr th {\n",
       "        vertical-align: top;\n",
       "    }\n",
       "\n",
       "    .dataframe thead th {\n",
       "        text-align: right;\n",
       "    }\n",
       "</style>\n",
       "<table border=\"1\" class=\"dataframe\">\n",
       "  <thead>\n",
       "    <tr style=\"text-align: right;\">\n",
       "      <th></th>\n",
       "      <th>modalidad_trabajo</th>\n",
       "      <th>genero</th>\n",
       "      <th>canal_reclutamiento</th>\n",
       "      <th>fecha_nacimiento</th>\n",
       "      <th>fecha_incorporacion</th>\n",
       "      <th>estado_civil</th>\n",
       "      <th>id_colaborador</th>\n",
       "      <th>seniority</th>\n",
       "      <th>distancia_oficina</th>\n",
       "      <th>dias_baja_salud</th>\n",
       "      <th>permanencia_promedio</th>\n",
       "      <th>salario</th>\n",
       "      <th>performance_score</th>\n",
       "      <th>psi_score</th>\n",
       "      <th>abandono_6meses</th>\n",
       "    </tr>\n",
       "  </thead>\n",
       "  <tbody>\n",
       "    <tr>\n",
       "      <th>0</th>\n",
       "      <td>0.0</td>\n",
       "      <td>1.0</td>\n",
       "      <td>0.0</td>\n",
       "      <td>1184.0</td>\n",
       "      <td>905.0</td>\n",
       "      <td>2.0</td>\n",
       "      <td>100247.0</td>\n",
       "      <td>1.0</td>\n",
       "      <td>1.760</td>\n",
       "      <td>1.0</td>\n",
       "      <td>1.0</td>\n",
       "      <td>140011.0</td>\n",
       "      <td>99.0</td>\n",
       "      <td>75.0</td>\n",
       "      <td>0.0</td>\n",
       "    </tr>\n",
       "    <tr>\n",
       "      <th>1</th>\n",
       "      <td>0.0</td>\n",
       "      <td>0.0</td>\n",
       "      <td>0.0</td>\n",
       "      <td>514.0</td>\n",
       "      <td>876.0</td>\n",
       "      <td>2.0</td>\n",
       "      <td>103355.0</td>\n",
       "      <td>1.0</td>\n",
       "      <td>0.760</td>\n",
       "      <td>2.0</td>\n",
       "      <td>2.0</td>\n",
       "      <td>182774.0</td>\n",
       "      <td>99.0</td>\n",
       "      <td>81.0</td>\n",
       "      <td>1.0</td>\n",
       "    </tr>\n",
       "    <tr>\n",
       "      <th>2</th>\n",
       "      <td>0.0</td>\n",
       "      <td>1.0</td>\n",
       "      <td>4.0</td>\n",
       "      <td>1372.0</td>\n",
       "      <td>242.0</td>\n",
       "      <td>3.0</td>\n",
       "      <td>100669.0</td>\n",
       "      <td>1.0</td>\n",
       "      <td>4.950</td>\n",
       "      <td>3.0</td>\n",
       "      <td>11.0</td>\n",
       "      <td>682106.0</td>\n",
       "      <td>96.0</td>\n",
       "      <td>74.0</td>\n",
       "      <td>0.0</td>\n",
       "    </tr>\n",
       "    <tr>\n",
       "      <th>3</th>\n",
       "      <td>0.0</td>\n",
       "      <td>0.0</td>\n",
       "      <td>2.0</td>\n",
       "      <td>1330.0</td>\n",
       "      <td>721.0</td>\n",
       "      <td>2.0</td>\n",
       "      <td>103760.0</td>\n",
       "      <td>1.0</td>\n",
       "      <td>13.030</td>\n",
       "      <td>2.0</td>\n",
       "      <td>2.0</td>\n",
       "      <td>270232.0</td>\n",
       "      <td>96.0</td>\n",
       "      <td>82.0</td>\n",
       "      <td>1.0</td>\n",
       "    </tr>\n",
       "    <tr>\n",
       "      <th>4</th>\n",
       "      <td>0.0</td>\n",
       "      <td>0.0</td>\n",
       "      <td>2.0</td>\n",
       "      <td>1451.0</td>\n",
       "      <td>778.0</td>\n",
       "      <td>2.0</td>\n",
       "      <td>100965.0</td>\n",
       "      <td>1.0</td>\n",
       "      <td>13.045</td>\n",
       "      <td>2.0</td>\n",
       "      <td>2.0</td>\n",
       "      <td>266804.0</td>\n",
       "      <td>95.0</td>\n",
       "      <td>82.0</td>\n",
       "      <td>0.0</td>\n",
       "    </tr>\n",
       "    <tr>\n",
       "      <th>...</th>\n",
       "      <td>...</td>\n",
       "      <td>...</td>\n",
       "      <td>...</td>\n",
       "      <td>...</td>\n",
       "      <td>...</td>\n",
       "      <td>...</td>\n",
       "      <td>...</td>\n",
       "      <td>...</td>\n",
       "      <td>...</td>\n",
       "      <td>...</td>\n",
       "      <td>...</td>\n",
       "      <td>...</td>\n",
       "      <td>...</td>\n",
       "      <td>...</td>\n",
       "      <td>...</td>\n",
       "    </tr>\n",
       "    <tr>\n",
       "      <th>2147</th>\n",
       "      <td>1.0</td>\n",
       "      <td>1.0</td>\n",
       "      <td>3.0</td>\n",
       "      <td>878.0</td>\n",
       "      <td>802.0</td>\n",
       "      <td>0.0</td>\n",
       "      <td>103567.0</td>\n",
       "      <td>1.0</td>\n",
       "      <td>1.965</td>\n",
       "      <td>8.0</td>\n",
       "      <td>3.0</td>\n",
       "      <td>281159.0</td>\n",
       "      <td>NaN</td>\n",
       "      <td>65.0</td>\n",
       "      <td>1.0</td>\n",
       "    </tr>\n",
       "    <tr>\n",
       "      <th>2148</th>\n",
       "      <td>1.0</td>\n",
       "      <td>1.0</td>\n",
       "      <td>2.0</td>\n",
       "      <td>1046.0</td>\n",
       "      <td>989.0</td>\n",
       "      <td>0.0</td>\n",
       "      <td>104098.0</td>\n",
       "      <td>1.0</td>\n",
       "      <td>0.805</td>\n",
       "      <td>12.0</td>\n",
       "      <td>13.0</td>\n",
       "      <td>460337.0</td>\n",
       "      <td>NaN</td>\n",
       "      <td>82.0</td>\n",
       "      <td>1.0</td>\n",
       "    </tr>\n",
       "    <tr>\n",
       "      <th>2149</th>\n",
       "      <td>1.0</td>\n",
       "      <td>0.0</td>\n",
       "      <td>3.0</td>\n",
       "      <td>693.0</td>\n",
       "      <td>878.0</td>\n",
       "      <td>2.0</td>\n",
       "      <td>103987.0</td>\n",
       "      <td>1.0</td>\n",
       "      <td>1.625</td>\n",
       "      <td>1.0</td>\n",
       "      <td>11.0</td>\n",
       "      <td>633879.0</td>\n",
       "      <td>NaN</td>\n",
       "      <td>66.0</td>\n",
       "      <td>1.0</td>\n",
       "    </tr>\n",
       "    <tr>\n",
       "      <th>2150</th>\n",
       "      <td>1.0</td>\n",
       "      <td>0.0</td>\n",
       "      <td>3.0</td>\n",
       "      <td>1804.0</td>\n",
       "      <td>1283.0</td>\n",
       "      <td>0.0</td>\n",
       "      <td>103810.0</td>\n",
       "      <td>1.0</td>\n",
       "      <td>5.665</td>\n",
       "      <td>2.0</td>\n",
       "      <td>6.0</td>\n",
       "      <td>793977.0</td>\n",
       "      <td>NaN</td>\n",
       "      <td>80.0</td>\n",
       "      <td>1.0</td>\n",
       "    </tr>\n",
       "    <tr>\n",
       "      <th>2151</th>\n",
       "      <td>1.0</td>\n",
       "      <td>0.0</td>\n",
       "      <td>2.0</td>\n",
       "      <td>1553.0</td>\n",
       "      <td>265.0</td>\n",
       "      <td>0.0</td>\n",
       "      <td>102441.0</td>\n",
       "      <td>1.0</td>\n",
       "      <td>4.730</td>\n",
       "      <td>1.0</td>\n",
       "      <td>9.0</td>\n",
       "      <td>756101.0</td>\n",
       "      <td>NaN</td>\n",
       "      <td>85.0</td>\n",
       "      <td>1.0</td>\n",
       "    </tr>\n",
       "  </tbody>\n",
       "</table>\n",
       "<p>2152 rows × 15 columns</p>\n",
       "</div>"
      ]
     },
     "execution_count": 27,
     "metadata": {},
     "output_type": "execute_result"
    }
   ],
   "execution_count": 27
  },
  {
   "metadata": {},
   "cell_type": "markdown",
   "source": "# Imputación basada en modelos ",
   "id": "4668c9cb9f7b50c3"
  },
  {
   "metadata": {
    "ExecuteTime": {
     "end_time": "2024-04-04T14:44:59.791219Z",
     "start_time": "2024-04-04T14:44:59.764510Z"
    }
   },
   "cell_type": "code",
   "source": [
    "# Crear una nueva columna que indique si los datos originales estaban ausentes\n",
    "df_encoded['performance_score_missing'] = df_encoded['performance_score'].isna()\n",
    "\n",
    "# Llenar los valores faltantes en la columna 'performance_score'\n",
    "df_encoded['performance_score'] = df_encoded['performance_score'].sort_values().ffill()\n",
    "\n",
    "# Crear una nueva columna 'performance_score_imputed' que es True cuando 'performance_score' estaba ausente y False de lo contrario\n",
    "df_encoded['performance_score_imputed'] = df_encoded['performance_score_missing'].map({True: 'True', False: 'False'})\n",
    "\n",
    "# Eliminar la columna 'performance_score_missing'\n",
    "df_encoded = df_encoded.drop(columns=['performance_score_missing'])\n",
    "\n",
    "df_encoded"
   ],
   "id": "42076d96d4c292b9",
   "outputs": [
    {
     "data": {
      "text/plain": [
       "      modalidad_trabajo  genero  canal_reclutamiento  fecha_nacimiento  \\\n",
       "0                   0.0     1.0                  0.0            1184.0   \n",
       "1                   0.0     0.0                  0.0             514.0   \n",
       "2                   0.0     1.0                  4.0            1372.0   \n",
       "3                   0.0     0.0                  2.0            1330.0   \n",
       "4                   0.0     0.0                  2.0            1451.0   \n",
       "...                 ...     ...                  ...               ...   \n",
       "2147                1.0     1.0                  3.0             878.0   \n",
       "2148                1.0     1.0                  2.0            1046.0   \n",
       "2149                1.0     0.0                  3.0             693.0   \n",
       "2150                1.0     0.0                  3.0            1804.0   \n",
       "2151                1.0     0.0                  2.0            1553.0   \n",
       "\n",
       "      fecha_incorporacion  estado_civil  id_colaborador  seniority  \\\n",
       "0                   905.0           2.0        100247.0        1.0   \n",
       "1                   876.0           2.0        103355.0        1.0   \n",
       "2                   242.0           3.0        100669.0        1.0   \n",
       "3                   721.0           2.0        103760.0        1.0   \n",
       "4                   778.0           2.0        100965.0        1.0   \n",
       "...                   ...           ...             ...        ...   \n",
       "2147                802.0           0.0        103567.0        1.0   \n",
       "2148                989.0           0.0        104098.0        1.0   \n",
       "2149                878.0           2.0        103987.0        1.0   \n",
       "2150               1283.0           0.0        103810.0        1.0   \n",
       "2151                265.0           0.0        102441.0        1.0   \n",
       "\n",
       "      distancia_oficina  dias_baja_salud  permanencia_promedio   salario  \\\n",
       "0                 1.760              1.0                   1.0  140011.0   \n",
       "1                 0.760              2.0                   2.0  182774.0   \n",
       "2                 4.950              3.0                  11.0  682106.0   \n",
       "3                13.030              2.0                   2.0  270232.0   \n",
       "4                13.045              2.0                   2.0  266804.0   \n",
       "...                 ...              ...                   ...       ...   \n",
       "2147              1.965              8.0                   3.0  281159.0   \n",
       "2148              0.805             12.0                  13.0  460337.0   \n",
       "2149              1.625              1.0                  11.0  633879.0   \n",
       "2150              5.665              2.0                   6.0  793977.0   \n",
       "2151              4.730              1.0                   9.0  756101.0   \n",
       "\n",
       "      performance_score  psi_score  abandono_6meses performance_score_imputed  \n",
       "0                  99.0       75.0              0.0                     False  \n",
       "1                  99.0       81.0              1.0                     False  \n",
       "2                  96.0       74.0              0.0                     False  \n",
       "3                  96.0       82.0              1.0                     False  \n",
       "4                  95.0       82.0              0.0                     False  \n",
       "...                 ...        ...              ...                       ...  \n",
       "2147               99.0       65.0              1.0                      True  \n",
       "2148               99.0       82.0              1.0                      True  \n",
       "2149               99.0       66.0              1.0                      True  \n",
       "2150               99.0       80.0              1.0                      True  \n",
       "2151               99.0       85.0              1.0                      True  \n",
       "\n",
       "[2152 rows x 16 columns]"
      ],
      "text/html": [
       "<div>\n",
       "<style scoped>\n",
       "    .dataframe tbody tr th:only-of-type {\n",
       "        vertical-align: middle;\n",
       "    }\n",
       "\n",
       "    .dataframe tbody tr th {\n",
       "        vertical-align: top;\n",
       "    }\n",
       "\n",
       "    .dataframe thead th {\n",
       "        text-align: right;\n",
       "    }\n",
       "</style>\n",
       "<table border=\"1\" class=\"dataframe\">\n",
       "  <thead>\n",
       "    <tr style=\"text-align: right;\">\n",
       "      <th></th>\n",
       "      <th>modalidad_trabajo</th>\n",
       "      <th>genero</th>\n",
       "      <th>canal_reclutamiento</th>\n",
       "      <th>fecha_nacimiento</th>\n",
       "      <th>fecha_incorporacion</th>\n",
       "      <th>estado_civil</th>\n",
       "      <th>id_colaborador</th>\n",
       "      <th>seniority</th>\n",
       "      <th>distancia_oficina</th>\n",
       "      <th>dias_baja_salud</th>\n",
       "      <th>permanencia_promedio</th>\n",
       "      <th>salario</th>\n",
       "      <th>performance_score</th>\n",
       "      <th>psi_score</th>\n",
       "      <th>abandono_6meses</th>\n",
       "      <th>performance_score_imputed</th>\n",
       "    </tr>\n",
       "  </thead>\n",
       "  <tbody>\n",
       "    <tr>\n",
       "      <th>0</th>\n",
       "      <td>0.0</td>\n",
       "      <td>1.0</td>\n",
       "      <td>0.0</td>\n",
       "      <td>1184.0</td>\n",
       "      <td>905.0</td>\n",
       "      <td>2.0</td>\n",
       "      <td>100247.0</td>\n",
       "      <td>1.0</td>\n",
       "      <td>1.760</td>\n",
       "      <td>1.0</td>\n",
       "      <td>1.0</td>\n",
       "      <td>140011.0</td>\n",
       "      <td>99.0</td>\n",
       "      <td>75.0</td>\n",
       "      <td>0.0</td>\n",
       "      <td>False</td>\n",
       "    </tr>\n",
       "    <tr>\n",
       "      <th>1</th>\n",
       "      <td>0.0</td>\n",
       "      <td>0.0</td>\n",
       "      <td>0.0</td>\n",
       "      <td>514.0</td>\n",
       "      <td>876.0</td>\n",
       "      <td>2.0</td>\n",
       "      <td>103355.0</td>\n",
       "      <td>1.0</td>\n",
       "      <td>0.760</td>\n",
       "      <td>2.0</td>\n",
       "      <td>2.0</td>\n",
       "      <td>182774.0</td>\n",
       "      <td>99.0</td>\n",
       "      <td>81.0</td>\n",
       "      <td>1.0</td>\n",
       "      <td>False</td>\n",
       "    </tr>\n",
       "    <tr>\n",
       "      <th>2</th>\n",
       "      <td>0.0</td>\n",
       "      <td>1.0</td>\n",
       "      <td>4.0</td>\n",
       "      <td>1372.0</td>\n",
       "      <td>242.0</td>\n",
       "      <td>3.0</td>\n",
       "      <td>100669.0</td>\n",
       "      <td>1.0</td>\n",
       "      <td>4.950</td>\n",
       "      <td>3.0</td>\n",
       "      <td>11.0</td>\n",
       "      <td>682106.0</td>\n",
       "      <td>96.0</td>\n",
       "      <td>74.0</td>\n",
       "      <td>0.0</td>\n",
       "      <td>False</td>\n",
       "    </tr>\n",
       "    <tr>\n",
       "      <th>3</th>\n",
       "      <td>0.0</td>\n",
       "      <td>0.0</td>\n",
       "      <td>2.0</td>\n",
       "      <td>1330.0</td>\n",
       "      <td>721.0</td>\n",
       "      <td>2.0</td>\n",
       "      <td>103760.0</td>\n",
       "      <td>1.0</td>\n",
       "      <td>13.030</td>\n",
       "      <td>2.0</td>\n",
       "      <td>2.0</td>\n",
       "      <td>270232.0</td>\n",
       "      <td>96.0</td>\n",
       "      <td>82.0</td>\n",
       "      <td>1.0</td>\n",
       "      <td>False</td>\n",
       "    </tr>\n",
       "    <tr>\n",
       "      <th>4</th>\n",
       "      <td>0.0</td>\n",
       "      <td>0.0</td>\n",
       "      <td>2.0</td>\n",
       "      <td>1451.0</td>\n",
       "      <td>778.0</td>\n",
       "      <td>2.0</td>\n",
       "      <td>100965.0</td>\n",
       "      <td>1.0</td>\n",
       "      <td>13.045</td>\n",
       "      <td>2.0</td>\n",
       "      <td>2.0</td>\n",
       "      <td>266804.0</td>\n",
       "      <td>95.0</td>\n",
       "      <td>82.0</td>\n",
       "      <td>0.0</td>\n",
       "      <td>False</td>\n",
       "    </tr>\n",
       "    <tr>\n",
       "      <th>...</th>\n",
       "      <td>...</td>\n",
       "      <td>...</td>\n",
       "      <td>...</td>\n",
       "      <td>...</td>\n",
       "      <td>...</td>\n",
       "      <td>...</td>\n",
       "      <td>...</td>\n",
       "      <td>...</td>\n",
       "      <td>...</td>\n",
       "      <td>...</td>\n",
       "      <td>...</td>\n",
       "      <td>...</td>\n",
       "      <td>...</td>\n",
       "      <td>...</td>\n",
       "      <td>...</td>\n",
       "      <td>...</td>\n",
       "    </tr>\n",
       "    <tr>\n",
       "      <th>2147</th>\n",
       "      <td>1.0</td>\n",
       "      <td>1.0</td>\n",
       "      <td>3.0</td>\n",
       "      <td>878.0</td>\n",
       "      <td>802.0</td>\n",
       "      <td>0.0</td>\n",
       "      <td>103567.0</td>\n",
       "      <td>1.0</td>\n",
       "      <td>1.965</td>\n",
       "      <td>8.0</td>\n",
       "      <td>3.0</td>\n",
       "      <td>281159.0</td>\n",
       "      <td>99.0</td>\n",
       "      <td>65.0</td>\n",
       "      <td>1.0</td>\n",
       "      <td>True</td>\n",
       "    </tr>\n",
       "    <tr>\n",
       "      <th>2148</th>\n",
       "      <td>1.0</td>\n",
       "      <td>1.0</td>\n",
       "      <td>2.0</td>\n",
       "      <td>1046.0</td>\n",
       "      <td>989.0</td>\n",
       "      <td>0.0</td>\n",
       "      <td>104098.0</td>\n",
       "      <td>1.0</td>\n",
       "      <td>0.805</td>\n",
       "      <td>12.0</td>\n",
       "      <td>13.0</td>\n",
       "      <td>460337.0</td>\n",
       "      <td>99.0</td>\n",
       "      <td>82.0</td>\n",
       "      <td>1.0</td>\n",
       "      <td>True</td>\n",
       "    </tr>\n",
       "    <tr>\n",
       "      <th>2149</th>\n",
       "      <td>1.0</td>\n",
       "      <td>0.0</td>\n",
       "      <td>3.0</td>\n",
       "      <td>693.0</td>\n",
       "      <td>878.0</td>\n",
       "      <td>2.0</td>\n",
       "      <td>103987.0</td>\n",
       "      <td>1.0</td>\n",
       "      <td>1.625</td>\n",
       "      <td>1.0</td>\n",
       "      <td>11.0</td>\n",
       "      <td>633879.0</td>\n",
       "      <td>99.0</td>\n",
       "      <td>66.0</td>\n",
       "      <td>1.0</td>\n",
       "      <td>True</td>\n",
       "    </tr>\n",
       "    <tr>\n",
       "      <th>2150</th>\n",
       "      <td>1.0</td>\n",
       "      <td>0.0</td>\n",
       "      <td>3.0</td>\n",
       "      <td>1804.0</td>\n",
       "      <td>1283.0</td>\n",
       "      <td>0.0</td>\n",
       "      <td>103810.0</td>\n",
       "      <td>1.0</td>\n",
       "      <td>5.665</td>\n",
       "      <td>2.0</td>\n",
       "      <td>6.0</td>\n",
       "      <td>793977.0</td>\n",
       "      <td>99.0</td>\n",
       "      <td>80.0</td>\n",
       "      <td>1.0</td>\n",
       "      <td>True</td>\n",
       "    </tr>\n",
       "    <tr>\n",
       "      <th>2151</th>\n",
       "      <td>1.0</td>\n",
       "      <td>0.0</td>\n",
       "      <td>2.0</td>\n",
       "      <td>1553.0</td>\n",
       "      <td>265.0</td>\n",
       "      <td>0.0</td>\n",
       "      <td>102441.0</td>\n",
       "      <td>1.0</td>\n",
       "      <td>4.730</td>\n",
       "      <td>1.0</td>\n",
       "      <td>9.0</td>\n",
       "      <td>756101.0</td>\n",
       "      <td>99.0</td>\n",
       "      <td>85.0</td>\n",
       "      <td>1.0</td>\n",
       "      <td>True</td>\n",
       "    </tr>\n",
       "  </tbody>\n",
       "</table>\n",
       "<p>2152 rows × 16 columns</p>\n",
       "</div>"
      ]
     },
     "execution_count": 37,
     "metadata": {},
     "output_type": "execute_result"
    }
   ],
   "execution_count": 37
  },
  {
   "metadata": {
    "ExecuteTime": {
     "end_time": "2024-04-04T14:47:47.777895Z",
     "start_time": "2024-04-04T14:47:47.773284Z"
    }
   },
   "cell_type": "code",
   "source": "df_to_impute = df_encoded.drop(columns=['performance_score_imputed'])",
   "id": "296e4bd140de4580",
   "outputs": [],
   "execution_count": 42
  },
  {
   "metadata": {
    "ExecuteTime": {
     "end_time": "2024-04-04T14:53:12.392543Z",
     "start_time": "2024-04-04T14:53:12.386756Z"
    }
   },
   "cell_type": "code",
   "source": [
    "# Crear una instancia de KNNImputer\n",
    "imputer = KNNImputer(n_neighbors=5)\n",
    "\n",
    "# Ajustar el imputer a los datos y transformar los datos\n",
    "df_imputed = imputer.fit_transform(df_to_impute)\n",
    "\n",
    "# Convertir el resultado a un DataFrame de pandas y asignar los nombres de las columnas\n",
    "df_imputed = pd.DataFrame(df_imputed, columns=df_to_impute.columns)"
   ],
   "id": "7e99d335d39b9f4e",
   "outputs": [],
   "execution_count": 51
  },
  {
   "metadata": {
    "ExecuteTime": {
     "end_time": "2024-04-04T14:58:36.734273Z",
     "start_time": "2024-04-04T14:58:36.730295Z"
    }
   },
   "cell_type": "code",
   "source": "df_data = pd.concat([df_imputed, df_encoded['performance_score_imputed']], axis=1)",
   "id": "a4838f5ef1439ca2",
   "outputs": [],
   "execution_count": 59
  },
  {
   "metadata": {},
   "cell_type": "markdown",
   "source": "# Regresiones Robustas - RANSAC, Huber Regressor",
   "id": "f0a1a9bc7daf85a8"
  },
  {
   "metadata": {
    "ExecuteTime": {
     "end_time": "2024-04-04T15:00:37.892804Z",
     "start_time": "2024-04-04T15:00:37.889478Z"
    }
   },
   "cell_type": "code",
   "source": [
    "from sklearn.linear_model import RANSACRegressor, HuberRegressor\n",
    "from sklearn.svm import SVR\n",
    "from sklearn.model_selection import train_test_split\n",
    "from sklearn.metrics import mean_squared_error"
   ],
   "id": "c63c6c135ebb7166",
   "outputs": [],
   "execution_count": 60
  },
  {
   "metadata": {
    "ExecuteTime": {
     "end_time": "2024-04-04T15:38:46.874448Z",
     "start_time": "2024-04-04T15:38:46.870294Z"
    }
   },
   "cell_type": "code",
   "source": "y = df_data['abandono_6meses']",
   "id": "cf232996e10ccd5",
   "outputs": [],
   "execution_count": 85
  },
  {
   "metadata": {},
   "cell_type": "markdown",
   "source": "## Realizar un escalamiento de los datos",
   "id": "6b2712f0ee31278"
  },
  {
   "metadata": {
    "ExecuteTime": {
     "end_time": "2024-04-04T15:38:49.178454Z",
     "start_time": "2024-04-04T15:38:49.172326Z"
    }
   },
   "cell_type": "code",
   "source": [
    "from sklearn.preprocessing import StandardScaler\n",
    "scaler = StandardScaler()\n",
    "X = df_data.drop(columns=['performance_score_imputed', 'abandono_6meses', 'id_colaborador'])\n",
    "X = scaler.fit_transform(X)"
   ],
   "id": "10295c5a00c10f04",
   "outputs": [],
   "execution_count": 86
  },
  {
   "metadata": {
    "ExecuteTime": {
     "end_time": "2024-04-04T15:38:51.625093Z",
     "start_time": "2024-04-04T15:38:51.620094Z"
    }
   },
   "cell_type": "code",
   "source": "X_train, X_test, y_train, y_test = train_test_split(X, y, test_size=0.2, random_state=42)",
   "id": "a9b53922d54cab4f",
   "outputs": [],
   "execution_count": 87
  },
  {
   "metadata": {
    "ExecuteTime": {
     "end_time": "2024-04-04T15:38:52.334204Z",
     "start_time": "2024-04-04T15:38:52.061346Z"
    }
   },
   "cell_type": "code",
   "source": [
    "estimadores = {\n",
    "    'RANSAC': RANSACRegressor(),\n",
    "    'Huber': HuberRegressor(epsilon=1.35),\n",
    "    'SVR': SVR(gamma='auto', C=1.0, epsilon=0.1)\n",
    "}\n",
    "\n",
    "for name, estimador in estimadores.items():\n",
    "    estimador.fit(X_train, y_train)\n",
    "    predicciones = estimador.predict(X_test)\n",
    "    mse = mean_squared_error(y_test, predicciones)\n",
    "    print(\"=\"*32)\n",
    "    print(f'{name}: {mse}')"
   ],
   "id": "5f6aff091786342e",
   "outputs": [
    {
     "name": "stderr",
     "output_type": "stream",
     "text": [
      "C:\\Users\\gabca\\Lib\\site-packages\\sklearn\\metrics\\_regression.py:1187: UndefinedMetricWarning: R^2 score is not well-defined with less than two samples.\n",
      "  warnings.warn(msg, UndefinedMetricWarning)\n",
      "C:\\Users\\gabca\\Lib\\site-packages\\sklearn\\metrics\\_regression.py:1187: UndefinedMetricWarning: R^2 score is not well-defined with less than two samples.\n",
      "  warnings.warn(msg, UndefinedMetricWarning)\n",
      "C:\\Users\\gabca\\Lib\\site-packages\\sklearn\\metrics\\_regression.py:1187: UndefinedMetricWarning: R^2 score is not well-defined with less than two samples.\n",
      "  warnings.warn(msg, UndefinedMetricWarning)\n",
      "C:\\Users\\gabca\\Lib\\site-packages\\sklearn\\metrics\\_regression.py:1187: UndefinedMetricWarning: R^2 score is not well-defined with less than two samples.\n",
      "  warnings.warn(msg, UndefinedMetricWarning)\n",
      "C:\\Users\\gabca\\Lib\\site-packages\\sklearn\\metrics\\_regression.py:1187: UndefinedMetricWarning: R^2 score is not well-defined with less than two samples.\n",
      "  warnings.warn(msg, UndefinedMetricWarning)\n"
     ]
    },
    {
     "name": "stdout",
     "output_type": "stream",
     "text": [
      "================================\n",
      "RANSAC: 0.5027236424368611\n",
      "================================\n",
      "Huber: 0.2216155367903144\n",
      "================================\n",
      "SVR: 0.2370095383534482\n"
     ]
    }
   ],
   "execution_count": 88
  },
  {
   "metadata": {},
   "cell_type": "markdown",
   "source": "# Método de Bagging",
   "id": "1ec84f989f007365"
  },
  {
   "metadata": {
    "ExecuteTime": {
     "end_time": "2024-04-04T15:39:05.377011Z",
     "start_time": "2024-04-04T15:39:05.372331Z"
    }
   },
   "cell_type": "code",
   "source": [
    "from sklearn.ensemble import BaggingRegressor\n",
    "from sklearn.neighbors import KNeighborsClassifier\n",
    "from sklearn.linear_model import LinearRegression\n",
    "from sklearn.metrics import mean_squared_error, accuracy_score, r2_score"
   ],
   "id": "a70db105bea1a77b",
   "outputs": [],
   "execution_count": 89
  },
  {
   "metadata": {
    "ExecuteTime": {
     "end_time": "2024-04-04T15:39:06.315431Z",
     "start_time": "2024-04-04T15:39:06.278872Z"
    }
   },
   "cell_type": "code",
   "source": [
    "knn_class = KNeighborsClassifier().fit(X_train, y_train)\n",
    "knn_pred = knn_class.predict(X_test)\n",
    "print(f'Accuracy: {accuracy_score(y_test, knn_pred)}')"
   ],
   "id": "1592908570823dc6",
   "outputs": [
    {
     "name": "stdout",
     "output_type": "stream",
     "text": [
      "Accuracy: 0.6078886310904872\n"
     ]
    }
   ],
   "execution_count": 90
  },
  {
   "metadata": {
    "ExecuteTime": {
     "end_time": "2024-04-04T15:39:11.758453Z",
     "start_time": "2024-04-04T15:39:11.449540Z"
    }
   },
   "cell_type": "code",
   "source": [
    "bag_class = BaggingRegressor(KNeighborsClassifier(), n_estimators=10, random_state=42).fit(X_train, y_train)\n",
    "print(f'Accuracy: {bag_class.score(X_test, y_test)}')"
   ],
   "id": "c8368cb3bcc4e7c6",
   "outputs": [
    {
     "name": "stdout",
     "output_type": "stream",
     "text": [
      "Accuracy: -0.14344855063100304\n"
     ]
    }
   ],
   "execution_count": 91
  },
  {
   "metadata": {},
   "cell_type": "markdown",
   "source": "# PCA",
   "id": "35fa445cdd6b3481"
  },
  {
   "metadata": {
    "ExecuteTime": {
     "end_time": "2024-04-04T15:39:25.810743Z",
     "start_time": "2024-04-04T15:39:25.807290Z"
    }
   },
   "cell_type": "code",
   "source": [
    "from sklearn.decomposition import PCA\n",
    "from sklearn.linear_model import LogisticRegression"
   ],
   "id": "1831588a09f6810",
   "outputs": [],
   "execution_count": 92
  },
  {
   "metadata": {
    "ExecuteTime": {
     "end_time": "2024-04-04T15:39:26.953897Z",
     "start_time": "2024-04-04T15:39:26.950301Z"
    }
   },
   "cell_type": "code",
   "source": "print(X_train.shape)",
   "id": "3ca29e6f9bf7b80b",
   "outputs": [
    {
     "name": "stdout",
     "output_type": "stream",
     "text": [
      "(1721, 14)\n"
     ]
    }
   ],
   "execution_count": 93
  },
  {
   "metadata": {
    "ExecuteTime": {
     "end_time": "2024-04-04T15:39:34.717543Z",
     "start_time": "2024-04-04T15:39:34.610821Z"
    }
   },
   "cell_type": "code",
   "source": [
    "pca = PCA(n_components=4)\n",
    "pca.fit(X_train)\n",
    "\n",
    "plt.plot(range(len(pca.explained_variance_ratio_)), pca.explained_variance_ratio_)"
   ],
   "id": "3f46031cd4f7786d",
   "outputs": [
    {
     "data": {
      "text/plain": [
       "[<matplotlib.lines.Line2D at 0x1f6702c0080>]"
      ]
     },
     "execution_count": 94,
     "metadata": {},
     "output_type": "execute_result"
    },
    {
     "data": {
      "text/plain": [
       "<Figure size 640x480 with 1 Axes>"
      ],
      "image/png": "[encoded data removed]"
     },
     "metadata": {},
     "output_type": "display_data"
    }
   ],
   "execution_count": 94
  },
  {
   "metadata": {
    "ExecuteTime": {
     "end_time": "2024-04-04T15:39:42.019187Z",
     "start_time": "2024-04-04T15:39:42.009353Z"
    }
   },
   "cell_type": "code",
   "source": [
    "logistic = LogisticRegression(solver='lbfgs')\n",
    "\n",
    "data_train = pca.transform(X_train)\n",
    "data_test = pca.transform(X_test)\n",
    "\n",
    "logistic.fit(data_train, y_train)\n",
    "print(f'Accuracy: {logistic.score(data_test, y_test)}')\n",
    "\n"
   ],
   "id": "39864605a0e3b6c7",
   "outputs": [
    {
     "name": "stdout",
     "output_type": "stream",
     "text": [
      "Accuracy: 0.5661252900232019\n"
     ]
    }
   ],
   "execution_count": 95
  },
  {
   "metadata": {},
   "cell_type": "markdown",
   "source": "## Otros intentos",
   "id": "9a94fdef67377e8"
  },
  {
   "metadata": {
    "ExecuteTime": {
     "end_time": "2024-04-04T15:39:49.543823Z",
     "start_time": "2024-04-04T15:39:49.476634Z"
    }
   },
   "cell_type": "code",
   "source": [
    "from sklearn.pipeline import make_pipeline\n",
    "\n",
    "# Crear una instancia de PCA y RANSACRegressor\n",
    "pca = PCA(n_components=4)\n",
    "ransac = RANSACRegressor()\n",
    "\n",
    "# Crear un pipeline que primero aplica PCA y luego RANSACRegressor\n",
    "model = make_pipeline(pca, ransac)\n",
    "\n",
    "# Ajustar el modelo a los datos de entrenamiento\n",
    "model.fit(X_train, y_train)\n",
    "\n",
    "# Evaluar el modelo en los datos de prueba\n",
    "print(f'Accuracy: {model.score(X_test, y_test)}')"
   ],
   "id": "6478f43f6b35da9b",
   "outputs": [
    {
     "name": "stdout",
     "output_type": "stream",
     "text": [
      "Accuracy: -1.0234741784037555\n"
     ]
    }
   ],
   "execution_count": 96
  },
  {
   "metadata": {
    "ExecuteTime": {
     "end_time": "2024-04-04T15:39:51.160043Z",
     "start_time": "2024-04-04T15:39:51.005811Z"
    }
   },
   "cell_type": "code",
   "source": [
    "from sklearn.svm import SVR\n",
    "\n",
    "svm = SVR(kernel='linear')\n",
    "\n",
    "# Crear un pipeline que primero aplica PCA y luego SVR\n",
    "model = make_pipeline(pca, svm)\n",
    "\n",
    "# Ajustar el modelo a los datos de entrenamiento\n",
    "model.fit(X_train, y_train)\n",
    "\n",
    "# Evaluar el modelo en los datos de prueba\n",
    "print(f'Accuracy: {model.score(X_test, y_test)}')"
   ],
   "id": "2cb3007ecb9f44ed",
   "outputs": [
    {
     "name": "stdout",
     "output_type": "stream",
     "text": [
      "Accuracy: -0.12710244250452796\n"
     ]
    }
   ],
   "execution_count": 97
  },
  {
   "metadata": {},
   "cell_type": "markdown",
   "source": "# Selección de mejores características:",
   "id": "53f4c1091ce76c06"
  },
  {
   "metadata": {
    "ExecuteTime": {
     "end_time": "2024-04-04T15:50:28.459737Z",
     "start_time": "2024-04-04T15:50:28.451231Z"
    }
   },
   "cell_type": "code",
   "source": [
    "from sklearn.feature_selection import SelectKBest, f_regression\n",
    "\n",
    "X = df_data.drop(columns=['performance_score_imputed', 'abandono_6meses', 'id_colaborador'])\n",
    "X = scaler.fit_transform(X)\n",
    "\n",
    "# Crear una instancia de SelectKBest\n",
    "selector = SelectKBest(f_regression, k=5)\n",
    "X_new = selector.fit_transform(X, y)\n",
    "\n",
    "# Obtener la máscara de las características seleccionadas\n",
    "mask = selector.get_support()\n",
    "\n",
    "# Get the columns used for SelectKBest\n",
    "used_columns = df_data.drop(columns=['performance_score_imputed', 'abandono_6meses', 'id_colaborador']).columns\n",
    "\n",
    "# Apply the mask to these columns\n",
    "selected_features = used_columns[mask]\n",
    "\n",
    "print(\"Características seleccionadas:\")\n",
    "for feature in selected_features:\n",
    "    print(feature)"
   ],
   "id": "558a44fe10d31089",
   "outputs": [
    {
     "name": "stdout",
     "output_type": "stream",
     "text": [
      "Características seleccionadas:\n",
      "modalidad_trabajo\n",
      "seniority\n",
      "dias_baja_salud\n",
      "salario\n",
      "performance_score\n"
     ]
    }
   ],
   "execution_count": 111
  },
  {
   "metadata": {
    "ExecuteTime": {
     "end_time": "2024-04-04T15:50:34.046505Z",
     "start_time": "2024-04-04T15:50:34.041499Z"
    }
   },
   "cell_type": "code",
   "source": "X_new.shape",
   "id": "b4cdb2f7f018deea",
   "outputs": [
    {
     "data": {
      "text/plain": [
       "(2152, 5)"
      ]
     },
     "execution_count": 112,
     "metadata": {},
     "output_type": "execute_result"
    }
   ],
   "execution_count": 112
  },
  {
   "metadata": {
    "ExecuteTime": {
     "end_time": "2024-04-04T15:58:14.196952Z",
     "start_time": "2024-04-04T15:58:14.191813Z"
    }
   },
   "cell_type": "code",
   "source": "X_train_new, X_test_new, y_train_new, y_test_new = train_test_split(X_new, y, test_size=0.3, random_state=42)",
   "id": "62d16f05b1154816",
   "outputs": [],
   "execution_count": 118
  },
  {
   "metadata": {
    "ExecuteTime": {
     "end_time": "2024-04-04T15:58:01.161503Z",
     "start_time": "2024-04-04T15:58:01.157315Z"
    }
   },
   "cell_type": "code",
   "source": "",
   "id": "a734dc57bdba25a1",
   "outputs": [
    {
     "name": "stdout",
     "output_type": "stream",
     "text": [
      "<class 'numpy.ndarray'>\n"
     ]
    }
   ],
   "execution_count": 117
  },
  {
   "metadata": {
    "ExecuteTime": {
     "end_time": "2024-04-04T16:01:39.422758Z",
     "start_time": "2024-04-04T16:01:32.698180Z"
    }
   },
   "cell_type": "code",
   "source": [
    "from sklearn.model_selection import GridSearchCV\n",
    "from sklearn.pipeline import Pipeline\n",
    "from sklearn.decomposition import PCA\n",
    "from sklearn.linear_model import LinearRegression, RANSACRegressor, HuberRegressor\n",
    "from sklearn.tree import DecisionTreeRegressor\n",
    "from sklearn.ensemble import RandomForestRegressor, GradientBoostingRegressor\n",
    "from sklearn.linear_model import Lasso, Ridge\n",
    "from sklearn.svm import SVR\n",
    "from sklearn.ensemble import BaggingRegressor, AdaBoostRegressor, StackingRegressor\n",
    "from sklearn.tree import DecisionTreeRegressor\n",
    "\n",
    "# Define the models and hyperparameters\n",
    "models = [\n",
    "    {\n",
    "        'name': 'LinearRegression',\n",
    "        'model': LinearRegression(),\n",
    "        'params': {}\n",
    "    },\n",
    "    {\n",
    "        'name': 'RANSACRegressor',\n",
    "        'model': RANSACRegressor(),\n",
    "        'params': {}\n",
    "    },\n",
    "    {\n",
    "        'name': 'HuberRegressor',\n",
    "        'model': HuberRegressor(),\n",
    "        'params': {'HuberRegressor__epsilon': [1.0, 1.35, 1.5]}\n",
    "    },\n",
    "    {\n",
    "        'name': 'SVR',\n",
    "        'model': SVR(),\n",
    "        'params': {'SVR__kernel': ['linear', 'rbf'], 'SVR__C': [0.1, 1, 10], 'SVR__epsilon': [0.1, 0.2, 0.3]}\n",
    "    }\n",
    "]\n",
    "models.extend([\n",
    "    {\n",
    "        'name': 'DecisionTreeRegressor',\n",
    "        'model': DecisionTreeRegressor(),\n",
    "        'params': {'DecisionTreeRegressor__max_depth': [None, 5, 10]}\n",
    "    },\n",
    "    {\n",
    "        'name': 'RandomForestRegressor',\n",
    "        'model': RandomForestRegressor(),\n",
    "        'params': {'RandomForestRegressor__n_estimators': [10, 50, 100]}\n",
    "    },\n",
    "    {\n",
    "        'name': 'GradientBoostingRegressor',\n",
    "        'model': GradientBoostingRegressor(),\n",
    "        'params': {'GradientBoostingRegressor__n_estimators': [100, 200], 'GradientBoostingRegressor__learning_rate': [0.1, 0.05, 0.01]}\n",
    "    },\n",
    "    {\n",
    "        'name': 'Lasso',\n",
    "        'model': Lasso(),\n",
    "        'params': {'Lasso__alpha': [0.1, 1.0, 10.0]}\n",
    "    },\n",
    "    {\n",
    "        'name': 'Ridge',\n",
    "        'model': Ridge(),\n",
    "        'params': {'Ridge__alpha': [0.1, 1.0, 10.0]}\n",
    "    },\n",
    "    {\n",
    "        'name': 'BaggingRegressor',\n",
    "        'model': BaggingRegressor(),\n",
    "        'params': {'BaggingRegressor__n_estimators': [10, 50, 100]}\n",
    "    },\n",
    "    {\n",
    "        'name': 'AdaBoostRegressor',\n",
    "        'model': AdaBoostRegressor(),\n",
    "        'params': {'AdaBoostRegressor__n_estimators': [50, 100, 200], 'AdaBoostRegressor__learning_rate': [0.1, 0.05, 0.01]}\n",
    "    },\n",
    "    {\n",
    "        'name': 'StackingRegressor',\n",
    "        'model': StackingRegressor(estimators=[('lr', LinearRegression()), ('dt', DecisionTreeRegressor()), ('svr', SVR())]),\n",
    "        'params': {}\n",
    "    }\n",
    "])\n",
    "\n",
    "best_models = []\n",
    "best_scores = []\n",
    "\n",
    "# For each model\n",
    "for m in models:\n",
    "    # Create a pipeline\n",
    "    pipe = Pipeline(steps=[('pca', PCA(n_components=4)), (m['name'], m['model'])])\n",
    "\n",
    "    # Create a GridSearchCV object\n",
    "    search = GridSearchCV(pipe, m['params'], n_jobs=-1)\n",
    "\n",
    "    # Fit the GridSearchCV object to the data\n",
    "    search.fit(X_train_new, y_train_new)\n",
    "\n",
    "    # Print the best score and the best parameters\n",
    "    print(f\"Best score for {m['name']}: {search.best_score_}\")\n",
    "    print(f\"Best parameters for {m['name']}: {search.best_params_}\")\n",
    "\n",
    "    # Append the best score and the best model to the lists\n",
    "    best_scores.append(search.best_score_)\n",
    "    best_models.append(search.best_estimator_)\n",
    "\n",
    "# Select the model with the highest score\n",
    "best_index = np.argmax(best_scores)\n",
    "best_model = best_models[best_index]\n",
    "\n",
    "print(f\"The best model is {models[best_index]['name']} with a score of {best_scores[best_index]}\")"
   ],
   "id": "2fa83bef693967e7",
   "outputs": [
    {
     "name": "stdout",
     "output_type": "stream",
     "text": [
      "Best score for LinearRegression: 0.09947018690521318\n",
      "Best parameters for LinearRegression: {}\n",
      "Best score for RANSACRegressor: -0.8578793804669449\n",
      "Best parameters for RANSACRegressor: {}\n",
      "Best score for HuberRegressor: 0.09833322235050301\n",
      "Best parameters for HuberRegressor: {'HuberRegressor__epsilon': 1.5}\n"
     ]
    },
    {
     "name": "stderr",
     "output_type": "stream",
     "text": [
      "C:\\Users\\gabca\\Lib\\site-packages\\sklearn\\metrics\\_regression.py:1187: UndefinedMetricWarning: R^2 score is not well-defined with less than two samples.\n",
      "  warnings.warn(msg, UndefinedMetricWarning)\n"
     ]
    },
    {
     "name": "stdout",
     "output_type": "stream",
     "text": [
      "Best score for SVR: 0.11577284396087568\n",
      "Best parameters for SVR: {'SVR__C': 1, 'SVR__epsilon': 0.3, 'SVR__kernel': 'rbf'}\n",
      "Best score for DecisionTreeRegressor: 0.05493178502130238\n",
      "Best parameters for DecisionTreeRegressor: {'DecisionTreeRegressor__max_depth': 5}\n",
      "Best score for RandomForestRegressor: 0.009571671362115609\n",
      "Best parameters for RandomForestRegressor: {'RandomForestRegressor__n_estimators': 100}\n",
      "Best score for GradientBoostingRegressor: 0.11869912961129707\n",
      "Best parameters for GradientBoostingRegressor: {'GradientBoostingRegressor__learning_rate': 0.05, 'GradientBoostingRegressor__n_estimators': 100}\n",
      "Best score for Lasso: 0.019249898920172103\n",
      "Best parameters for Lasso: {'Lasso__alpha': 0.1}\n",
      "Best score for Ridge: 0.09951710511457863\n",
      "Best parameters for Ridge: {'Ridge__alpha': 10.0}\n",
      "Best score for BaggingRegressor: 0.007291067583389155\n",
      "Best parameters for BaggingRegressor: {'BaggingRegressor__n_estimators': 100}\n",
      "Best score for AdaBoostRegressor: 0.08998756541457054\n",
      "Best parameters for AdaBoostRegressor: {'AdaBoostRegressor__learning_rate': 0.05, 'AdaBoostRegressor__n_estimators': 200}\n",
      "Best score for StackingRegressor: 0.11914838269279901\n",
      "Best parameters for StackingRegressor: {}\n",
      "The best model is StackingRegressor with a score of 0.11914838269279901\n"
     ]
    }
   ],
   "execution_count": 121
  },
  {
   "metadata": {
    "ExecuteTime": {
     "end_time": "2024-04-04T16:37:26.183430Z",
     "start_time": "2024-04-04T16:37:20.177025Z"
    }
   },
   "cell_type": "code",
   "source": [
    "import pandas as pd\n",
    "from sklearn.model_selection import train_test_split, GridSearchCV\n",
    "from sklearn.preprocessing import LabelEncoder, StandardScaler\n",
    "from sklearn.impute import SimpleImputer\n",
    "from sklearn.ensemble import GradientBoostingClassifier\n",
    "from datetime import datetime\n",
    "\n",
    "data = pd.read_csv('train_data.csv', sep=';')\n",
    "\n",
    "# Transformación de las fechas a edad y tiempo en la organización\n",
    "data['fecha_nacimiento'] = pd.to_datetime(data['fecha_nacimiento'], dayfirst=True)\n",
    "data['fecha_incorporacion'] = pd.to_datetime(data['fecha_incorporacion'], dayfirst=True)\n",
    "current_date = datetime.now()\n",
    "data['Edad'] = data['fecha_nacimiento'].apply(lambda x: (current_date - x).days // 365)\n",
    "data['Tiempo en la organización'] = data['fecha_incorporacion'].apply(lambda x: (current_date - x).days // 365)\n",
    "\n",
    "# Imputación de valores faltantes en 'performance_score'\n",
    "imputer = SimpleImputer(strategy='median')\n",
    "data['performance_score'] = imputer.fit_transform(data[['performance_score']])\n",
    "\n",
    "# Eliminación de columnas no necesarias\n",
    "data.drop(['id_ultimo_jefe', 'fecha_nacimiento', 'fecha_incorporacion', 'id_colaborador'], axis=1, inplace=True)\n",
    "\n",
    "# Codificación de variables categóricas\n",
    "label_encoder = LabelEncoder()\n",
    "categorical_columns = ['modalidad_trabajo', 'genero', 'canal_reclutamiento', 'estado_civil']\n",
    "for column in categorical_columns:\n",
    "    data[column] = label_encoder.fit_transform(data[column])\n",
    "\n",
    "# Separación de la variable objetivo y características\n",
    "X = data.drop('abandono_6meses', axis=1)\n",
    "y = data['abandono_6meses']\n",
    "\n",
    "# Normalización de las variables numéricas\n",
    "scaler = StandardScaler()\n",
    "X = pd.DataFrame(scaler.fit_transform(X), columns=X.columns)\n",
    "\n",
    "# División del dataset en conjuntos de entrenamiento y prueba\n",
    "X_train, X_test, y_train, y_test = train_test_split(X, y, test_size=0.3, random_state=42)\n",
    "\n",
    "# Definición del modelo de Gradient Boosting y espacio de hiperparámetros para GridSearchCV\n",
    "gb_model = GradientBoostingClassifier(random_state=42)\n",
    "param_grid = {\n",
    "    'n_estimators': [50, 100, 150],\n",
    "    'learning_rate': [0.05, 0.1, 0.2],\n",
    "    'max_depth': [3, 4, 5]\n",
    "}\n",
    "\n",
    "# Configuración y ejecución de GridSearchCV\n",
    "grid_search = GridSearchCV(estimator=gb_model, param_grid=param_grid, cv=5, scoring='accuracy', n_jobs=-1)\n",
    "grid_search.fit(X_train, y_train)\n",
    "\n",
    "# Resultados de la optimización\n",
    "best_params = grid_search.best_params_\n",
    "best_score = grid_search.best_score_\n",
    "print(\"Mejores hiperparámetros:\", best_params)\n",
    "print(\"Mejor puntuación de precisión:\", best_score)"
   ],
   "id": "f4127803409e8f95",
   "outputs": [
    {
     "name": "stdout",
     "output_type": "stream",
     "text": [
      "Mejores hiperparámetros: {'learning_rate': 0.1, 'max_depth': 4, 'n_estimators': 50}\n",
      "Mejor puntuación de precisión: 0.6646806450903171\n"
     ]
    }
   ],
   "execution_count": 124
  },
  {
   "metadata": {
    "ExecuteTime": {
     "end_time": "2024-04-04T16:37:31.007153Z",
     "start_time": "2024-04-04T16:37:30.117527Z"
    }
   },
   "cell_type": "code",
   "source": [
    "from sklearn.metrics import confusion_matrix\n",
    "import seaborn as sns\n",
    "import matplotlib.pyplot as plt\n",
    "# Hacemos predicciones con el mejor modelo sobre el conjunto de prueba\n",
    "y_pred = grid_search.best_estimator_.predict(X_test)\n",
    "\n",
    "# Calculamos la matriz de confusión\n",
    "conf_matrix = confusion_matrix(y_test, y_pred)\n",
    "\n",
    "# Visualizamos la matriz de confusión\n",
    "plt.figure(figsize=(8, 6))\n",
    "sns.heatmap(conf_matrix, annot=True, fmt='d', cmap='Blues', xticklabels=['No Abandono', 'Abandono'], yticklabels=['No Abandono', 'Abandono'])\n",
    "plt.xlabel('Predicciones')\n",
    "plt.ylabel('Valores Reales')\n",
    "plt.title('Matriz de Confusión')\n",
    "plt.show()"
   ],
   "id": "833c2641600fa995",
   "outputs": [
    {
     "data": {
      "text/plain": [
       "<Figure size 800x600 with 2 Axes>"
      ],
      "image/png": "[encoded data removed]"
     },
     "metadata": {},
     "output_type": "display_data"
    }
   ],
   "execution_count": 125
  },
  {
   "metadata": {
    "ExecuteTime": {
     "end_time": "2024-04-04T16:39:08.857040Z",
     "start_time": "2024-04-04T16:39:08.554763Z"
    }
   },
   "cell_type": "code",
   "source": [
    "# Entrenamiento del modelo con los mejores hiperparámetros\n",
    "final_model = GradientBoostingClassifier(learning_rate=0.1, max_depth=4, n_estimators=50, random_state=42)\n",
    "final_model.fit(X_train, y_train)\n",
    "\n",
    "# Predicciones en el conjunto de prueba\n",
    "y_pred_final = final_model.predict(X_test)\n",
    "\n",
    "# Evaluación del modelo: Matriz de confusión\n",
    "from sklearn.metrics import confusion_matrix, accuracy_score\n",
    "import seaborn as sns\n",
    "import matplotlib.pyplot as plt\n",
    "\n",
    "conf_matrix_final = confusion_matrix(y_test, y_pred_final)\n",
    "accuracy_final = accuracy_score(y_test, y_pred_final)\n",
    "\n",
    "# Visualización de la matriz de confusión\n",
    "plt.figure(figsize=(8, 6))\n",
    "sns.heatmap(conf_matrix_final, annot=True, fmt='d', cmap='Blues', xticklabels=['No Abandono', 'Abandono'], yticklabels=['No Abandono', 'Abandono'])\n",
    "plt.xlabel('Predicciones')\n",
    "plt.ylabel('Valores Reales')\n",
    "plt.title('Matriz de Confusión del Modelo Final')\n",
    "plt.show()\n",
    "\n",
    "# Imprimir la precisión del modelo\n",
    "print(\"Precisión del modelo en el conjunto de prueba:\", accuracy_final)"
   ],
   "id": "9f982b7712daafb9",
   "outputs": [
    {
     "data": {
      "text/plain": [
       "<Figure size 800x600 with 2 Axes>"
      ],
      "image/png": "[encoded data removed]"
     },
     "metadata": {},
     "output_type": "display_data"
    },
    {
     "name": "stdout",
     "output_type": "stream",
     "text": [
      "Precisión del modelo en el conjunto de prueba: 0.6625386996904025\n"
     ]
    }
   ],
   "execution_count": 126
  },
  {
   "metadata": {},
   "cell_type": "code",
   "outputs": [],
   "execution_count": null,
   "source": "",
   "id": "e4474727e097fc9"
  },
  {
   "metadata": {
    "ExecuteTime": {
     "end_time": "2024-04-04T16:43:30.334575Z",
     "start_time": "2024-04-04T16:43:30.278435Z"
    }
   },
   "cell_type": "code",
   "source": [
    "data_test = pd.read_csv('test_data.csv', sep=';')\n",
    "\n",
    "# Transformación de las fechas a edad y tiempo en la organización\n",
    "data_test['fecha_nacimiento'] = pd.to_datetime(data_test['fecha_nacimiento'], dayfirst=True)\n",
    "data_test['fecha_incorporacion'] = pd.to_datetime(data_test['fecha_incorporacion'], dayfirst=True)\n",
    "data_test['Edad'] = data_test['fecha_nacimiento'].apply(lambda x: (datetime.now() - x).days // 365)\n",
    "data_test['Tiempo en la organización'] = data_test['fecha_incorporacion'].apply(lambda x: (datetime.now() - x).days // 365)\n",
    "\n",
    "# Imputación de valores faltantes para 'performance_score'\n",
    "# Asegúrate de ajustar esto si hay otras columnas con valores faltantes en tu conjunto de prueba\n",
    "imputer = SimpleImputer(strategy='median')\n",
    "data_test['performance_score'] = imputer.fit_transform(data_test[['performance_score']])\n",
    "\n",
    "# Eliminación de columnas no necesarias\n",
    "data_test.drop(['id_ultimo_jefe', 'fecha_nacimiento', 'fecha_incorporacion', 'id_colaborador'], axis=1, inplace=True)\n",
    "\n",
    "# Codificación de variables categóricas\n",
    "label_encoder = LabelEncoder()\n",
    "categorical_columns = ['modalidad_trabajo', 'genero', 'canal_reclutamiento', 'estado_civil']\n",
    "for column in categorical_columns:\n",
    "    data_test[column] = label_encoder.fit_transform(data_test[column])\n",
    "\n",
    "# Normalización de las variables numéricas\n",
    "scaler = StandardScaler()\n",
    "X_test_new = pd.DataFrame(scaler.fit_transform(data_test), columns=data_test.columns)\n",
    "\n",
    "# Preparación completa, listo para hacer predicciones\n",
    "# Asume que 'final_model' es tu modelo entrenado con los mejores hiperparámetros\n",
    "y_pred_test_new = final_model.predict(X_test_new)"
   ],
   "id": "88072b89f3dc1c99",
   "outputs": [],
   "execution_count": 129
  },
  {
   "metadata": {
    "ExecuteTime": {
     "end_time": "2024-04-04T16:43:37.533615Z",
     "start_time": "2024-04-04T16:43:37.530137Z"
    }
   },
   "cell_type": "code",
   "source": "print(y_pred_test_new)",
   "id": "6bfb03df4dd81cb4",
   "outputs": [
    {
     "name": "stdout",
     "output_type": "stream",
     "text": [
      "[0 0 0 ... 1 0 1]\n"
     ]
    }
   ],
   "execution_count": 130
  },
  {
   "metadata": {
    "ExecuteTime": {
     "end_time": "2024-04-04T16:46:05.260259Z",
     "start_time": "2024-04-04T16:46:05.242828Z"
    }
   },
   "cell_type": "code",
   "source": [
    "id_column = pd.read_csv('test_data.csv', sep=';')['id_colaborador']\n",
    "\n",
    "results_df = pd.DataFrame({\n",
    "    'ID': id_column,\n",
    "    'abandono_6meses': y_pred_test_new\n",
    "})\n",
    "\n",
    "# Guarda el DataFrame como un nuevo archivo CSV\n",
    "output_file_path = 'predicciones_abandono.csv'  # Ajusta el nombre del archivo según necesites\n",
    "results_df.to_csv(output_file_path, index=False)\n",
    "\n",
    "print(f\"Archivo guardado: {output_file_path}\")"
   ],
   "id": "9d100eab27c432f8",
   "outputs": [
    {
     "name": "stdout",
     "output_type": "stream",
     "text": [
      "Archivo guardado: predicciones_abandono.csv\n"
     ]
    }
   ],
   "execution_count": 132
  },
  {
   "metadata": {},
   "cell_type": "code",
   "outputs": [],
   "execution_count": null,
   "source": "",
   "id": "965c0727fa7cf9f"
  }
 ],
 "metadata": {
  "kernelspec": {
   "display_name": "Python 3",
   "language": "python",
   "name": "python3"
  },
  "language_info": {
   "codemirror_mode": {
    "name": "ipython",
    "version": 2
   },
   "file_extension": ".py",
   "mimetype": "text/x-python",
   "name": "python",
   "nbconvert_exporter": "python",
   "pygments_lexer": "ipython2",
   "version": "2.7.6"
  }
 },
 "nbformat": 4,
 "nbformat_minor": 5
}
