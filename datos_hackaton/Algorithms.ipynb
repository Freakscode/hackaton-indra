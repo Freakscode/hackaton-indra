{
 "cells": [
  {
   "cell_type": "code",
   "execution_count": 1,
   "metadata": {},
   "outputs": [],
   "source": [
    "import pandas as pd"
   ]
  },
  {
   "cell_type": "code",
   "execution_count": 11,
   "metadata": {},
   "outputs": [],
   "source": [
    "data_train = pd.read_csv('train_data.csv', delimiter=';')"
   ]
  },
  {
   "cell_type": "code",
   "execution_count": 12,
   "metadata": {},
   "outputs": [
    {
     "data": {
      "text/html": [
       "<div>\n",
       "<style scoped>\n",
       "    .dataframe tbody tr th:only-of-type {\n",
       "        vertical-align: middle;\n",
       "    }\n",
       "\n",
       "    .dataframe tbody tr th {\n",
       "        vertical-align: top;\n",
       "    }\n",
       "\n",
       "    .dataframe thead th {\n",
       "        text-align: right;\n",
       "    }\n",
       "</style>\n",
       "<table border=\"1\" class=\"dataframe\">\n",
       "  <thead>\n",
       "    <tr style=\"text-align: right;\">\n",
       "      <th></th>\n",
       "      <th>id_colaborador;id_ultimo_jefe;seniority;modalidad_trabajo;distancia_oficina;dias_baja_salud;genero;canal_reclutamiento;permanencia_promedio;fecha_nacimiento;salario;performance_score;psi_score;fecha_incorporacion;estado_civil;abandono_6meses</th>\n",
       "    </tr>\n",
       "  </thead>\n",
       "  <tbody>\n",
       "    <tr>\n",
       "      <th>0</th>\n",
       "      <td>100247;102074;1;Híbrida;1.76;1;Mujer;Ferias &amp; ...</td>\n",
       "    </tr>\n",
       "    <tr>\n",
       "      <th>1</th>\n",
       "      <td>103355;102115;1;Híbrida;0.76;2;Hombre;Ferias &amp;...</td>\n",
       "    </tr>\n",
       "    <tr>\n",
       "      <th>2</th>\n",
       "      <td>100669;102060;1;Híbrida;4.95;3;Mujer;Referidos...</td>\n",
       "    </tr>\n",
       "    <tr>\n",
       "      <th>3</th>\n",
       "      <td>103760;102062;1;Híbrida;13.03;2;Hombre;Linkedi...</td>\n",
       "    </tr>\n",
       "    <tr>\n",
       "      <th>4</th>\n",
       "      <td>100965;102062;1;Híbrida;13.045;2;Hombre;Linked...</td>\n",
       "    </tr>\n",
       "  </tbody>\n",
       "</table>\n",
       "</div>"
      ],
      "text/plain": [
       "  id_colaborador;id_ultimo_jefe;seniority;modalidad_trabajo;distancia_oficina;dias_baja_salud;genero;canal_reclutamiento;permanencia_promedio;fecha_nacimiento;salario;performance_score;psi_score;fecha_incorporacion;estado_civil;abandono_6meses\n",
       "0  100247;102074;1;Híbrida;1.76;1;Mujer;Ferias & ...                                                                                                                                                                                               \n",
       "1  103355;102115;1;Híbrida;0.76;2;Hombre;Ferias &...                                                                                                                                                                                               \n",
       "2  100669;102060;1;Híbrida;4.95;3;Mujer;Referidos...                                                                                                                                                                                               \n",
       "3  103760;102062;1;Híbrida;13.03;2;Hombre;Linkedi...                                                                                                                                                                                               \n",
       "4  100965;102062;1;Híbrida;13.045;2;Hombre;Linked...                                                                                                                                                                                               "
      ]
     },
     "execution_count": 12,
     "metadata": {},
     "output_type": "execute_result"
    }
   ],
   "source": [
    "# Convertir la variable categórica en numérica\n",
    "data_train.head(5)"
   ]
  },
  {
   "cell_type": "code",
   "execution_count": null,
   "metadata": {},
   "outputs": [],
   "source": []
  }
 ],
 "metadata": {
  "kernelspec": {
   "display_name": "Python 3",
   "language": "python",
   "name": "python3"
  },
  "language_info": {
   "codemirror_mode": {
    "name": "ipython",
    "version": 3
   },
   "file_extension": ".py",
   "mimetype": "text/x-python",
   "name": "python",
   "nbconvert_exporter": "python",
   "pygments_lexer": "ipython3",
   "version": "3.12.2"
  }
 },
 "nbformat": 4,
 "nbformat_minor": 2
}
