{
 "cells": [
  {
   "cell_type": "code",
   "execution_count": 1,
   "metadata": {},
   "outputs": [],
   "source": [
    "import pandas as pd"
   ]
  },
  {
   "cell_type": "code",
   "execution_count": 3,
   "metadata": {},
   "outputs": [
    {
     "name": "stdout",
     "output_type": "stream",
     "text": [
      "  id_colaborador;id_ultimo_jefe;seniority;modalidad_trabajo;distancia_oficina;dias_baja_salud;genero;canal_reclutamiento;permanencia_promedio;fecha_nacimiento;salario;performance_score;psi_score;fecha_incorporacion;estado_civil;abandono_6meses\n",
      "0  100247;102074;1;Híbrida;1.76;1;Mujer;Ferias & ...                                                                                                                                                                                               \n",
      "1  103355;102115;1;Híbrida;0.76;2;Hombre;Ferias &...                                                                                                                                                                                               \n",
      "2  100669;102060;1;Híbrida;4.95;3;Mujer;Referidos...                                                                                                                                                                                               \n",
      "3  103760;102062;1;Híbrida;13.03;2;Hombre;Linkedi...                                                                                                                                                                                               \n",
      "4  100965;102062;1;Híbrida;13.045;2;Hombre;Linked...                                                                                                                                                                                               \n"
     ]
    }
   ],
   "source": [
    "data = pd.read_csv('train_data.csv')"
   ]
  },
  {
   "cell_type": "code",
   "execution_count": null,
   "metadata": {},
   "outputs": [],
   "source": []
  }
 ],
 "metadata": {
  "kernelspec": {
   "display_name": "Python 3",
   "language": "python",
   "name": "python3"
  },
  "language_info": {
   "codemirror_mode": {
    "name": "ipython",
    "version": 3
   },
   "file_extension": ".py",
   "mimetype": "text/x-python",
   "name": "python",
   "nbconvert_exporter": "python",
   "pygments_lexer": "ipython3",
   "version": "3.12.2"
  }
 },
 "nbformat": 4,
 "nbformat_minor": 2
}
